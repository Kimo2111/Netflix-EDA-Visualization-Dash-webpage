{
 "cells": [
  {
   "cell_type": "markdown",
   "id": "6efbf04e",
   "metadata": {},
   "source": [
    "# Netflix"
   ]
  },
  {
   "cell_type": "code",
   "execution_count": 1,
   "id": "bbd5decd",
   "metadata": {},
   "outputs": [],
   "source": [
    "#imports\n",
    "import pandas as pd\n",
    "import numpy as np\n",
    "import plotly.express as px"
   ]
  },
  {
   "cell_type": "code",
   "execution_count": 2,
   "id": "431a17ab",
   "metadata": {},
   "outputs": [
    {
     "data": {
      "text/html": [
       "<div>\n",
       "<style scoped>\n",
       "    .dataframe tbody tr th:only-of-type {\n",
       "        vertical-align: middle;\n",
       "    }\n",
       "\n",
       "    .dataframe tbody tr th {\n",
       "        vertical-align: top;\n",
       "    }\n",
       "\n",
       "    .dataframe thead th {\n",
       "        text-align: right;\n",
       "    }\n",
       "</style>\n",
       "<table border=\"1\" class=\"dataframe\">\n",
       "  <thead>\n",
       "    <tr style=\"text-align: right;\">\n",
       "      <th></th>\n",
       "      <th>show_id</th>\n",
       "      <th>type</th>\n",
       "      <th>title</th>\n",
       "      <th>director</th>\n",
       "      <th>cast</th>\n",
       "      <th>country</th>\n",
       "      <th>date_added</th>\n",
       "      <th>release_year</th>\n",
       "      <th>rating</th>\n",
       "      <th>duration</th>\n",
       "      <th>listed_in</th>\n",
       "      <th>description</th>\n",
       "    </tr>\n",
       "  </thead>\n",
       "  <tbody>\n",
       "    <tr>\n",
       "      <th>0</th>\n",
       "      <td>s1</td>\n",
       "      <td>Movie</td>\n",
       "      <td>Dick Johnson Is Dead</td>\n",
       "      <td>Kirsten Johnson</td>\n",
       "      <td>NaN</td>\n",
       "      <td>United States</td>\n",
       "      <td>September 25, 2021</td>\n",
       "      <td>2020</td>\n",
       "      <td>PG-13</td>\n",
       "      <td>90 min</td>\n",
       "      <td>Documentaries</td>\n",
       "      <td>As her father nears the end of his life, filmm...</td>\n",
       "    </tr>\n",
       "    <tr>\n",
       "      <th>1</th>\n",
       "      <td>s2</td>\n",
       "      <td>TV Show</td>\n",
       "      <td>Blood &amp; Water</td>\n",
       "      <td>NaN</td>\n",
       "      <td>Ama Qamata, Khosi Ngema, Gail Mabalane, Thaban...</td>\n",
       "      <td>South Africa</td>\n",
       "      <td>September 24, 2021</td>\n",
       "      <td>2021</td>\n",
       "      <td>TV-MA</td>\n",
       "      <td>2 Seasons</td>\n",
       "      <td>International TV Shows, TV Dramas, TV Mysteries</td>\n",
       "      <td>After crossing paths at a party, a Cape Town t...</td>\n",
       "    </tr>\n",
       "    <tr>\n",
       "      <th>2</th>\n",
       "      <td>s3</td>\n",
       "      <td>TV Show</td>\n",
       "      <td>Ganglands</td>\n",
       "      <td>Julien Leclercq</td>\n",
       "      <td>Sami Bouajila, Tracy Gotoas, Samuel Jouy, Nabi...</td>\n",
       "      <td>NaN</td>\n",
       "      <td>September 24, 2021</td>\n",
       "      <td>2021</td>\n",
       "      <td>TV-MA</td>\n",
       "      <td>1 Season</td>\n",
       "      <td>Crime TV Shows, International TV Shows, TV Act...</td>\n",
       "      <td>To protect his family from a powerful drug lor...</td>\n",
       "    </tr>\n",
       "    <tr>\n",
       "      <th>3</th>\n",
       "      <td>s4</td>\n",
       "      <td>TV Show</td>\n",
       "      <td>Jailbirds New Orleans</td>\n",
       "      <td>NaN</td>\n",
       "      <td>NaN</td>\n",
       "      <td>NaN</td>\n",
       "      <td>September 24, 2021</td>\n",
       "      <td>2021</td>\n",
       "      <td>TV-MA</td>\n",
       "      <td>1 Season</td>\n",
       "      <td>Docuseries, Reality TV</td>\n",
       "      <td>Feuds, flirtations and toilet talk go down amo...</td>\n",
       "    </tr>\n",
       "    <tr>\n",
       "      <th>4</th>\n",
       "      <td>s5</td>\n",
       "      <td>TV Show</td>\n",
       "      <td>Kota Factory</td>\n",
       "      <td>NaN</td>\n",
       "      <td>Mayur More, Jitendra Kumar, Ranjan Raj, Alam K...</td>\n",
       "      <td>India</td>\n",
       "      <td>September 24, 2021</td>\n",
       "      <td>2021</td>\n",
       "      <td>TV-MA</td>\n",
       "      <td>2 Seasons</td>\n",
       "      <td>International TV Shows, Romantic TV Shows, TV ...</td>\n",
       "      <td>In a city of coaching centers known to train I...</td>\n",
       "    </tr>\n",
       "  </tbody>\n",
       "</table>\n",
       "</div>"
      ],
      "text/plain": [
       "  show_id     type                  title         director  \\\n",
       "0      s1    Movie   Dick Johnson Is Dead  Kirsten Johnson   \n",
       "1      s2  TV Show          Blood & Water              NaN   \n",
       "2      s3  TV Show              Ganglands  Julien Leclercq   \n",
       "3      s4  TV Show  Jailbirds New Orleans              NaN   \n",
       "4      s5  TV Show           Kota Factory              NaN   \n",
       "\n",
       "                                                cast        country  \\\n",
       "0                                                NaN  United States   \n",
       "1  Ama Qamata, Khosi Ngema, Gail Mabalane, Thaban...   South Africa   \n",
       "2  Sami Bouajila, Tracy Gotoas, Samuel Jouy, Nabi...            NaN   \n",
       "3                                                NaN            NaN   \n",
       "4  Mayur More, Jitendra Kumar, Ranjan Raj, Alam K...          India   \n",
       "\n",
       "           date_added  release_year rating   duration  \\\n",
       "0  September 25, 2021          2020  PG-13     90 min   \n",
       "1  September 24, 2021          2021  TV-MA  2 Seasons   \n",
       "2  September 24, 2021          2021  TV-MA   1 Season   \n",
       "3  September 24, 2021          2021  TV-MA   1 Season   \n",
       "4  September 24, 2021          2021  TV-MA  2 Seasons   \n",
       "\n",
       "                                           listed_in  \\\n",
       "0                                      Documentaries   \n",
       "1    International TV Shows, TV Dramas, TV Mysteries   \n",
       "2  Crime TV Shows, International TV Shows, TV Act...   \n",
       "3                             Docuseries, Reality TV   \n",
       "4  International TV Shows, Romantic TV Shows, TV ...   \n",
       "\n",
       "                                         description  \n",
       "0  As her father nears the end of his life, filmm...  \n",
       "1  After crossing paths at a party, a Cape Town t...  \n",
       "2  To protect his family from a powerful drug lor...  \n",
       "3  Feuds, flirtations and toilet talk go down amo...  \n",
       "4  In a city of coaching centers known to train I...  "
      ]
     },
     "execution_count": 2,
     "metadata": {},
     "output_type": "execute_result"
    }
   ],
   "source": [
    "df = pd.read_csv(r\"C:\\Users\\karim\\Desktop\\CDSP\\Datasets\\netflix_titles.csv\")\n",
    "df.head()"
   ]
  },
  {
   "cell_type": "code",
   "execution_count": 3,
   "id": "800da401",
   "metadata": {},
   "outputs": [
    {
     "name": "stdout",
     "output_type": "stream",
     "text": [
      "<class 'pandas.core.frame.DataFrame'>\n",
      "RangeIndex: 8807 entries, 0 to 8806\n",
      "Data columns (total 12 columns):\n",
      " #   Column        Non-Null Count  Dtype \n",
      "---  ------        --------------  ----- \n",
      " 0   show_id       8807 non-null   object\n",
      " 1   type          8807 non-null   object\n",
      " 2   title         8807 non-null   object\n",
      " 3   director      6173 non-null   object\n",
      " 4   cast          7982 non-null   object\n",
      " 5   country       7976 non-null   object\n",
      " 6   date_added    8797 non-null   object\n",
      " 7   release_year  8807 non-null   int64 \n",
      " 8   rating        8803 non-null   object\n",
      " 9   duration      8804 non-null   object\n",
      " 10  listed_in     8807 non-null   object\n",
      " 11  description   8807 non-null   object\n",
      "dtypes: int64(1), object(11)\n",
      "memory usage: 825.8+ KB\n"
     ]
    }
   ],
   "source": [
    "df.info()"
   ]
  },
  {
   "cell_type": "code",
   "execution_count": 4,
   "id": "6005a083",
   "metadata": {},
   "outputs": [
    {
     "data": {
      "text/html": [
       "<div>\n",
       "<style scoped>\n",
       "    .dataframe tbody tr th:only-of-type {\n",
       "        vertical-align: middle;\n",
       "    }\n",
       "\n",
       "    .dataframe tbody tr th {\n",
       "        vertical-align: top;\n",
       "    }\n",
       "\n",
       "    .dataframe thead th {\n",
       "        text-align: right;\n",
       "    }\n",
       "</style>\n",
       "<table border=\"1\" class=\"dataframe\">\n",
       "  <thead>\n",
       "    <tr style=\"text-align: right;\">\n",
       "      <th></th>\n",
       "      <th>release_year</th>\n",
       "    </tr>\n",
       "  </thead>\n",
       "  <tbody>\n",
       "    <tr>\n",
       "      <th>count</th>\n",
       "      <td>8807.000000</td>\n",
       "    </tr>\n",
       "    <tr>\n",
       "      <th>mean</th>\n",
       "      <td>2014.180198</td>\n",
       "    </tr>\n",
       "    <tr>\n",
       "      <th>std</th>\n",
       "      <td>8.819312</td>\n",
       "    </tr>\n",
       "    <tr>\n",
       "      <th>min</th>\n",
       "      <td>1925.000000</td>\n",
       "    </tr>\n",
       "    <tr>\n",
       "      <th>25%</th>\n",
       "      <td>2013.000000</td>\n",
       "    </tr>\n",
       "    <tr>\n",
       "      <th>50%</th>\n",
       "      <td>2017.000000</td>\n",
       "    </tr>\n",
       "    <tr>\n",
       "      <th>75%</th>\n",
       "      <td>2019.000000</td>\n",
       "    </tr>\n",
       "    <tr>\n",
       "      <th>max</th>\n",
       "      <td>2021.000000</td>\n",
       "    </tr>\n",
       "  </tbody>\n",
       "</table>\n",
       "</div>"
      ],
      "text/plain": [
       "       release_year\n",
       "count   8807.000000\n",
       "mean    2014.180198\n",
       "std        8.819312\n",
       "min     1925.000000\n",
       "25%     2013.000000\n",
       "50%     2017.000000\n",
       "75%     2019.000000\n",
       "max     2021.000000"
      ]
     },
     "execution_count": 4,
     "metadata": {},
     "output_type": "execute_result"
    }
   ],
   "source": [
    "df.describe()"
   ]
  },
  {
   "cell_type": "markdown",
   "id": "e14537e4",
   "metadata": {},
   "source": [
    "# EDA and Data cleaning"
   ]
  },
  {
   "cell_type": "code",
   "execution_count": 5,
   "id": "4c0e42d1",
   "metadata": {
    "scrolled": true
   },
   "outputs": [
    {
     "data": {
      "text/plain": [
       "show_id            0\n",
       "type               0\n",
       "title              0\n",
       "director        2634\n",
       "cast             825\n",
       "country          831\n",
       "date_added        10\n",
       "release_year       0\n",
       "rating             4\n",
       "duration           3\n",
       "listed_in          0\n",
       "description        0\n",
       "dtype: int64"
      ]
     },
     "execution_count": 5,
     "metadata": {},
     "output_type": "execute_result"
    }
   ],
   "source": [
    "# Checking for null vals\n",
    "df.isnull().sum()"
   ]
  },
  {
   "cell_type": "markdown",
   "id": "3ba346aa",
   "metadata": {},
   "source": [
    "* A total of 2634 null values for director column - Needs to be fixed/filled with unknown - can not be removed\n",
    "* 825 Null values for cast column - Fill with null - can not be removed\n",
    "* 831 Null values for country - Needs to be fixed/filled with unknown - can not be removed\n",
    "* Rating (4) - Duration (3) - Duration will be dropped - Rating will be replaced with mean rating value\n",
    "* Date added 10 but can be subbed by the release year"
   ]
  },
  {
   "cell_type": "code",
   "execution_count": 6,
   "id": "4cecaacf",
   "metadata": {},
   "outputs": [
    {
     "data": {
      "text/plain": [
       "False    8807\n",
       "Name: show_id, dtype: int64"
      ]
     },
     "execution_count": 6,
     "metadata": {},
     "output_type": "execute_result"
    }
   ],
   "source": [
    "# show_id should be unique ID for every show\n",
    "# Checking if duplicate IDs exist\n",
    "df['show_id'].duplicated().value_counts()"
   ]
  },
  {
   "cell_type": "code",
   "execution_count": 7,
   "id": "5b08edca",
   "metadata": {},
   "outputs": [
    {
     "data": {
      "text/plain": [
       "False    8807\n",
       "Name: title, dtype: int64"
      ]
     },
     "execution_count": 7,
     "metadata": {},
     "output_type": "execute_result"
    }
   ],
   "source": [
    "# Checking if duplicate titles exist\n",
    "df['title'].duplicated().value_counts()"
   ]
  },
  {
   "cell_type": "code",
   "execution_count": 8,
   "id": "4ee3242a",
   "metadata": {},
   "outputs": [],
   "source": [
    "# Let's start by cleaning the null values for director column\n",
    "# First let's check if director column has any relation with cast column by using a data without any null values\n",
    "cleanedDf = df.dropna()"
   ]
  },
  {
   "cell_type": "code",
   "execution_count": 9,
   "id": "02f6d9fd",
   "metadata": {},
   "outputs": [
    {
     "data": {
      "text/plain": [
       "False    5267\n",
       "True       65\n",
       "Name: director, dtype: int64"
      ]
     },
     "execution_count": 9,
     "metadata": {},
     "output_type": "execute_result"
    }
   ],
   "source": [
    "cleanedDf['director'].isin(cleanedDf['cast']).value_counts()"
   ]
  },
  {
   "cell_type": "markdown",
   "id": "ffec9af7",
   "metadata": {},
   "source": [
    "* Very weak relation between director and cast cols thus can't assume a value"
   ]
  },
  {
   "cell_type": "code",
   "execution_count": 10,
   "id": "f256f4f8",
   "metadata": {},
   "outputs": [],
   "source": [
    "# Fill null vals with unknown in director&cast\n",
    "df['cast'].replace(np.nan, 'unknown', inplace = True)\n",
    "df['director'].replace(np.nan, 'unknown', inplace = True)"
   ]
  },
  {
   "cell_type": "code",
   "execution_count": 11,
   "id": "5d45aa08",
   "metadata": {},
   "outputs": [
    {
     "data": {
      "text/plain": [
       "United States                             2818\n",
       "India                                      972\n",
       "United Kingdom                             419\n",
       "Japan                                      245\n",
       "South Korea                                199\n",
       "                                          ... \n",
       "Romania, Bulgaria, Hungary                   1\n",
       "Uruguay, Guatemala                           1\n",
       "France, Senegal, Belgium                     1\n",
       "Mexico, United States, Spain, Colombia       1\n",
       "United Arab Emirates, Jordan                 1\n",
       "Name: country, Length: 748, dtype: int64"
      ]
     },
     "execution_count": 11,
     "metadata": {},
     "output_type": "execute_result"
    }
   ],
   "source": [
    "#Fixing country col by replacing all nan values with the most frequent country\n",
    "df['country'].value_counts()"
   ]
  },
  {
   "cell_type": "code",
   "execution_count": 12,
   "id": "965a6252",
   "metadata": {},
   "outputs": [],
   "source": [
    "df['country'] = df['country'].fillna(df['country'].mode()[0])"
   ]
  },
  {
   "cell_type": "code",
   "execution_count": 13,
   "id": "5aa04ab6",
   "metadata": {},
   "outputs": [
    {
     "data": {
      "text/plain": [
       "United States                             3649\n",
       "India                                      972\n",
       "United Kingdom                             419\n",
       "Japan                                      245\n",
       "South Korea                                199\n",
       "                                          ... \n",
       "Romania, Bulgaria, Hungary                   1\n",
       "Uruguay, Guatemala                           1\n",
       "France, Senegal, Belgium                     1\n",
       "Mexico, United States, Spain, Colombia       1\n",
       "United Arab Emirates, Jordan                 1\n",
       "Name: country, Length: 748, dtype: int64"
      ]
     },
     "execution_count": 13,
     "metadata": {},
     "output_type": "execute_result"
    }
   ],
   "source": [
    "df['country'].value_counts()"
   ]
  },
  {
   "cell_type": "code",
   "execution_count": 14,
   "id": "878e7c34",
   "metadata": {},
   "outputs": [
    {
     "data": {
      "text/plain": [
       "TV-MA       3207\n",
       "TV-14       2160\n",
       "TV-PG        863\n",
       "R            799\n",
       "PG-13        490\n",
       "TV-Y7        334\n",
       "TV-Y         307\n",
       "PG           287\n",
       "TV-G         220\n",
       "NR            80\n",
       "G             41\n",
       "TV-Y7-FV       6\n",
       "NC-17          3\n",
       "UR             3\n",
       "74 min         1\n",
       "84 min         1\n",
       "66 min         1\n",
       "Name: rating, dtype: int64"
      ]
     },
     "execution_count": 14,
     "metadata": {},
     "output_type": "execute_result"
    }
   ],
   "source": [
    "# Replacing rating with most occurent rating\n",
    "df['rating'].value_counts()"
   ]
  },
  {
   "cell_type": "code",
   "execution_count": 15,
   "id": "75d78955",
   "metadata": {},
   "outputs": [],
   "source": [
    "df['rating'] = df['rating'].fillna(df['rating'].mode()[0])"
   ]
  },
  {
   "cell_type": "code",
   "execution_count": 16,
   "id": "8f63e845",
   "metadata": {},
   "outputs": [],
   "source": [
    "#Dropping NaN vals in the rest of the data\n",
    "df.dropna(inplace=True)"
   ]
  },
  {
   "cell_type": "code",
   "execution_count": 17,
   "id": "6548c161",
   "metadata": {},
   "outputs": [],
   "source": [
    "# Transforming date_added column to date time format and creating seperate columns for year and month\n",
    "df['date_added'] = pd.to_datetime(df['date_added'])\n",
    "df['year_added'] = df['date_added'].dt.year\n",
    "df['month_added'] = df['date_added'].dt.month\n"
   ]
  },
  {
   "cell_type": "code",
   "execution_count": 18,
   "id": "f8a44936",
   "metadata": {},
   "outputs": [
    {
     "name": "stdout",
     "output_type": "stream",
     "text": [
      "<class 'pandas.core.frame.DataFrame'>\n",
      "Int64Index: 8794 entries, 0 to 8806\n",
      "Data columns (total 14 columns):\n",
      " #   Column        Non-Null Count  Dtype         \n",
      "---  ------        --------------  -----         \n",
      " 0   show_id       8794 non-null   object        \n",
      " 1   type          8794 non-null   object        \n",
      " 2   title         8794 non-null   object        \n",
      " 3   director      8794 non-null   object        \n",
      " 4   cast          8794 non-null   object        \n",
      " 5   country       8794 non-null   object        \n",
      " 6   date_added    8794 non-null   datetime64[ns]\n",
      " 7   release_year  8794 non-null   int64         \n",
      " 8   rating        8794 non-null   object        \n",
      " 9   duration      8794 non-null   object        \n",
      " 10  listed_in     8794 non-null   object        \n",
      " 11  description   8794 non-null   object        \n",
      " 12  year_added    8794 non-null   int64         \n",
      " 13  month_added   8794 non-null   int64         \n",
      "dtypes: datetime64[ns](1), int64(3), object(10)\n",
      "memory usage: 1.0+ MB\n"
     ]
    }
   ],
   "source": [
    "# Final look at our data after cleaning\n",
    "df.info()"
   ]
  },
  {
   "cell_type": "markdown",
   "id": "42dd4e59",
   "metadata": {},
   "source": [
    "# Data visualization"
   ]
  },
  {
   "cell_type": "markdown",
   "id": "b17c90fc",
   "metadata": {},
   "source": [
    "# Pie chart between the number of Movies and TV Shows"
   ]
  },
  {
   "cell_type": "code",
   "execution_count": 80,
   "id": "cdf23944",
   "metadata": {},
   "outputs": [
    {
     "data": {
      "application/vnd.plotly.v1+json": {
       "config": {
        "plotlyServerURL": "https://plot.ly"
       },
       "data": [
        {
         "domain": {
          "x": [
           0,
           1
          ],
          "y": [
           0,
           1
          ]
         },
         "hovertemplate": "label=%{label}<br>value=%{value}<extra></extra>",
         "labels": [
          "Movie",
          "TV Show"
         ],
         "legendgroup": "",
         "name": "",
         "showlegend": true,
         "type": "pie",
         "values": [
          6128,
          2666
         ]
        }
       ],
       "layout": {
        "legend": {
         "tracegroupgap": 0
        },
        "piecolorway": [
         "#db0000",
         "#000000"
        ],
        "template": {
         "data": {
          "bar": [
           {
            "error_x": {
             "color": "#2a3f5f"
            },
            "error_y": {
             "color": "#2a3f5f"
            },
            "marker": {
             "line": {
              "color": "#E5ECF6",
              "width": 0.5
             },
             "pattern": {
              "fillmode": "overlay",
              "size": 10,
              "solidity": 0.2
             }
            },
            "type": "bar"
           }
          ],
          "barpolar": [
           {
            "marker": {
             "line": {
              "color": "#E5ECF6",
              "width": 0.5
             },
             "pattern": {
              "fillmode": "overlay",
              "size": 10,
              "solidity": 0.2
             }
            },
            "type": "barpolar"
           }
          ],
          "carpet": [
           {
            "aaxis": {
             "endlinecolor": "#2a3f5f",
             "gridcolor": "white",
             "linecolor": "white",
             "minorgridcolor": "white",
             "startlinecolor": "#2a3f5f"
            },
            "baxis": {
             "endlinecolor": "#2a3f5f",
             "gridcolor": "white",
             "linecolor": "white",
             "minorgridcolor": "white",
             "startlinecolor": "#2a3f5f"
            },
            "type": "carpet"
           }
          ],
          "choropleth": [
           {
            "colorbar": {
             "outlinewidth": 0,
             "ticks": ""
            },
            "type": "choropleth"
           }
          ],
          "contour": [
           {
            "colorbar": {
             "outlinewidth": 0,
             "ticks": ""
            },
            "colorscale": [
             [
              0,
              "#0d0887"
             ],
             [
              0.1111111111111111,
              "#46039f"
             ],
             [
              0.2222222222222222,
              "#7201a8"
             ],
             [
              0.3333333333333333,
              "#9c179e"
             ],
             [
              0.4444444444444444,
              "#bd3786"
             ],
             [
              0.5555555555555556,
              "#d8576b"
             ],
             [
              0.6666666666666666,
              "#ed7953"
             ],
             [
              0.7777777777777778,
              "#fb9f3a"
             ],
             [
              0.8888888888888888,
              "#fdca26"
             ],
             [
              1,
              "#f0f921"
             ]
            ],
            "type": "contour"
           }
          ],
          "contourcarpet": [
           {
            "colorbar": {
             "outlinewidth": 0,
             "ticks": ""
            },
            "type": "contourcarpet"
           }
          ],
          "heatmap": [
           {
            "colorbar": {
             "outlinewidth": 0,
             "ticks": ""
            },
            "colorscale": [
             [
              0,
              "#0d0887"
             ],
             [
              0.1111111111111111,
              "#46039f"
             ],
             [
              0.2222222222222222,
              "#7201a8"
             ],
             [
              0.3333333333333333,
              "#9c179e"
             ],
             [
              0.4444444444444444,
              "#bd3786"
             ],
             [
              0.5555555555555556,
              "#d8576b"
             ],
             [
              0.6666666666666666,
              "#ed7953"
             ],
             [
              0.7777777777777778,
              "#fb9f3a"
             ],
             [
              0.8888888888888888,
              "#fdca26"
             ],
             [
              1,
              "#f0f921"
             ]
            ],
            "type": "heatmap"
           }
          ],
          "heatmapgl": [
           {
            "colorbar": {
             "outlinewidth": 0,
             "ticks": ""
            },
            "colorscale": [
             [
              0,
              "#0d0887"
             ],
             [
              0.1111111111111111,
              "#46039f"
             ],
             [
              0.2222222222222222,
              "#7201a8"
             ],
             [
              0.3333333333333333,
              "#9c179e"
             ],
             [
              0.4444444444444444,
              "#bd3786"
             ],
             [
              0.5555555555555556,
              "#d8576b"
             ],
             [
              0.6666666666666666,
              "#ed7953"
             ],
             [
              0.7777777777777778,
              "#fb9f3a"
             ],
             [
              0.8888888888888888,
              "#fdca26"
             ],
             [
              1,
              "#f0f921"
             ]
            ],
            "type": "heatmapgl"
           }
          ],
          "histogram": [
           {
            "marker": {
             "pattern": {
              "fillmode": "overlay",
              "size": 10,
              "solidity": 0.2
             }
            },
            "type": "histogram"
           }
          ],
          "histogram2d": [
           {
            "colorbar": {
             "outlinewidth": 0,
             "ticks": ""
            },
            "colorscale": [
             [
              0,
              "#0d0887"
             ],
             [
              0.1111111111111111,
              "#46039f"
             ],
             [
              0.2222222222222222,
              "#7201a8"
             ],
             [
              0.3333333333333333,
              "#9c179e"
             ],
             [
              0.4444444444444444,
              "#bd3786"
             ],
             [
              0.5555555555555556,
              "#d8576b"
             ],
             [
              0.6666666666666666,
              "#ed7953"
             ],
             [
              0.7777777777777778,
              "#fb9f3a"
             ],
             [
              0.8888888888888888,
              "#fdca26"
             ],
             [
              1,
              "#f0f921"
             ]
            ],
            "type": "histogram2d"
           }
          ],
          "histogram2dcontour": [
           {
            "colorbar": {
             "outlinewidth": 0,
             "ticks": ""
            },
            "colorscale": [
             [
              0,
              "#0d0887"
             ],
             [
              0.1111111111111111,
              "#46039f"
             ],
             [
              0.2222222222222222,
              "#7201a8"
             ],
             [
              0.3333333333333333,
              "#9c179e"
             ],
             [
              0.4444444444444444,
              "#bd3786"
             ],
             [
              0.5555555555555556,
              "#d8576b"
             ],
             [
              0.6666666666666666,
              "#ed7953"
             ],
             [
              0.7777777777777778,
              "#fb9f3a"
             ],
             [
              0.8888888888888888,
              "#fdca26"
             ],
             [
              1,
              "#f0f921"
             ]
            ],
            "type": "histogram2dcontour"
           }
          ],
          "mesh3d": [
           {
            "colorbar": {
             "outlinewidth": 0,
             "ticks": ""
            },
            "type": "mesh3d"
           }
          ],
          "parcoords": [
           {
            "line": {
             "colorbar": {
              "outlinewidth": 0,
              "ticks": ""
             }
            },
            "type": "parcoords"
           }
          ],
          "pie": [
           {
            "automargin": true,
            "type": "pie"
           }
          ],
          "scatter": [
           {
            "fillpattern": {
             "fillmode": "overlay",
             "size": 10,
             "solidity": 0.2
            },
            "type": "scatter"
           }
          ],
          "scatter3d": [
           {
            "line": {
             "colorbar": {
              "outlinewidth": 0,
              "ticks": ""
             }
            },
            "marker": {
             "colorbar": {
              "outlinewidth": 0,
              "ticks": ""
             }
            },
            "type": "scatter3d"
           }
          ],
          "scattercarpet": [
           {
            "marker": {
             "colorbar": {
              "outlinewidth": 0,
              "ticks": ""
             }
            },
            "type": "scattercarpet"
           }
          ],
          "scattergeo": [
           {
            "marker": {
             "colorbar": {
              "outlinewidth": 0,
              "ticks": ""
             }
            },
            "type": "scattergeo"
           }
          ],
          "scattergl": [
           {
            "marker": {
             "colorbar": {
              "outlinewidth": 0,
              "ticks": ""
             }
            },
            "type": "scattergl"
           }
          ],
          "scattermapbox": [
           {
            "marker": {
             "colorbar": {
              "outlinewidth": 0,
              "ticks": ""
             }
            },
            "type": "scattermapbox"
           }
          ],
          "scatterpolar": [
           {
            "marker": {
             "colorbar": {
              "outlinewidth": 0,
              "ticks": ""
             }
            },
            "type": "scatterpolar"
           }
          ],
          "scatterpolargl": [
           {
            "marker": {
             "colorbar": {
              "outlinewidth": 0,
              "ticks": ""
             }
            },
            "type": "scatterpolargl"
           }
          ],
          "scatterternary": [
           {
            "marker": {
             "colorbar": {
              "outlinewidth": 0,
              "ticks": ""
             }
            },
            "type": "scatterternary"
           }
          ],
          "surface": [
           {
            "colorbar": {
             "outlinewidth": 0,
             "ticks": ""
            },
            "colorscale": [
             [
              0,
              "#0d0887"
             ],
             [
              0.1111111111111111,
              "#46039f"
             ],
             [
              0.2222222222222222,
              "#7201a8"
             ],
             [
              0.3333333333333333,
              "#9c179e"
             ],
             [
              0.4444444444444444,
              "#bd3786"
             ],
             [
              0.5555555555555556,
              "#d8576b"
             ],
             [
              0.6666666666666666,
              "#ed7953"
             ],
             [
              0.7777777777777778,
              "#fb9f3a"
             ],
             [
              0.8888888888888888,
              "#fdca26"
             ],
             [
              1,
              "#f0f921"
             ]
            ],
            "type": "surface"
           }
          ],
          "table": [
           {
            "cells": {
             "fill": {
              "color": "#EBF0F8"
             },
             "line": {
              "color": "white"
             }
            },
            "header": {
             "fill": {
              "color": "#C8D4E3"
             },
             "line": {
              "color": "white"
             }
            },
            "type": "table"
           }
          ]
         },
         "layout": {
          "annotationdefaults": {
           "arrowcolor": "#2a3f5f",
           "arrowhead": 0,
           "arrowwidth": 1
          },
          "autotypenumbers": "strict",
          "coloraxis": {
           "colorbar": {
            "outlinewidth": 0,
            "ticks": ""
           }
          },
          "colorscale": {
           "diverging": [
            [
             0,
             "#8e0152"
            ],
            [
             0.1,
             "#c51b7d"
            ],
            [
             0.2,
             "#de77ae"
            ],
            [
             0.3,
             "#f1b6da"
            ],
            [
             0.4,
             "#fde0ef"
            ],
            [
             0.5,
             "#f7f7f7"
            ],
            [
             0.6,
             "#e6f5d0"
            ],
            [
             0.7,
             "#b8e186"
            ],
            [
             0.8,
             "#7fbc41"
            ],
            [
             0.9,
             "#4d9221"
            ],
            [
             1,
             "#276419"
            ]
           ],
           "sequential": [
            [
             0,
             "#0d0887"
            ],
            [
             0.1111111111111111,
             "#46039f"
            ],
            [
             0.2222222222222222,
             "#7201a8"
            ],
            [
             0.3333333333333333,
             "#9c179e"
            ],
            [
             0.4444444444444444,
             "#bd3786"
            ],
            [
             0.5555555555555556,
             "#d8576b"
            ],
            [
             0.6666666666666666,
             "#ed7953"
            ],
            [
             0.7777777777777778,
             "#fb9f3a"
            ],
            [
             0.8888888888888888,
             "#fdca26"
            ],
            [
             1,
             "#f0f921"
            ]
           ],
           "sequentialminus": [
            [
             0,
             "#0d0887"
            ],
            [
             0.1111111111111111,
             "#46039f"
            ],
            [
             0.2222222222222222,
             "#7201a8"
            ],
            [
             0.3333333333333333,
             "#9c179e"
            ],
            [
             0.4444444444444444,
             "#bd3786"
            ],
            [
             0.5555555555555556,
             "#d8576b"
            ],
            [
             0.6666666666666666,
             "#ed7953"
            ],
            [
             0.7777777777777778,
             "#fb9f3a"
            ],
            [
             0.8888888888888888,
             "#fdca26"
            ],
            [
             1,
             "#f0f921"
            ]
           ]
          },
          "colorway": [
           "#636efa",
           "#EF553B",
           "#00cc96",
           "#ab63fa",
           "#FFA15A",
           "#19d3f3",
           "#FF6692",
           "#B6E880",
           "#FF97FF",
           "#FECB52"
          ],
          "font": {
           "color": "#2a3f5f"
          },
          "geo": {
           "bgcolor": "white",
           "lakecolor": "white",
           "landcolor": "#E5ECF6",
           "showlakes": true,
           "showland": true,
           "subunitcolor": "white"
          },
          "hoverlabel": {
           "align": "left"
          },
          "hovermode": "closest",
          "mapbox": {
           "style": "light"
          },
          "paper_bgcolor": "white",
          "plot_bgcolor": "#E5ECF6",
          "polar": {
           "angularaxis": {
            "gridcolor": "white",
            "linecolor": "white",
            "ticks": ""
           },
           "bgcolor": "#E5ECF6",
           "radialaxis": {
            "gridcolor": "white",
            "linecolor": "white",
            "ticks": ""
           }
          },
          "scene": {
           "xaxis": {
            "backgroundcolor": "#E5ECF6",
            "gridcolor": "white",
            "gridwidth": 2,
            "linecolor": "white",
            "showbackground": true,
            "ticks": "",
            "zerolinecolor": "white"
           },
           "yaxis": {
            "backgroundcolor": "#E5ECF6",
            "gridcolor": "white",
            "gridwidth": 2,
            "linecolor": "white",
            "showbackground": true,
            "ticks": "",
            "zerolinecolor": "white"
           },
           "zaxis": {
            "backgroundcolor": "#E5ECF6",
            "gridcolor": "white",
            "gridwidth": 2,
            "linecolor": "white",
            "showbackground": true,
            "ticks": "",
            "zerolinecolor": "white"
           }
          },
          "shapedefaults": {
           "line": {
            "color": "#2a3f5f"
           }
          },
          "ternary": {
           "aaxis": {
            "gridcolor": "white",
            "linecolor": "white",
            "ticks": ""
           },
           "baxis": {
            "gridcolor": "white",
            "linecolor": "white",
            "ticks": ""
           },
           "bgcolor": "#E5ECF6",
           "caxis": {
            "gridcolor": "white",
            "linecolor": "white",
            "ticks": ""
           }
          },
          "title": {
           "x": 0.05
          },
          "xaxis": {
           "automargin": true,
           "gridcolor": "white",
           "linecolor": "white",
           "ticks": "",
           "title": {
            "standoff": 15
           },
           "zerolinecolor": "white",
           "zerolinewidth": 2
          },
          "yaxis": {
           "automargin": true,
           "gridcolor": "white",
           "linecolor": "white",
           "ticks": "",
           "title": {
            "standoff": 15
           },
           "zerolinecolor": "white",
           "zerolinewidth": 2
          }
         }
        },
        "title": {
         "font": {
          "color": "#000000"
         },
         "text": "Number of TV Shows vs Movies on Netflix"
        }
       }
      },
      "text/html": [
       "<div>                            <div id=\"0073d428-50d5-4fbf-876b-322791ca2c89\" class=\"plotly-graph-div\" style=\"height:525px; width:100%;\"></div>            <script type=\"text/javascript\">                require([\"plotly\"], function(Plotly) {                    window.PLOTLYENV=window.PLOTLYENV || {};                                    if (document.getElementById(\"0073d428-50d5-4fbf-876b-322791ca2c89\")) {                    Plotly.newPlot(                        \"0073d428-50d5-4fbf-876b-322791ca2c89\",                        [{\"domain\":{\"x\":[0.0,1.0],\"y\":[0.0,1.0]},\"hovertemplate\":\"label=%{label}<br>value=%{value}<extra></extra>\",\"labels\":[\"Movie\",\"TV Show\"],\"legendgroup\":\"\",\"name\":\"\",\"showlegend\":true,\"values\":[6128,2666],\"type\":\"pie\"}],                        {\"template\":{\"data\":{\"histogram2dcontour\":[{\"type\":\"histogram2dcontour\",\"colorbar\":{\"outlinewidth\":0,\"ticks\":\"\"},\"colorscale\":[[0.0,\"#0d0887\"],[0.1111111111111111,\"#46039f\"],[0.2222222222222222,\"#7201a8\"],[0.3333333333333333,\"#9c179e\"],[0.4444444444444444,\"#bd3786\"],[0.5555555555555556,\"#d8576b\"],[0.6666666666666666,\"#ed7953\"],[0.7777777777777778,\"#fb9f3a\"],[0.8888888888888888,\"#fdca26\"],[1.0,\"#f0f921\"]]}],\"choropleth\":[{\"type\":\"choropleth\",\"colorbar\":{\"outlinewidth\":0,\"ticks\":\"\"}}],\"histogram2d\":[{\"type\":\"histogram2d\",\"colorbar\":{\"outlinewidth\":0,\"ticks\":\"\"},\"colorscale\":[[0.0,\"#0d0887\"],[0.1111111111111111,\"#46039f\"],[0.2222222222222222,\"#7201a8\"],[0.3333333333333333,\"#9c179e\"],[0.4444444444444444,\"#bd3786\"],[0.5555555555555556,\"#d8576b\"],[0.6666666666666666,\"#ed7953\"],[0.7777777777777778,\"#fb9f3a\"],[0.8888888888888888,\"#fdca26\"],[1.0,\"#f0f921\"]]}],\"heatmap\":[{\"type\":\"heatmap\",\"colorbar\":{\"outlinewidth\":0,\"ticks\":\"\"},\"colorscale\":[[0.0,\"#0d0887\"],[0.1111111111111111,\"#46039f\"],[0.2222222222222222,\"#7201a8\"],[0.3333333333333333,\"#9c179e\"],[0.4444444444444444,\"#bd3786\"],[0.5555555555555556,\"#d8576b\"],[0.6666666666666666,\"#ed7953\"],[0.7777777777777778,\"#fb9f3a\"],[0.8888888888888888,\"#fdca26\"],[1.0,\"#f0f921\"]]}],\"heatmapgl\":[{\"type\":\"heatmapgl\",\"colorbar\":{\"outlinewidth\":0,\"ticks\":\"\"},\"colorscale\":[[0.0,\"#0d0887\"],[0.1111111111111111,\"#46039f\"],[0.2222222222222222,\"#7201a8\"],[0.3333333333333333,\"#9c179e\"],[0.4444444444444444,\"#bd3786\"],[0.5555555555555556,\"#d8576b\"],[0.6666666666666666,\"#ed7953\"],[0.7777777777777778,\"#fb9f3a\"],[0.8888888888888888,\"#fdca26\"],[1.0,\"#f0f921\"]]}],\"contourcarpet\":[{\"type\":\"contourcarpet\",\"colorbar\":{\"outlinewidth\":0,\"ticks\":\"\"}}],\"contour\":[{\"type\":\"contour\",\"colorbar\":{\"outlinewidth\":0,\"ticks\":\"\"},\"colorscale\":[[0.0,\"#0d0887\"],[0.1111111111111111,\"#46039f\"],[0.2222222222222222,\"#7201a8\"],[0.3333333333333333,\"#9c179e\"],[0.4444444444444444,\"#bd3786\"],[0.5555555555555556,\"#d8576b\"],[0.6666666666666666,\"#ed7953\"],[0.7777777777777778,\"#fb9f3a\"],[0.8888888888888888,\"#fdca26\"],[1.0,\"#f0f921\"]]}],\"surface\":[{\"type\":\"surface\",\"colorbar\":{\"outlinewidth\":0,\"ticks\":\"\"},\"colorscale\":[[0.0,\"#0d0887\"],[0.1111111111111111,\"#46039f\"],[0.2222222222222222,\"#7201a8\"],[0.3333333333333333,\"#9c179e\"],[0.4444444444444444,\"#bd3786\"],[0.5555555555555556,\"#d8576b\"],[0.6666666666666666,\"#ed7953\"],[0.7777777777777778,\"#fb9f3a\"],[0.8888888888888888,\"#fdca26\"],[1.0,\"#f0f921\"]]}],\"mesh3d\":[{\"type\":\"mesh3d\",\"colorbar\":{\"outlinewidth\":0,\"ticks\":\"\"}}],\"scatter\":[{\"fillpattern\":{\"fillmode\":\"overlay\",\"size\":10,\"solidity\":0.2},\"type\":\"scatter\"}],\"parcoords\":[{\"type\":\"parcoords\",\"line\":{\"colorbar\":{\"outlinewidth\":0,\"ticks\":\"\"}}}],\"scatterpolargl\":[{\"type\":\"scatterpolargl\",\"marker\":{\"colorbar\":{\"outlinewidth\":0,\"ticks\":\"\"}}}],\"bar\":[{\"error_x\":{\"color\":\"#2a3f5f\"},\"error_y\":{\"color\":\"#2a3f5f\"},\"marker\":{\"line\":{\"color\":\"#E5ECF6\",\"width\":0.5},\"pattern\":{\"fillmode\":\"overlay\",\"size\":10,\"solidity\":0.2}},\"type\":\"bar\"}],\"scattergeo\":[{\"type\":\"scattergeo\",\"marker\":{\"colorbar\":{\"outlinewidth\":0,\"ticks\":\"\"}}}],\"scatterpolar\":[{\"type\":\"scatterpolar\",\"marker\":{\"colorbar\":{\"outlinewidth\":0,\"ticks\":\"\"}}}],\"histogram\":[{\"marker\":{\"pattern\":{\"fillmode\":\"overlay\",\"size\":10,\"solidity\":0.2}},\"type\":\"histogram\"}],\"scattergl\":[{\"type\":\"scattergl\",\"marker\":{\"colorbar\":{\"outlinewidth\":0,\"ticks\":\"\"}}}],\"scatter3d\":[{\"type\":\"scatter3d\",\"line\":{\"colorbar\":{\"outlinewidth\":0,\"ticks\":\"\"}},\"marker\":{\"colorbar\":{\"outlinewidth\":0,\"ticks\":\"\"}}}],\"scattermapbox\":[{\"type\":\"scattermapbox\",\"marker\":{\"colorbar\":{\"outlinewidth\":0,\"ticks\":\"\"}}}],\"scatterternary\":[{\"type\":\"scatterternary\",\"marker\":{\"colorbar\":{\"outlinewidth\":0,\"ticks\":\"\"}}}],\"scattercarpet\":[{\"type\":\"scattercarpet\",\"marker\":{\"colorbar\":{\"outlinewidth\":0,\"ticks\":\"\"}}}],\"carpet\":[{\"aaxis\":{\"endlinecolor\":\"#2a3f5f\",\"gridcolor\":\"white\",\"linecolor\":\"white\",\"minorgridcolor\":\"white\",\"startlinecolor\":\"#2a3f5f\"},\"baxis\":{\"endlinecolor\":\"#2a3f5f\",\"gridcolor\":\"white\",\"linecolor\":\"white\",\"minorgridcolor\":\"white\",\"startlinecolor\":\"#2a3f5f\"},\"type\":\"carpet\"}],\"table\":[{\"cells\":{\"fill\":{\"color\":\"#EBF0F8\"},\"line\":{\"color\":\"white\"}},\"header\":{\"fill\":{\"color\":\"#C8D4E3\"},\"line\":{\"color\":\"white\"}},\"type\":\"table\"}],\"barpolar\":[{\"marker\":{\"line\":{\"color\":\"#E5ECF6\",\"width\":0.5},\"pattern\":{\"fillmode\":\"overlay\",\"size\":10,\"solidity\":0.2}},\"type\":\"barpolar\"}],\"pie\":[{\"automargin\":true,\"type\":\"pie\"}]},\"layout\":{\"autotypenumbers\":\"strict\",\"colorway\":[\"#636efa\",\"#EF553B\",\"#00cc96\",\"#ab63fa\",\"#FFA15A\",\"#19d3f3\",\"#FF6692\",\"#B6E880\",\"#FF97FF\",\"#FECB52\"],\"font\":{\"color\":\"#2a3f5f\"},\"hovermode\":\"closest\",\"hoverlabel\":{\"align\":\"left\"},\"paper_bgcolor\":\"white\",\"plot_bgcolor\":\"#E5ECF6\",\"polar\":{\"bgcolor\":\"#E5ECF6\",\"angularaxis\":{\"gridcolor\":\"white\",\"linecolor\":\"white\",\"ticks\":\"\"},\"radialaxis\":{\"gridcolor\":\"white\",\"linecolor\":\"white\",\"ticks\":\"\"}},\"ternary\":{\"bgcolor\":\"#E5ECF6\",\"aaxis\":{\"gridcolor\":\"white\",\"linecolor\":\"white\",\"ticks\":\"\"},\"baxis\":{\"gridcolor\":\"white\",\"linecolor\":\"white\",\"ticks\":\"\"},\"caxis\":{\"gridcolor\":\"white\",\"linecolor\":\"white\",\"ticks\":\"\"}},\"coloraxis\":{\"colorbar\":{\"outlinewidth\":0,\"ticks\":\"\"}},\"colorscale\":{\"sequential\":[[0.0,\"#0d0887\"],[0.1111111111111111,\"#46039f\"],[0.2222222222222222,\"#7201a8\"],[0.3333333333333333,\"#9c179e\"],[0.4444444444444444,\"#bd3786\"],[0.5555555555555556,\"#d8576b\"],[0.6666666666666666,\"#ed7953\"],[0.7777777777777778,\"#fb9f3a\"],[0.8888888888888888,\"#fdca26\"],[1.0,\"#f0f921\"]],\"sequentialminus\":[[0.0,\"#0d0887\"],[0.1111111111111111,\"#46039f\"],[0.2222222222222222,\"#7201a8\"],[0.3333333333333333,\"#9c179e\"],[0.4444444444444444,\"#bd3786\"],[0.5555555555555556,\"#d8576b\"],[0.6666666666666666,\"#ed7953\"],[0.7777777777777778,\"#fb9f3a\"],[0.8888888888888888,\"#fdca26\"],[1.0,\"#f0f921\"]],\"diverging\":[[0,\"#8e0152\"],[0.1,\"#c51b7d\"],[0.2,\"#de77ae\"],[0.3,\"#f1b6da\"],[0.4,\"#fde0ef\"],[0.5,\"#f7f7f7\"],[0.6,\"#e6f5d0\"],[0.7,\"#b8e186\"],[0.8,\"#7fbc41\"],[0.9,\"#4d9221\"],[1,\"#276419\"]]},\"xaxis\":{\"gridcolor\":\"white\",\"linecolor\":\"white\",\"ticks\":\"\",\"title\":{\"standoff\":15},\"zerolinecolor\":\"white\",\"automargin\":true,\"zerolinewidth\":2},\"yaxis\":{\"gridcolor\":\"white\",\"linecolor\":\"white\",\"ticks\":\"\",\"title\":{\"standoff\":15},\"zerolinecolor\":\"white\",\"automargin\":true,\"zerolinewidth\":2},\"scene\":{\"xaxis\":{\"backgroundcolor\":\"#E5ECF6\",\"gridcolor\":\"white\",\"linecolor\":\"white\",\"showbackground\":true,\"ticks\":\"\",\"zerolinecolor\":\"white\",\"gridwidth\":2},\"yaxis\":{\"backgroundcolor\":\"#E5ECF6\",\"gridcolor\":\"white\",\"linecolor\":\"white\",\"showbackground\":true,\"ticks\":\"\",\"zerolinecolor\":\"white\",\"gridwidth\":2},\"zaxis\":{\"backgroundcolor\":\"#E5ECF6\",\"gridcolor\":\"white\",\"linecolor\":\"white\",\"showbackground\":true,\"ticks\":\"\",\"zerolinecolor\":\"white\",\"gridwidth\":2}},\"shapedefaults\":{\"line\":{\"color\":\"#2a3f5f\"}},\"annotationdefaults\":{\"arrowcolor\":\"#2a3f5f\",\"arrowhead\":0,\"arrowwidth\":1},\"geo\":{\"bgcolor\":\"white\",\"landcolor\":\"#E5ECF6\",\"subunitcolor\":\"white\",\"showland\":true,\"showlakes\":true,\"lakecolor\":\"white\"},\"title\":{\"x\":0.05},\"mapbox\":{\"style\":\"light\"}}},\"legend\":{\"tracegroupgap\":0},\"title\":{\"text\":\"Number of TV Shows vs Movies on Netflix\",\"font\":{\"color\":\"#000000\"}},\"piecolorway\":[\"#db0000\",\"#000000\"]},                        {\"responsive\": true}                    ).then(function(){\n",
       "                            \n",
       "var gd = document.getElementById('0073d428-50d5-4fbf-876b-322791ca2c89');\n",
       "var x = new MutationObserver(function (mutations, observer) {{\n",
       "        var display = window.getComputedStyle(gd).display;\n",
       "        if (!display || display === 'none') {{\n",
       "            console.log([gd, 'removed!']);\n",
       "            Plotly.purge(gd);\n",
       "            observer.disconnect();\n",
       "        }}\n",
       "}});\n",
       "\n",
       "// Listen for the removal of the full notebook cells\n",
       "var notebookContainer = gd.closest('#notebook-container');\n",
       "if (notebookContainer) {{\n",
       "    x.observe(notebookContainer, {childList: true});\n",
       "}}\n",
       "\n",
       "// Listen for the clearing of the current output cell\n",
       "var outputEl = gd.closest('.output');\n",
       "if (outputEl) {{\n",
       "    x.observe(outputEl, {childList: true});\n",
       "}}\n",
       "\n",
       "                        })                };                });            </script>        </div>"
      ]
     },
     "metadata": {},
     "output_type": "display_data"
    }
   ],
   "source": [
    "# Ratio between TV Shows and Movies on netflix\n",
    "plot = px.pie(df, values=df['type'].value_counts().values, names=df['type'].value_counts().index, \n",
    "color_discrete_sequence=['#db0000', '#000000'], title='Number of TV Shows vs Movies on Netflix'\n",
    "             )\n",
    "plot.update_layout(title_font_color='#000000')\n",
    "plot.show()"
   ]
  },
  {
   "cell_type": "markdown",
   "id": "9bcbd79c",
   "metadata": {},
   "source": [
    "# Top 10 contributing countries"
   ]
  },
  {
   "cell_type": "code",
   "execution_count": 182,
   "id": "cb17c133",
   "metadata": {},
   "outputs": [
    {
     "data": {
      "application/vnd.plotly.v1+json": {
       "config": {
        "plotlyServerURL": "https://plot.ly"
       },
       "data": [
        {
         "alignmentgroup": "True",
         "bingroup": "y",
         "hovertemplate": "type=Movie<br>count=%{x}<br>country=%{y}<extra></extra>",
         "legendgroup": "Movie",
         "marker": {
          "color": "red",
          "pattern": {
           "shape": ""
          }
         },
         "name": "Movie",
         "offsetgroup": "Movie",
         "orientation": "h",
         "showlegend": true,
         "type": "histogram",
         "xaxis": "x",
         "y": [
          "United States",
          "United States",
          "United States",
          "United States",
          "United States",
          "United States",
          "United States",
          "United States",
          "India",
          "United States",
          "United States",
          "United States",
          "United States",
          "United States",
          "United States",
          "United States",
          "United States",
          "United States",
          "United States",
          "United States",
          "United States",
          "Japan",
          "Japan",
          "Japan",
          "Japan",
          "Japan",
          "Japan",
          "Japan",
          "Japan",
          "Japan",
          "Japan",
          "Japan",
          "Japan",
          "United States",
          "United States",
          "United States",
          "United States",
          "United States",
          "United States",
          "United States",
          "United States",
          "United States",
          "United States",
          "United States",
          "France",
          "United States",
          "United States",
          "United States",
          "United States",
          "India",
          "United States",
          "United States",
          "United States",
          "India",
          "India",
          "India",
          "United States",
          "India",
          "United States",
          "United States",
          "United States",
          "United States",
          "United States",
          "United States",
          "United States",
          "United States",
          "United States",
          "United States",
          "United States",
          "United States",
          "United States",
          "Canada",
          "United States",
          "United States",
          "United States",
          "United States",
          "United States",
          "United States",
          "United States",
          "United States",
          "United States",
          "United States",
          "United States",
          "United States",
          "United States",
          "United States",
          "United States",
          "United States",
          "United States",
          "United States",
          "France",
          "India",
          "India",
          "India",
          "United States",
          "India",
          "India",
          "India",
          "India",
          "India",
          "India",
          "India",
          "India",
          "India",
          "India",
          "India",
          "India",
          "India",
          "United States",
          "India",
          "India",
          "India",
          "United States",
          "United States",
          "United States",
          "United States",
          "United States",
          "United Kingdom",
          "United States",
          "United States",
          "United States",
          "United States",
          "United States",
          "United States",
          "United States",
          "United States",
          "United States",
          "United States",
          "United States",
          "United States",
          "United States",
          "India",
          "United States",
          "United States",
          "United States",
          "United States",
          "United States",
          "United States",
          "United States",
          "United States",
          "Mexico",
          "United States",
          "United Kingdom",
          "United States",
          "United States",
          "France",
          "India",
          "United Kingdom",
          "United States",
          "United States",
          "United States",
          "United States",
          "United States",
          "United States",
          "United States",
          "United States",
          "United States",
          "United States",
          "United States",
          "United States",
          "United States",
          "United States",
          "United States",
          "United States",
          "United States",
          "United States",
          "United States",
          "United States",
          "United States",
          "United States",
          "United States",
          "United States",
          "United States",
          "United States",
          "United States",
          "United States",
          "United States",
          "United States",
          "United States",
          "United States",
          "India",
          "United States",
          "United States",
          "United States",
          "United States",
          "United States",
          "United States",
          "United States",
          "United Kingdom",
          "United States",
          "United States",
          "United States",
          "United States",
          "United States",
          "United States",
          "India",
          "United States",
          "United States",
          "United States",
          "United States",
          "India",
          "United States",
          "United States",
          "United States",
          "United States",
          "United States",
          "United States",
          "United States",
          "United States",
          "United States",
          "United States",
          "United States",
          "United States",
          "United States",
          "United States",
          "United States",
          "United States",
          "United States",
          "United States",
          "United States",
          "United States",
          "United States",
          "United States",
          "United States",
          "United States",
          "United States",
          "United States",
          "United States",
          "United States",
          "United States",
          "United States",
          "United States",
          "United States",
          "United States",
          "United States",
          "United States",
          "United States",
          "United States",
          "United States",
          "United States",
          "United States",
          "United States",
          "United States",
          "United States",
          "United States",
          "United States",
          "United States",
          "United States",
          "United States",
          "United States",
          "United States",
          "United States",
          "United States",
          "India",
          "India",
          "Egypt",
          "India",
          "India",
          "United States",
          "India",
          "United States",
          "South Korea",
          "United States",
          "United States",
          "United States",
          "United States",
          "United States",
          "United States",
          "United States",
          "United States",
          "United States",
          "United States",
          "United States",
          "United States",
          "United States",
          "United States",
          "United States",
          "United States",
          "United Kingdom",
          "United States",
          "United States",
          "United States",
          "United States",
          "United States",
          "United States",
          "United States",
          "United States",
          "United States",
          "United States",
          "United States",
          "United States",
          "United States",
          "United States",
          "United States",
          "United States",
          "United States",
          "United States",
          "United States",
          "United States",
          "United States",
          "United States",
          "United States",
          "France",
          "United States",
          "United States",
          "United States",
          "United States",
          "United States",
          "United States",
          "United States",
          "United States",
          "United States",
          "United States",
          "United States",
          "United States",
          "United States",
          "United States",
          "United States",
          "United States",
          "United States",
          "Canada",
          "United States",
          "United States",
          "United States",
          "United States",
          "United States",
          "United States",
          "United States",
          "United States",
          "United States",
          "United States",
          "United States",
          "United States",
          "United States",
          "United States",
          "India",
          "United States",
          "United States",
          "United States",
          "United States",
          "United States",
          "United States",
          "South Korea",
          "Spain",
          "Mexico",
          "United States",
          "United States",
          "United States",
          "United States",
          "United States",
          "United States",
          "United States",
          "United States",
          "United States",
          "United States",
          "United States",
          "United States",
          "United States",
          "United States",
          "United States",
          "United States",
          "United States",
          "United States",
          "United States",
          "United States",
          "United States",
          "United States",
          "United States",
          "United States",
          "United States",
          "United States",
          "United States",
          "United States",
          "United States",
          "United States",
          "United Kingdom",
          "United States",
          "United States",
          "United States",
          "United States",
          "United States",
          "United States",
          "United States",
          "United States",
          "United States",
          "United States",
          "United States",
          "United States",
          "United States",
          "India",
          "United States",
          "United States",
          "United States",
          "United States",
          "United States",
          "United States",
          "Egypt",
          "United States",
          "United States",
          "United States",
          "United States",
          "United States",
          "United States",
          "United States",
          "India",
          "United States",
          "India",
          "United States",
          "India",
          "United States",
          "United States",
          "United Kingdom",
          "India",
          "United States",
          "United States",
          "Spain",
          "United States",
          "India",
          "United States",
          "United States",
          "India",
          "United States",
          "United States",
          "India",
          "United States",
          "United States",
          "United States",
          "United States",
          "United States",
          "United States",
          "United States",
          "United States",
          "United States",
          "United States",
          "United States",
          "United States",
          "United States",
          "United States",
          "United States",
          "United States",
          "United Kingdom",
          "United States",
          "United States",
          "United States",
          "United States",
          "Canada",
          "United States",
          "United States",
          "India",
          "United States",
          "United States",
          "United States",
          "United States",
          "Spain",
          "India",
          "India",
          "United States",
          "Spain",
          "United States",
          "Egypt",
          "United States",
          "Japan",
          "India",
          "United States",
          "Mexico",
          "United States",
          "United States",
          "United States",
          "United States",
          "United States",
          "United States",
          "United States",
          "United States",
          "India",
          "India",
          "India",
          "India",
          "India",
          "India",
          "India",
          "United States",
          "United States",
          "United States",
          "United States",
          "United States",
          "United States",
          "India",
          "United States",
          "Japan",
          "United States",
          "Japan",
          "United States",
          "United States",
          "United States",
          "United States",
          "India",
          "United States",
          "United States",
          "United States",
          "United States",
          "United States",
          "United States",
          "United States",
          "United States",
          "United States",
          "South Korea",
          "India",
          "United States",
          "United States",
          "United States",
          "United States",
          "India",
          "United States",
          "United States",
          "United States",
          "India",
          "France",
          "United States",
          "United States",
          "India",
          "India",
          "United States",
          "India",
          "United States",
          "United States",
          "United States",
          "United States",
          "Japan",
          "United States",
          "United States",
          "United States",
          "United States",
          "United States",
          "India",
          "United States",
          "United Kingdom",
          "United States",
          "United States",
          "United States",
          "United States",
          "United States",
          "United Kingdom",
          "Spain",
          "India",
          "United States",
          "Japan",
          "United States",
          "United States",
          "United States",
          "United States",
          "United States",
          "United States",
          "United States",
          "United States",
          "India",
          "United States",
          "United States",
          "United States",
          "United States",
          "United States",
          "India",
          "France",
          "United States",
          "United States",
          "United States",
          "United States",
          "India",
          "United States",
          "United States",
          "United States",
          "United States",
          "United States",
          "United States",
          "United States",
          "United States",
          "Spain",
          "United States",
          "United States",
          "India",
          "Japan",
          "United States",
          "United States",
          "Canada",
          "United Kingdom",
          "India",
          "United States",
          "United Kingdom",
          "United States",
          "United States",
          "India",
          "India",
          "United States",
          "United States",
          "United States",
          "India",
          "United States",
          "United States",
          "United Kingdom",
          "Spain",
          "India",
          "United States",
          "Mexico",
          "Spain",
          "United States",
          "United States",
          "France",
          "United States",
          "France",
          "United States",
          "South Korea",
          "United States",
          "Mexico",
          "United States",
          "United Kingdom",
          "United States",
          "United States",
          "United States",
          "Spain",
          "United States",
          "United Kingdom",
          "United States",
          "India",
          "United States",
          "United States",
          "United States",
          "United States",
          "United States",
          "United States",
          "United States",
          "United States",
          "United States",
          "India",
          "United States",
          "South Korea",
          "United States",
          "United States",
          "United States",
          "France",
          "India",
          "India",
          "United States",
          "India",
          "United States",
          "France",
          "India",
          "United States",
          "United States",
          "United States",
          "United States",
          "United States",
          "United States",
          "United States",
          "United States",
          "United Kingdom",
          "United States",
          "United States",
          "United States",
          "United States",
          "South Korea",
          "United States",
          "United States",
          "United States",
          "India",
          "United States",
          "United States",
          "Canada",
          "India",
          "United States",
          "United States",
          "United States",
          "United States",
          "United States",
          "United Kingdom",
          "United States",
          "Egypt",
          "United Kingdom",
          "United States",
          "United States",
          "United States",
          "United States",
          "Canada",
          "United States",
          "United States",
          "United States",
          "United States",
          "India",
          "Canada",
          "United States",
          "United States",
          "United States",
          "United States",
          "United States",
          "United States",
          "India",
          "United States",
          "United States",
          "United States",
          "United States",
          "United States",
          "Canada",
          "United States",
          "United States",
          "United States",
          "United States",
          "United States",
          "United States",
          "United Kingdom",
          "United States",
          "United States",
          "United States",
          "United States",
          "United States",
          "United States",
          "United States",
          "Spain",
          "South Korea",
          "United States",
          "United States",
          "United Kingdom",
          "Canada",
          "United States",
          "India",
          "United States",
          "United States",
          "United States",
          "United States",
          "Egypt",
          "United States",
          "United States",
          "United States",
          "United States",
          "India",
          "India",
          "India",
          "India",
          "India",
          "India",
          "India",
          "United States",
          "India",
          "United States",
          "United States",
          "United States",
          "Canada",
          "United States",
          "United States",
          "India",
          "United States",
          "United States",
          "India",
          "United States",
          "United States",
          "Canada",
          "United States",
          "Canada",
          "Canada",
          "India",
          "Japan",
          "United States",
          "United States",
          "United States",
          "United States",
          "United States",
          "Canada",
          "United States",
          "United States",
          "United States",
          "United States",
          "United States",
          "United Kingdom",
          "India",
          "France",
          "United States",
          "United States",
          "United States",
          "United States",
          "United States",
          "India",
          "United States",
          "United States",
          "United Kingdom",
          "United States",
          "United Kingdom",
          "Canada",
          "United States",
          "United States",
          "United Kingdom",
          "United States",
          "United States",
          "United States",
          "Egypt",
          "India",
          "United States",
          "Mexico",
          "India",
          "United Kingdom",
          "India",
          "India",
          "India",
          "India",
          "India",
          "United States",
          "India",
          "Canada",
          "United States",
          "France",
          "United States",
          "United States",
          "United Kingdom",
          "Canada",
          "United States",
          "Canada",
          "United States",
          "India",
          "United States",
          "Mexico",
          "United States",
          "United States",
          "United States",
          "United States",
          "United States",
          "United States",
          "United States",
          "United States",
          "United States",
          "United States",
          "United States",
          "India",
          "India",
          "India",
          "India",
          "India",
          "India",
          "India",
          "India",
          "India",
          "India",
          "United States",
          "United States",
          "United Kingdom",
          "United States",
          "United States",
          "Japan",
          "Japan",
          "Japan",
          "Japan",
          "Japan",
          "United States",
          "Japan",
          "Egypt",
          "India",
          "India",
          "India",
          "India",
          "India",
          "India",
          "India",
          "France",
          "United Kingdom",
          "United States",
          "United States",
          "United States",
          "United States",
          "Spain",
          "United Kingdom",
          "United States",
          "Mexico",
          "United States",
          "United States",
          "India",
          "India",
          "India",
          "India",
          "India",
          "India",
          "India",
          "India",
          "India",
          "Egypt",
          "United States",
          "India",
          "France",
          "United States",
          "South Korea",
          "United States",
          "United Kingdom",
          "United States",
          "United States",
          "Japan",
          "United States",
          "United States",
          "India",
          "Spain",
          "United States",
          "Canada",
          "India",
          "United States",
          "United States",
          "Spain",
          "United States",
          "United States",
          "United States",
          "United Kingdom",
          "United States",
          "India",
          "Mexico",
          "United States",
          "United States",
          "Egypt",
          "United States",
          "United States",
          "India",
          "United States",
          "Canada",
          "United Kingdom",
          "United States",
          "France",
          "India",
          "United States",
          "United States",
          "United States",
          "United States",
          "United States",
          "United States",
          "United States",
          "France",
          "United States",
          "United States",
          "United States",
          "United States",
          "United States",
          "United States",
          "United States",
          "Canada",
          "United States",
          "Canada",
          "India",
          "United States",
          "India",
          "United States",
          "United States",
          "United States",
          "India",
          "India",
          "United States",
          "Japan",
          "South Korea",
          "United States",
          "United Kingdom",
          "United States",
          "United States",
          "United States",
          "France",
          "Egypt",
          "United States",
          "United States",
          "United States",
          "United States",
          "United States",
          "United States",
          "United States",
          "India",
          "India",
          "India",
          "India",
          "India",
          "India",
          "India",
          "India",
          "India",
          "India",
          "India",
          "India",
          "India",
          "India",
          "India",
          "India",
          "India",
          "India",
          "United States",
          "India",
          "India",
          "India",
          "India",
          "India",
          "India",
          "India",
          "India",
          "United States",
          "Spain",
          "Canada",
          "United States",
          "United States",
          "United States",
          "United States",
          "India",
          "United States",
          "India",
          "India",
          "India",
          "India",
          "United States",
          "India",
          "United States",
          "India",
          "United States",
          "India",
          "United States",
          "United States",
          "France",
          "Japan",
          "Egypt",
          "Egypt",
          "Egypt",
          "United States",
          "Egypt",
          "Egypt",
          "Egypt",
          "United States",
          "United States",
          "India",
          "India",
          "United States",
          "United States",
          "Japan",
          "United States",
          "South Korea",
          "United States",
          "India",
          "India",
          "United States",
          "Egypt",
          "United States",
          "India",
          "United States",
          "United States",
          "Egypt",
          "United States",
          "United States",
          "Egypt",
          "Egypt",
          "Egypt",
          "United States",
          "Egypt",
          "Egypt",
          "Egypt",
          "Canada",
          "Egypt",
          "Egypt",
          "India",
          "United States",
          "India",
          "United States",
          "Japan",
          "United States",
          "United States",
          "United States",
          "Egypt",
          "United States",
          "United States",
          "Egypt",
          "Egypt",
          "Egypt",
          "United States",
          "United Kingdom",
          "United States",
          "Mexico",
          "India",
          "Egypt",
          "Egypt",
          "Egypt",
          "Egypt",
          "Egypt",
          "Egypt",
          "Egypt",
          "Egypt",
          "Egypt",
          "Spain",
          "India",
          "United States",
          "Mexico",
          "India",
          "United States",
          "United States",
          "India",
          "India",
          "United States",
          "United States",
          "United States",
          "United States",
          "United States",
          "India",
          "United States",
          "United States",
          "United States",
          "United States",
          "United States",
          "United States",
          "United States",
          "United States",
          "United States",
          "United States",
          "India",
          "India",
          "United States",
          "United States",
          "United States",
          "United States",
          "United States",
          "United States",
          "United States",
          "United States",
          "India",
          "Egypt",
          "United States",
          "United States",
          "Egypt",
          "India",
          "India",
          "India",
          "Egypt",
          "Egypt",
          "Egypt",
          "Egypt",
          "Egypt",
          "Egypt",
          "India",
          "India",
          "South Korea",
          "United States",
          "Spain",
          "India",
          "United States",
          "United States",
          "United States",
          "India",
          "India",
          "United States",
          "United States",
          "Canada",
          "France",
          "United States",
          "United States",
          "United States",
          "United States",
          "United States",
          "United States",
          "United States",
          "United States",
          "United States",
          "Spain",
          "Japan",
          "Japan",
          "India",
          "India",
          "India",
          "India",
          "India",
          "India",
          "India",
          "India",
          "India",
          "India",
          "India",
          "India",
          "India",
          "India",
          "India",
          "India",
          "India",
          "India",
          "India",
          "United States",
          "India",
          "United States",
          "India",
          "United States",
          "United States",
          "Canada",
          "India",
          "United States",
          "India",
          "United States",
          "United States",
          "India",
          "Canada",
          "Canada",
          "Canada",
          "United States",
          "United States",
          "United States",
          "Spain",
          "United States",
          "Mexico",
          "United States",
          "United States",
          "Japan",
          "United Kingdom",
          "United States",
          "United States",
          "India",
          "United States",
          "United States",
          "United States",
          "India",
          "United States",
          "United States",
          "United States",
          "United States",
          "India",
          "France",
          "United States",
          "United States",
          "Spain",
          "United States",
          "United States",
          "United States",
          "India",
          "United Kingdom",
          "United States",
          "India",
          "United States",
          "United States",
          "United States",
          "United States",
          "United States",
          "France",
          "United States",
          "India",
          "India",
          "Japan",
          "United States",
          "United States",
          "United States",
          "United States",
          "India",
          "United States",
          "India",
          "United States",
          "United States",
          "United States",
          "United States",
          "United States",
          "India",
          "Japan",
          "United States",
          "United States",
          "United States",
          "Mexico",
          "United States",
          "India",
          "United States",
          "India",
          "United States",
          "United States",
          "United States",
          "United States",
          "United States",
          "India",
          "Spain",
          "United States",
          "India",
          "United States",
          "United Kingdom",
          "United States",
          "India",
          "Japan",
          "France",
          "United States",
          "United States",
          "India",
          "India",
          "India",
          "United States",
          "United States",
          "Mexico",
          "United States",
          "India",
          "India",
          "United States",
          "United States",
          "United States",
          "United States",
          "Japan",
          "India",
          "United States",
          "United States",
          "United States",
          "India",
          "United Kingdom",
          "United States",
          "United States",
          "Spain",
          "Mexico",
          "India",
          "United Kingdom",
          "United States",
          "India",
          "United States",
          "United States",
          "Japan",
          "United States",
          "United States",
          "India",
          "India",
          "United States",
          "United States",
          "Japan",
          "United States",
          "United States",
          "Japan",
          "United States",
          "United States",
          "Mexico",
          "United States",
          "United States",
          "United States",
          "United States",
          "United States",
          "India",
          "India",
          "India",
          "India",
          "India",
          "India",
          "United States",
          "India",
          "India",
          "India",
          "India",
          "India",
          "India",
          "India",
          "United States",
          "United States",
          "United States",
          "United Kingdom",
          "Egypt",
          "United States",
          "United States",
          "United States",
          "India",
          "United States",
          "Japan",
          "United States",
          "United States",
          "United States",
          "United States",
          "United States",
          "India",
          "United States",
          "India",
          "India",
          "India",
          "United Kingdom",
          "India",
          "India",
          "France",
          "India",
          "France",
          "United States",
          "United States",
          "United States",
          "India",
          "United States",
          "United States",
          "United States",
          "United States",
          "United States",
          "India",
          "Spain",
          "United States",
          "France",
          "Japan",
          "United States",
          "United States",
          "United States",
          "United States",
          "India",
          "Mexico",
          "India",
          "United States",
          "United States",
          "India",
          "India",
          "Japan",
          "Japan",
          "France",
          "United States",
          "United States",
          "United States",
          "United States",
          "France",
          "India",
          "United States",
          "United States",
          "United States",
          "South Korea",
          "United States",
          "United States",
          "India",
          "United States",
          "United States",
          "United States",
          "United States",
          "United States",
          "United States",
          "Spain",
          "United States",
          "United States",
          "United Kingdom",
          "India",
          "United States",
          "United States",
          "United States",
          "United States",
          "United States",
          "Mexico",
          "Canada",
          "Mexico",
          "India",
          "United States",
          "United States",
          "United Kingdom",
          "United States",
          "United States",
          "United States",
          "United States",
          "United States",
          "United States",
          "United Kingdom",
          "United States",
          "United States",
          "United States",
          "United States",
          "United States",
          "United States",
          "United States",
          "Spain",
          "United Kingdom",
          "United States",
          "India",
          "United States",
          "United States",
          "South Korea",
          "United States",
          "Canada",
          "France",
          "United States",
          "United States",
          "Japan",
          "United States",
          "United States",
          "United States",
          "United States",
          "United States",
          "India",
          "United States",
          "Mexico",
          "United States",
          "India",
          "United States",
          "United States",
          "United States",
          "United States",
          "United Kingdom",
          "United States",
          "Japan",
          "United States",
          "India",
          "United States",
          "United States",
          "United States",
          "United States",
          "India",
          "United States",
          "India",
          "United States",
          "Canada",
          "India",
          "United Kingdom",
          "United States",
          "United States",
          "United States",
          "India",
          "United States",
          "United States",
          "United States",
          "United Kingdom",
          "India",
          "India",
          "India",
          "United States",
          "India",
          "United States",
          "United States",
          "Spain",
          "United States",
          "United States",
          "United States",
          "India",
          "India",
          "India",
          "United States",
          "United States",
          "United States",
          "United Kingdom",
          "United Kingdom",
          "United States",
          "United States",
          "Canada",
          "Spain",
          "India",
          "India",
          "United States",
          "Mexico",
          "United States",
          "India",
          "United States",
          "India",
          "United States",
          "United States",
          "United States",
          "United States",
          "United States",
          "Mexico",
          "United States",
          "India",
          "India",
          "Canada",
          "United States",
          "Spain",
          "United States",
          "United States",
          "United States",
          "Spain",
          "United States",
          "India",
          "India",
          "United States",
          "Spain",
          "Spain",
          "United States",
          "United States",
          "United States",
          "India",
          "India",
          "Mexico",
          "United Kingdom",
          "Mexico",
          "Japan",
          "India",
          "India",
          "United States",
          "Japan",
          "Japan",
          "India",
          "France",
          "United States",
          "United States",
          "United States",
          "India",
          "India",
          "United States",
          "United States",
          "United States",
          "United States",
          "Spain",
          "India",
          "India",
          "United States",
          "Japan",
          "United States",
          "United States",
          "India",
          "India",
          "India",
          "India",
          "South Korea",
          "United States",
          "United States",
          "United States",
          "United States",
          "India",
          "United States",
          "Spain",
          "Spain",
          "United States",
          "United States",
          "United States",
          "India",
          "United Kingdom",
          "India",
          "United States",
          "United States",
          "United States",
          "United States",
          "France",
          "Spain",
          "United States",
          "United States",
          "Spain",
          "United States",
          "South Korea",
          "United States",
          "India",
          "United States",
          "United Kingdom",
          "United States",
          "India",
          "United States",
          "India",
          "India",
          "United States",
          "United States",
          "United States",
          "India",
          "United States",
          "United Kingdom",
          "Mexico",
          "United States",
          "United Kingdom",
          "United States",
          "India",
          "India",
          "United States",
          "India",
          "India",
          "India",
          "India",
          "India",
          "United States",
          "Spain",
          "United States",
          "India",
          "United States",
          "United States",
          "India",
          "United States",
          "United States",
          "India",
          "United States",
          "United States",
          "United States",
          "India",
          "United States",
          "United States",
          "United States",
          "India",
          "Spain",
          "Spain",
          "United States",
          "United States",
          "United States",
          "India",
          "United States",
          "United States",
          "United States",
          "United States",
          "United States",
          "United States",
          "United States",
          "United States",
          "United States",
          "France",
          "United States",
          "United States",
          "United States",
          "Japan",
          "United States",
          "Canada",
          "United States",
          "United States",
          "United States",
          "India",
          "United States",
          "India",
          "Spain",
          "United States",
          "India",
          "United States",
          "France",
          "India",
          "South Korea",
          "United States",
          "Canada",
          "India",
          "United States",
          "India",
          "India",
          "United States",
          "India",
          "India",
          "India",
          "India",
          "India",
          "India",
          "India",
          "Spain",
          "United States",
          "United States",
          "United States",
          "United States",
          "United States",
          "Spain",
          "United States",
          "United Kingdom",
          "India",
          "United States",
          "United States",
          "United States",
          "United States",
          "United States",
          "United States",
          "United States",
          "India",
          "United States",
          "South Korea",
          "Spain",
          "United States",
          "India",
          "United States",
          "United States",
          "Mexico",
          "India",
          "United States",
          "India",
          "India",
          "India",
          "South Korea",
          "United States",
          "India",
          "United States",
          "Spain",
          "United States",
          "Japan",
          "India",
          "United States",
          "United Kingdom",
          "India",
          "United States",
          "Japan",
          "India",
          "India",
          "United States",
          "United Kingdom",
          "United States",
          "United Kingdom",
          "United Kingdom",
          "United States",
          "United States",
          "United Kingdom",
          "Mexico",
          "United States",
          "United States",
          "United States",
          "United States",
          "United States",
          "Japan",
          "United States",
          "United States",
          "United Kingdom",
          "United Kingdom",
          "United States",
          "United States",
          "United States",
          "India",
          "United States",
          "Spain",
          "United States",
          "Japan",
          "India",
          "India",
          "United States",
          "India",
          "United States",
          "United States",
          "United States",
          "United States",
          "United States",
          "United States",
          "United States",
          "United States",
          "Spain",
          "India",
          "United States",
          "United States",
          "United States",
          "United States",
          "United States",
          "United States",
          "United States",
          "United States",
          "Mexico",
          "India",
          "United States",
          "India",
          "United States",
          "United States",
          "Mexico",
          "India",
          "India",
          "France",
          "United States",
          "United States",
          "Spain",
          "United States",
          "United States",
          "United States",
          "United States",
          "United States",
          "India",
          "Canada",
          "India",
          "India",
          "India",
          "India",
          "Spain",
          "United States",
          "India",
          "United States",
          "United States",
          "United States",
          "United States",
          "India",
          "India",
          "India",
          "India",
          "India",
          "India",
          "India",
          "India",
          "Canada",
          "India",
          "India",
          "India",
          "United States",
          "India",
          "India",
          "India",
          "India",
          "India",
          "India",
          "India",
          "India",
          "India",
          "India",
          "United States",
          "India",
          "India",
          "United States",
          "India",
          "India",
          "India",
          "India",
          "India",
          "India",
          "India",
          "India",
          "India",
          "United States",
          "United States",
          "India",
          "India",
          "India",
          "United States",
          "India",
          "United States",
          "United States",
          "United States",
          "United States",
          "United States",
          "South Korea",
          "India",
          "United States",
          "India",
          "United States",
          "India",
          "India",
          "India",
          "United States",
          "United States",
          "United States",
          "United States",
          "United States",
          "United Kingdom",
          "United States",
          "United States",
          "United States",
          "United States",
          "United States",
          "United States",
          "United Kingdom",
          "United Kingdom",
          "United States",
          "United Kingdom",
          "United Kingdom",
          "United Kingdom",
          "United Kingdom",
          "United Kingdom",
          "India",
          "Canada",
          "India",
          "India",
          "India",
          "India",
          "India",
          "India",
          "United States",
          "India",
          "United States",
          "India",
          "India",
          "India",
          "India",
          "India",
          "India",
          "India",
          "India",
          "India",
          "India",
          "India",
          "India",
          "India",
          "India",
          "India",
          "India",
          "India",
          "India",
          "India",
          "India",
          "India",
          "United States",
          "United States",
          "India",
          "India",
          "India",
          "India",
          "India",
          "India",
          "India",
          "India",
          "India",
          "India",
          "India",
          "India",
          "United States",
          "India",
          "India",
          "India",
          "India",
          "India",
          "India",
          "United States",
          "United States",
          "Spain",
          "United States",
          "United States",
          "United States",
          "United States",
          "India",
          "India",
          "India",
          "India",
          "France",
          "Spain",
          "India",
          "India",
          "India",
          "United States",
          "United States",
          "Canada",
          "United States",
          "India",
          "India",
          "India",
          "India",
          "India",
          "United States",
          "United States",
          "South Korea",
          "India",
          "United States",
          "United States",
          "India",
          "India",
          "India",
          "United States",
          "India",
          "India",
          "India",
          "India",
          "India",
          "India",
          "India",
          "India",
          "India",
          "India",
          "India",
          "India",
          "India",
          "India",
          "India",
          "India",
          "India",
          "India",
          "India",
          "United States",
          "Mexico",
          "United States",
          "India",
          "United States",
          "Spain",
          "United States",
          "Spain",
          "Spain",
          "Japan",
          "United States",
          "United States",
          "Mexico",
          "United States",
          "Spain",
          "United States",
          "United States",
          "United States",
          "United States",
          "India",
          "United States",
          "India",
          "India",
          "United States",
          "India",
          "India",
          "India",
          "Mexico",
          "India",
          "United States",
          "India",
          "United States",
          "Spain",
          "United Kingdom",
          "United States",
          "United States",
          "United States",
          "Japan",
          "France",
          "United Kingdom",
          "India",
          "United States",
          "Spain",
          "United States",
          "Mexico",
          "India",
          "United States",
          "Spain",
          "United States",
          "United States",
          "United States",
          "United States",
          "India",
          "Japan",
          "United States",
          "United States",
          "Mexico",
          "United States",
          "United States",
          "France",
          "United States",
          "Mexico",
          "Spain",
          "India",
          "India",
          "United States",
          "United States",
          "Canada",
          "United States",
          "Spain",
          "United States",
          "United States",
          "United States",
          "United States",
          "India",
          "United States",
          "Spain",
          "India",
          "France",
          "United States",
          "Spain",
          "United States",
          "United States",
          "United States",
          "South Korea",
          "United States",
          "United States",
          "United States",
          "United States",
          "France",
          "United Kingdom",
          "United States",
          "United States",
          "United States",
          "United States",
          "France",
          "India",
          "India",
          "United States",
          "India",
          "India",
          "India",
          "India",
          "India",
          "United Kingdom",
          "United States",
          "United States",
          "Mexico",
          "Canada",
          "Canada",
          "United States",
          "United States",
          "United States",
          "India",
          "United States",
          "United States",
          "Japan",
          "South Korea",
          "United Kingdom",
          "United States",
          "United States",
          "India",
          "United States",
          "United States",
          "Canada",
          "United States",
          "United States",
          "India",
          "India",
          "India",
          "United States",
          "India",
          "Spain",
          "India",
          "Canada",
          "Canada",
          "Canada",
          "Canada",
          "Canada",
          "India",
          "India",
          "South Korea",
          "United Kingdom",
          "United States",
          "Spain",
          "South Korea",
          "Japan",
          "United States",
          "United States",
          "India",
          "United States",
          "United States",
          "United States",
          "United States",
          "United States",
          "South Korea",
          "United States",
          "United States",
          "Spain",
          "United States",
          "Mexico",
          "United States",
          "United States",
          "United States",
          "United States",
          "United Kingdom",
          "United States",
          "India",
          "United States",
          "South Korea",
          "United States",
          "India",
          "United States",
          "United States",
          "Spain",
          "United States",
          "Canada",
          "France",
          "United States",
          "United States",
          "United States",
          "United States",
          "Canada",
          "United Kingdom",
          "United States",
          "India",
          "United States",
          "United States",
          "United States",
          "India",
          "United States",
          "United States",
          "India",
          "United States",
          "United States",
          "United States",
          "India",
          "United States",
          "Spain",
          "United States",
          "United States",
          "United States",
          "United States",
          "United States",
          "United States",
          "Canada",
          "Mexico",
          "United States",
          "United States",
          "United States",
          "India",
          "India",
          "Spain",
          "United States",
          "United States",
          "United States",
          "Canada",
          "United States",
          "United States",
          "United States",
          "United Kingdom",
          "United States",
          "United States",
          "United States",
          "France",
          "United States",
          "India",
          "India",
          "Mexico",
          "United Kingdom",
          "United States",
          "United States",
          "Spain",
          "United States",
          "United States",
          "South Korea",
          "Spain",
          "United States",
          "Canada",
          "Mexico",
          "United States",
          "United States",
          "United States",
          "United States",
          "United States",
          "Canada",
          "United States",
          "United States",
          "United States",
          "United States",
          "United States",
          "United States",
          "United States",
          "United States",
          "United States",
          "United States",
          "India",
          "United States",
          "Japan",
          "Japan",
          "United States",
          "India",
          "India",
          "India",
          "United States",
          "India",
          "India",
          "United States",
          "France",
          "United States",
          "United States",
          "United States",
          "United States",
          "United States",
          "United States",
          "United States",
          "United States",
          "United States",
          "Mexico",
          "United States",
          "United States",
          "United States",
          "India",
          "United States",
          "United States",
          "India",
          "United States",
          "United States",
          "United States",
          "Mexico",
          "United States",
          "United States",
          "United States",
          "United States",
          "France",
          "United States",
          "United States",
          "India",
          "Spain",
          "Spain",
          "United States",
          "United States",
          "United States",
          "United States",
          "United States",
          "United States",
          "France",
          "India",
          "India",
          "India",
          "India",
          "Spain",
          "India",
          "Spain",
          "United States",
          "United States",
          "United States",
          "India",
          "United States",
          "United States",
          "United States",
          "United States",
          "India",
          "United Kingdom",
          "United States",
          "India",
          "Spain",
          "South Korea",
          "India",
          "United Kingdom",
          "United States",
          "United Kingdom",
          "United Kingdom",
          "India",
          "United States",
          "India",
          "India",
          "India",
          "Spain",
          "United Kingdom",
          "United Kingdom",
          "United States",
          "India",
          "United States",
          "India",
          "United States",
          "France",
          "United States",
          "Japan",
          "United States",
          "India",
          "India",
          "United States",
          "United States",
          "India",
          "United States",
          "United Kingdom",
          "United States",
          "United States",
          "Mexico",
          "United States",
          "United States",
          "India",
          "India",
          "United Kingdom",
          "Canada",
          "India",
          "Canada",
          "United States",
          "India",
          "United States",
          "United States",
          "United States",
          "United States",
          "Spain",
          "United States",
          "Mexico",
          "United States",
          "United States",
          "United States",
          "United States",
          "India",
          "United States",
          "India",
          "United States",
          "India",
          "Spain",
          "Spain",
          "United Kingdom",
          "United States",
          "United States",
          "United States",
          "United States",
          "United States",
          "United States",
          "South Korea",
          "India",
          "Canada",
          "United Kingdom",
          "India",
          "United States",
          "United States",
          "United States",
          "India",
          "United States",
          "India",
          "United States",
          "United States",
          "Spain",
          "United States",
          "India",
          "Canada",
          "Spain",
          "United States",
          "United Kingdom",
          "United States",
          "Mexico",
          "United States",
          "India",
          "India",
          "India",
          "Spain",
          "Spain",
          "United States",
          "Mexico",
          "France",
          "United Kingdom",
          "United States",
          "France",
          "India",
          "United States",
          "United States",
          "France",
          "United States",
          "United States",
          "United States",
          "United States",
          "Canada",
          "United States",
          "United States",
          "India",
          "United States",
          "India",
          "Mexico",
          "Mexico",
          "United States",
          "United States",
          "United States",
          "United States",
          "United Kingdom",
          "Mexico",
          "United States",
          "United States",
          "United States",
          "United States",
          "United States",
          "United States",
          "France",
          "United States",
          "United States",
          "India",
          "United States",
          "India",
          "United States",
          "United States",
          "India",
          "Mexico",
          "United States",
          "United States",
          "India",
          "Mexico",
          "United States",
          "United States",
          "India",
          "United States",
          "United States",
          "United States",
          "United Kingdom",
          "United States",
          "United States",
          "Spain",
          "Canada",
          "France",
          "France",
          "Spain",
          "United States",
          "France",
          "Japan",
          "Japan",
          "Japan",
          "France",
          "United States",
          "United States",
          "United States",
          "United States",
          "United States",
          "United States",
          "India",
          "Spain",
          "United States",
          "India",
          "United States",
          "United States",
          "United States",
          "United States",
          "United States",
          "United States",
          "United States",
          "United States",
          "United States",
          "United States",
          "United Kingdom",
          "United States",
          "United States",
          "United Kingdom",
          "United Kingdom",
          "United States",
          "United States",
          "United States",
          "United Kingdom",
          "United States",
          "United States",
          "United States",
          "United States",
          "United States",
          "United States",
          "United Kingdom",
          "United States",
          "United Kingdom",
          "United States",
          "United States",
          "United States",
          "Canada",
          "United States",
          "India",
          "Mexico",
          "United States",
          "United States",
          "United States",
          "United States",
          "United States",
          "United States",
          "United States",
          "United States",
          "United States",
          "Canada",
          "United Kingdom",
          "United Kingdom",
          "United States",
          "United States",
          "United States",
          "Mexico",
          "United States",
          "United States",
          "United States",
          "United States",
          "Canada",
          "United States",
          "United States",
          "United States",
          "United States",
          "United States",
          "United States",
          "United States",
          "United States",
          "United States",
          "United States",
          "United States",
          "United States",
          "United States",
          "United States",
          "United States",
          "United States",
          "United States",
          "United States",
          "United States",
          "United States",
          "Mexico",
          "United States",
          "United States",
          "United States",
          "United States",
          "United States",
          "United States",
          "United States",
          "United States",
          "United States",
          "United States",
          "United States",
          "United States",
          "United States",
          "United States",
          "United States",
          "United States",
          "United States",
          "United States",
          "United States",
          "United States",
          "United States",
          "United States",
          "United States",
          "United States",
          "United States",
          "United States",
          "United States",
          "United States",
          "United States",
          "United States",
          "United States",
          "United States",
          "United States",
          "United States",
          "United States",
          "United States",
          "United States",
          "United States",
          "United States",
          "India",
          "India",
          "India",
          "United Kingdom",
          "India",
          "India",
          "India",
          "United States",
          "Canada",
          "Canada",
          "United States",
          "United States",
          "United States",
          "Spain",
          "United States",
          "United States",
          "United States",
          "United States",
          "United States",
          "United States",
          "United States",
          "United States",
          "United States",
          "United States",
          "South Korea",
          "United Kingdom",
          "United States",
          "United States",
          "United States",
          "United Kingdom",
          "United States",
          "United States",
          "United States",
          "Canada",
          "Egypt",
          "United States",
          "United States",
          "United States",
          "United States",
          "United States",
          "United States",
          "United States",
          "India",
          "United States",
          "India",
          "United States",
          "United States",
          "India",
          "United States",
          "United States",
          "United States",
          "United States",
          "United States",
          "United States",
          "United States",
          "United States",
          "United States",
          "United States",
          "United Kingdom",
          "United States",
          "United States",
          "Canada",
          "India",
          "United States",
          "United States",
          "United States",
          "United States",
          "India",
          "United States",
          "United States",
          "Canada",
          "United States",
          "India",
          "India",
          "India",
          "India",
          "India",
          "India",
          "Egypt",
          "India",
          "United States",
          "Mexico",
          "Canada",
          "United States",
          "Canada",
          "France",
          "India",
          "United States",
          "United States",
          "United States",
          "United Kingdom",
          "India",
          "United States",
          "India",
          "India",
          "Egypt",
          "Spain",
          "United States",
          "United States",
          "United States",
          "United States",
          "United States",
          "United States",
          "United States",
          "United Kingdom",
          "United States",
          "United States",
          "United States",
          "United Kingdom",
          "India",
          "Egypt",
          "United States",
          "United States",
          "United States",
          "United States",
          "United States",
          "United States",
          "Canada",
          "United States",
          "United States",
          "United States",
          "United Kingdom",
          "India",
          "United States",
          "United States",
          "United States",
          "United States",
          "Egypt",
          "United States",
          "Egypt",
          "India",
          "Spain",
          "United States",
          "United States",
          "United States",
          "India",
          "United States",
          "United States",
          "Egypt",
          "United States",
          "United States",
          "India",
          "United States",
          "United States",
          "United States",
          "Egypt",
          "United States",
          "United States",
          "United States",
          "United States",
          "South Korea",
          "United States",
          "Canada",
          "United Kingdom",
          "United Kingdom",
          "United States",
          "India",
          "India",
          "India",
          "Canada",
          "United States",
          "United States",
          "United States",
          "India",
          "United States",
          "United States",
          "United States",
          "United States",
          "United States",
          "United States",
          "Spain",
          "India",
          "United States",
          "United States",
          "United States",
          "United States",
          "United States",
          "United States",
          "United States",
          "United States",
          "United States",
          "India",
          "United States",
          "United States",
          "India",
          "India",
          "United States",
          "United States",
          "United States",
          "United States",
          "Egypt",
          "United States",
          "United States",
          "United States",
          "India",
          "United Kingdom",
          "Canada",
          "United States",
          "United States",
          "United States",
          "United States",
          "United States",
          "India",
          "Egypt",
          "India",
          "United States",
          "India",
          "India",
          "India",
          "United States",
          "United States",
          "United States",
          "United States",
          "United Kingdom",
          "United States",
          "United States",
          "India",
          "India",
          "Canada",
          "United States",
          "India",
          "United States",
          "Spain",
          "United States",
          "United States",
          "United States",
          "United States",
          "United States",
          "United States",
          "United States",
          "France",
          "France",
          "United States",
          "United States",
          "United States",
          "United States",
          "Canada",
          "United States",
          "Canada",
          "India",
          "United Kingdom",
          "United States",
          "United States",
          "United States",
          "India",
          "United States",
          "United States",
          "United States",
          "United States",
          "United States",
          "India",
          "United States",
          "United States",
          "United States",
          "Canada",
          "Canada",
          "Canada",
          "United States",
          "United States",
          "United States",
          "United States",
          "United States",
          "United States",
          "India",
          "United States",
          "United States",
          "United States",
          "United States",
          "United States",
          "United States",
          "India",
          "United States",
          "United States",
          "United States",
          "Canada",
          "India",
          "United States",
          "India",
          "India",
          "India",
          "United States",
          "United States",
          "United States",
          "India",
          "United States",
          "United States",
          "United States",
          "United States",
          "United States",
          "United States",
          "India",
          "India",
          "United States",
          "United States",
          "United States",
          "United States",
          "United States",
          "United States",
          "United States",
          "United States",
          "India",
          "United States",
          "United Kingdom",
          "United States",
          "United States",
          "United States",
          "United States",
          "United States",
          "United States",
          "United States",
          "United States",
          "India",
          "India",
          "India",
          "United States",
          "India",
          "United States",
          "India",
          "United States",
          "United States",
          "Canada",
          "United States",
          "United States",
          "Canada",
          "United States",
          "India",
          "United States",
          "United States",
          "India",
          "United States",
          "United States",
          "United States",
          "India",
          "United States",
          "United States",
          "United States",
          "India",
          "India",
          "India",
          "United States",
          "United States",
          "United Kingdom",
          "India",
          "United States",
          "United States",
          "India",
          "United States",
          "Canada",
          "United States",
          "United States",
          "United Kingdom",
          "India",
          "United States",
          "United States",
          "United States",
          "United States",
          "United States",
          "United States",
          "Egypt",
          "United States",
          "Canada",
          "India",
          "India",
          "United Kingdom",
          "United Kingdom",
          "India",
          "United States",
          "United States",
          "United States",
          "United States",
          "United States",
          "United States",
          "United States",
          "United States",
          "France",
          "France",
          "France",
          "United Kingdom",
          "United Kingdom",
          "United States",
          "United States",
          "United States",
          "United States",
          "United States",
          "United States",
          "United States",
          "United States",
          "United States",
          "United States",
          "United States",
          "United States",
          "India",
          "United States",
          "United Kingdom",
          "United States",
          "United States",
          "United States",
          "United States",
          "United States",
          "India",
          "India",
          "India",
          "India",
          "Spain",
          "United States",
          "United Kingdom",
          "United States",
          "France",
          "United States",
          "United States",
          "United Kingdom",
          "United States",
          "United States",
          "India",
          "United States",
          "United States",
          "Canada",
          "United States",
          "Mexico",
          "India",
          "United States",
          "United States",
          "United States",
          "United Kingdom",
          "United States",
          "United States",
          "United States",
          "United States",
          "United States",
          "United States",
          "India",
          "United States",
          "United States",
          "India",
          "United States",
          "India",
          "Egypt",
          "United States",
          "United States",
          "United States",
          "United Kingdom",
          "United States",
          "United States",
          "United States",
          "India",
          "United States",
          "United Kingdom",
          "United States",
          "United States",
          "Egypt",
          "United States",
          "Spain",
          "United States",
          "United States",
          "Mexico",
          "United Kingdom",
          "United States",
          "United States",
          "United Kingdom",
          "United States",
          "United States",
          "United Kingdom",
          "United States",
          "United States",
          "Egypt",
          "United States",
          "United States",
          "United States",
          "Egypt",
          "United States",
          "United States",
          "United States",
          "United States",
          "India",
          "India",
          "United States",
          "United States",
          "United States",
          "United States",
          "India",
          "Japan",
          "Japan",
          "Japan",
          "India",
          "United States",
          "United States",
          "United States",
          "United States",
          "United States",
          "United States",
          "United Kingdom",
          "India",
          "Japan",
          "United States",
          "India",
          "United States",
          "United States",
          "United States",
          "United States",
          "Egypt",
          "United States",
          "United States",
          "India",
          "India",
          "United States",
          "United States",
          "United States",
          "United States",
          "United States",
          "Canada",
          "United Kingdom",
          "India",
          "United States",
          "India",
          "United States",
          "Egypt",
          "United States",
          "United States",
          "United Kingdom",
          "United States",
          "Mexico",
          "United Kingdom",
          "United States",
          "United States",
          "United States",
          "United States",
          "United States",
          "India",
          "United States",
          "United States",
          "United States",
          "United States",
          "United States",
          "United States",
          "United States",
          "United States",
          "United States",
          "United States",
          "United States",
          "United States",
          "United States",
          "India",
          "United States",
          "United States",
          "India",
          "United Kingdom",
          "India",
          "United States",
          "United Kingdom",
          "France",
          "United States",
          "India",
          "United States",
          "United States",
          "United States",
          "United States",
          "India",
          "United States",
          "India",
          "United States",
          "United States",
          "United States",
          "United Kingdom",
          "United States",
          "United States",
          "United States",
          "United States",
          "United States",
          "United States",
          "India",
          "United States",
          "India",
          "India",
          "United Kingdom",
          "Canada",
          "United States",
          "United States",
          "United States",
          "United Kingdom",
          "United States",
          "United States",
          "United Kingdom",
          "United States",
          "United States",
          "United States",
          "United States",
          "United States",
          "India",
          "United States",
          "France",
          "United States",
          "India",
          "United States",
          "India",
          "United States",
          "United States",
          "United States",
          "United States",
          "United States",
          "United States",
          "United Kingdom",
          "India",
          "Mexico",
          "United States",
          "Canada",
          "Japan",
          "Japan",
          "Japan",
          "United States",
          "Canada",
          "India",
          "India",
          "United States",
          "United States",
          "India",
          "India",
          "United States",
          "United States",
          "Spain",
          "Egypt",
          "United States",
          "United States",
          "India",
          "Canada",
          "United States",
          "India",
          "United States",
          "India",
          "India",
          "United States",
          "United States",
          "United States",
          "United States",
          "United States",
          "United States",
          "United States",
          "United Kingdom",
          "India",
          "United States",
          "India",
          "United States",
          "United States",
          "India",
          "India",
          "United States",
          "United States",
          "United States",
          "United States",
          "United States",
          "United States",
          "India",
          "India",
          "India",
          "India",
          "India",
          "India",
          "India",
          "United Kingdom",
          "India",
          "India",
          "India",
          "United States",
          "India",
          "United States",
          "India",
          "India",
          "United States",
          "United States",
          "United States",
          "United States",
          "India",
          "India",
          "India",
          "India",
          "India",
          "United States",
          "United States",
          "United States",
          "United States",
          "United Kingdom",
          "France",
          "United States",
          "United States",
          "United States",
          "United States",
          "United Kingdom",
          "United States",
          "United States",
          "India",
          "United States",
          "United States",
          "United Kingdom",
          "India",
          "United States",
          "United States",
          "United States",
          "United States",
          "India",
          "United States",
          "United States",
          "United States",
          "United States",
          "United States",
          "United States",
          "India",
          "United States",
          "United States",
          "United Kingdom",
          "India",
          "United States",
          "India",
          "United States",
          "United States",
          "India",
          "United States",
          "United States",
          "India",
          "United States",
          "France",
          "France",
          "United States",
          "United States",
          "United States",
          "United States",
          "India",
          "United States",
          "United States",
          "France",
          "United States",
          "United States",
          "United States",
          "United States",
          "Canada",
          "United States",
          "Mexico",
          "United States",
          "Egypt",
          "United States",
          "United States",
          "United States",
          "United States",
          "United States",
          "United States",
          "United States",
          "United States",
          "United Kingdom",
          "Mexico",
          "United States",
          "Canada",
          "India",
          "United States",
          "United States",
          "India",
          "United States",
          "Egypt",
          "United States",
          "United States",
          "India",
          "India",
          "India",
          "United States",
          "India",
          "United States",
          "United States",
          "India",
          "United States",
          "France",
          "India",
          "India",
          "India",
          "India",
          "United States",
          "India",
          "India",
          "United States",
          "United States",
          "United States",
          "United Kingdom",
          "United Kingdom",
          "India",
          "India",
          "United Kingdom",
          "United States",
          "India",
          "United States",
          "United States",
          "India",
          "United States",
          "United States",
          "Japan",
          "India",
          "South Korea",
          "India",
          "United States",
          "Egypt",
          "United States",
          "United States",
          "India",
          "Mexico",
          "Canada",
          "United States",
          "Canada",
          "United Kingdom",
          "India",
          "United States",
          "South Korea",
          "United States",
          "United States",
          "India",
          "United Kingdom",
          "United States",
          "India",
          "India",
          "Japan",
          "United States",
          "United States",
          "United States",
          "United States",
          "United States",
          "India",
          "United States",
          "United States",
          "United States",
          "United States",
          "Canada",
          "Egypt",
          "United States",
          "United States",
          "United States",
          "United States",
          "United States",
          "United States",
          "United States",
          "United States",
          "United States",
          "United States",
          "United States",
          "United States",
          "United States",
          "United States",
          "United States",
          "India",
          "India",
          "United States",
          "United States",
          "United States",
          "United States",
          "Egypt",
          "United States",
          "India",
          "France",
          "United States",
          "United States",
          "United States",
          "Canada",
          "India",
          "United States",
          "Egypt",
          "United States",
          "Canada",
          "United States",
          "United Kingdom",
          "United States",
          "United States",
          "India",
          "India",
          "United States",
          "Japan",
          "United States",
          "United States",
          "United States",
          "United States",
          "United States",
          "India",
          "United States",
          "United States",
          "United States",
          "United States",
          "United States",
          "United States",
          "United States",
          "United States",
          "India",
          "United States",
          "United States",
          "United States",
          "India",
          "United States",
          "United States",
          "United States",
          "United States",
          "United States",
          "United States",
          "United States",
          "United States",
          "United States",
          "United States",
          "United States",
          "United States",
          "United States",
          "United States",
          "United States",
          "United States",
          "United States",
          "United States",
          "United States",
          "United States",
          "United States",
          "United States",
          "United States",
          "United States",
          "United States",
          "United States",
          "United Kingdom",
          "United States",
          "United States",
          "United States",
          "United States",
          "Spain",
          "United States",
          "United States",
          "United States",
          "Egypt",
          "India",
          "United States",
          "United States",
          "United States",
          "United States",
          "United Kingdom",
          "United States",
          "India",
          "United States",
          "United States",
          "India",
          "United States",
          "South Korea",
          "United States",
          "United States",
          "India",
          "India",
          "United Kingdom",
          "United Kingdom",
          "India",
          "United States",
          "India",
          "United States",
          "United States",
          "United Kingdom",
          "Spain",
          "United States",
          "India",
          "Canada",
          "United States",
          "India",
          "India",
          "United States",
          "United States",
          "India",
          "United States",
          "United States",
          "United States",
          "India",
          "India",
          "United States",
          "Canada",
          "United States",
          "United States",
          "United States",
          "United States",
          "India",
          "India",
          "United States",
          "United States",
          "India",
          "India",
          "France",
          "United States",
          "United States",
          "United States",
          "United Kingdom",
          "United States",
          "United States",
          "United States",
          "United States",
          "United States",
          "United States",
          "United States",
          "United States",
          "United States",
          "India",
          "United States",
          "United States",
          "United States",
          "United States",
          "Canada",
          "India",
          "United States",
          "United Kingdom",
          "India",
          "United States",
          "United States",
          "United States",
          "United States",
          "India",
          "United States",
          "India",
          "United States",
          "India",
          "India",
          "United States",
          "India",
          "India",
          "South Korea",
          "India",
          "United States",
          "Egypt",
          "India",
          "United States",
          "Canada",
          "United States",
          "India",
          "United Kingdom",
          "United States",
          "Egypt",
          "United States",
          "United States",
          "United States",
          "United States",
          "India",
          "Mexico",
          "United States",
          "India",
          "India",
          "India",
          "India",
          "United Kingdom",
          "United States",
          "United States",
          "United States",
          "United States",
          "United States",
          "United States",
          "Egypt",
          "United States",
          "Canada",
          "United States",
          "United States",
          "United States",
          "India",
          "Mexico",
          "India",
          "United States",
          "United States",
          "United States",
          "United States",
          "United States",
          "India",
          "United States",
          "India",
          "Canada",
          "India",
          "India",
          "United States",
          "India",
          "India",
          "India",
          "Egypt",
          "India",
          "India",
          "Egypt",
          "United States",
          "United States",
          "India",
          "India",
          "United States",
          "France",
          "Canada",
          "India",
          "India",
          "India",
          "United States",
          "India",
          "India",
          "United States",
          "United States",
          "Egypt",
          "United States",
          "United States",
          "United States",
          "United States",
          "United States",
          "United States",
          "United States",
          "United States",
          "United States",
          "United States",
          "United States",
          "United States",
          "United States",
          "United States",
          "United States",
          "United States",
          "United Kingdom",
          "United States",
          "United Kingdom",
          "United States",
          "United Kingdom",
          "United Kingdom",
          "United States",
          "United States",
          "United States",
          "Mexico",
          "United States",
          "India",
          "India",
          "India",
          "India",
          "United States",
          "India",
          "United States",
          "United States",
          "India",
          "United States",
          "India",
          "United States",
          "India",
          "United States",
          "United States",
          "India",
          "United States",
          "United States",
          "United States",
          "United States",
          "United States",
          "United States",
          "United States",
          "United States",
          "United States",
          "United States",
          "United States",
          "United States",
          "India",
          "United States",
          "Mexico",
          "United States",
          "United States",
          "United States",
          "United States",
          "United States",
          "United States",
          "United States",
          "United Kingdom",
          "United States",
          "United States",
          "United Kingdom",
          "United States",
          "United States",
          "United Kingdom",
          "United States",
          "United States",
          "United States",
          "United States",
          "Spain",
          "United States",
          "United States",
          "Canada",
          "United States",
          "United Kingdom",
          "United States",
          "United States",
          "Egypt",
          "United States",
          "India",
          "United States",
          "United States",
          "India",
          "United States",
          "Canada",
          "United States",
          "United States",
          "United States",
          "United States",
          "India",
          "United States",
          "India",
          "United States",
          "India",
          "United States",
          "United States",
          "United States",
          "United States",
          "United States",
          "United States",
          "United States",
          "India",
          "India",
          "India",
          "India",
          "France",
          "United States",
          "United States",
          "Egypt",
          "United States",
          "United States",
          "India",
          "United States",
          "United States",
          "India",
          "France",
          "United States",
          "India",
          "United States",
          "Canada",
          "United States",
          "Canada",
          "United States",
          "South Korea",
          "United States",
          "United States",
          "United States",
          "Egypt",
          "United States",
          "United Kingdom",
          "United States",
          "United States",
          "United States",
          "United States",
          "United States",
          "United States",
          "United States",
          "United States",
          "France",
          "United States",
          "United States",
          "United States",
          "United States",
          "United States",
          "United States",
          "United States",
          "United States",
          "Canada",
          "United States",
          "United States",
          "United States",
          "Egypt",
          "United States",
          "Egypt",
          "United States",
          "United States",
          "United States",
          "United States",
          "Canada",
          "Egypt",
          "United States",
          "United States",
          "United States",
          "India",
          "India",
          "United Kingdom",
          "United States",
          "United States",
          "United States",
          "United States",
          "United States",
          "United States",
          "United States",
          "United States",
          "United States",
          "United States",
          "United States",
          "United Kingdom",
          "United States",
          "United States",
          "United States",
          "United States",
          "United States",
          "United States",
          "United States",
          "United Kingdom",
          "United States",
          "United States",
          "United States",
          "United States",
          "United States",
          "United States",
          "United States",
          "United States",
          "South Korea",
          "India",
          "United States",
          "United States",
          "United States",
          "Canada",
          "United States",
          "Canada",
          "Spain",
          "United States",
          "United States",
          "United States",
          "India",
          "Canada",
          "United States",
          "Mexico",
          "United States",
          "United States",
          "United States",
          "United Kingdom",
          "United Kingdom",
          "United States",
          "United States",
          "France",
          "United States",
          "United States",
          "United States",
          "United States",
          "United States",
          "United Kingdom",
          "United States",
          "United States",
          "United States",
          "India",
          "United States",
          "United States",
          "United States",
          "United States",
          "United Kingdom",
          "United States",
          "United States",
          "United States",
          "United States",
          "United States",
          "South Korea",
          "United States",
          "United States",
          "United States",
          "United States",
          "United States",
          "United States",
          "Canada",
          "United States",
          "United States",
          "United States",
          "United Kingdom",
          "United Kingdom",
          "United States",
          "United States",
          "United States",
          "United States",
          "United States",
          "United States",
          "India",
          "Egypt",
          "United States",
          "South Korea",
          "United States",
          "South Korea",
          "United States",
          "United States",
          "United States",
          "India",
          "United States",
          "United States",
          "United States",
          "Egypt",
          "United States",
          "United Kingdom",
          "United States",
          "United States",
          "United Kingdom",
          "United States",
          "United States",
          "United States",
          "United States",
          "United States",
          "India",
          "United States",
          "United States",
          "Mexico",
          "United States",
          "United States",
          "United States",
          "United States",
          "United Kingdom",
          "United States",
          "United States",
          "United Kingdom",
          "United States",
          "United States",
          "United States",
          "United States",
          "Egypt",
          "United States",
          "United Kingdom",
          "United States",
          "United States",
          "United States",
          "United Kingdom",
          "United States",
          "United Kingdom",
          "United States",
          "United States",
          "United States",
          "United States",
          "Egypt",
          "United States",
          "United States",
          "United Kingdom",
          "France",
          "United Kingdom",
          "Canada",
          "Canada",
          "India",
          "United States",
          "United States",
          "United States",
          "United Kingdom",
          "United States",
          "United States",
          "United States",
          "India",
          "India",
          "United States",
          "United States",
          "United States",
          "United States",
          "India",
          "United States",
          "United States",
          "United States",
          "India",
          "South Korea",
          "United Kingdom",
          "United States",
          "United States",
          "United Kingdom",
          "Canada",
          "United States",
          "United States",
          "United States",
          "United States",
          "United Kingdom",
          "India",
          "India",
          "India",
          "United States",
          "United States",
          "United States",
          "United States",
          "United States",
          "India",
          "United States",
          "United States",
          "United States",
          "India",
          "United Kingdom",
          "Canada",
          "India",
          "United States",
          "United States",
          "United States",
          "Canada",
          "United States",
          "Egypt",
          "United States",
          "India",
          "Egypt",
          "United States",
          "United States",
          "India",
          "India",
          "United States",
          "United States",
          "United States",
          "United States",
          "India",
          "India",
          "India",
          "United Kingdom",
          "India",
          "India",
          "United States",
          "United States",
          "United Kingdom",
          "United States",
          "India",
          "United Kingdom",
          "Egypt",
          "Mexico",
          "United States",
          "United States",
          "Spain",
          "United States",
          "United States",
          "India",
          "United States",
          "United States",
          "United States",
          "United States",
          "United Kingdom",
          "United States",
          "United States",
          "United States",
          "United Kingdom",
          "United Kingdom",
          "United States",
          "United States",
          "United Kingdom",
          "United States",
          "United States",
          "United States",
          "United Kingdom",
          "United States",
          "United States",
          "United States",
          "Canada",
          "United States",
          "United States",
          "United States",
          "United States",
          "United States",
          "India",
          "United States",
          "United States",
          "United States",
          "United States",
          "Mexico",
          "India",
          "India",
          "India",
          "India",
          "India",
          "United States",
          "United Kingdom",
          "United States",
          "United States",
          "United States",
          "United States",
          "India",
          "India",
          "United States",
          "United States",
          "United States",
          "India"
         ],
         "yaxis": "y"
        },
        {
         "alignmentgroup": "True",
         "bingroup": "y",
         "hovertemplate": "type=TV Show<br>count=%{x}<br>country=%{y}<extra></extra>",
         "legendgroup": "TV Show",
         "marker": {
          "color": "black",
          "pattern": {
           "shape": ""
          }
         },
         "name": "TV Show",
         "offsetgroup": "TV Show",
         "orientation": "h",
         "showlegend": true,
         "type": "histogram",
         "xaxis": "x",
         "y": [
          "United States",
          "United States",
          "India",
          "United States",
          "United Kingdom",
          "United States",
          "United States",
          "United States",
          "United States",
          "Mexico",
          "United States",
          "United States",
          "United States",
          "United Kingdom",
          "United States",
          "United States",
          "India",
          "United States",
          "United States",
          "India",
          "United States",
          "United Kingdom",
          "India",
          "United States",
          "India",
          "United States",
          "United Kingdom",
          "United States",
          "Japan",
          "United States",
          "United States",
          "United States",
          "United States",
          "United States",
          "United States",
          "United Kingdom",
          "United States",
          "United States",
          "South Korea",
          "United States",
          "Spain",
          "United States",
          "United States",
          "United States",
          "South Korea",
          "United States",
          "United States",
          "United States",
          "United States",
          "Japan",
          "United States",
          "United States",
          "United States",
          "United States",
          "United States",
          "United States",
          "United States",
          "United States",
          "United States",
          "United States",
          "United States",
          "Japan",
          "United States",
          "United States",
          "United States",
          "United States",
          "United States",
          "United States",
          "United States",
          "United States",
          "United States",
          "United States",
          "United States",
          "United States",
          "United States",
          "United States",
          "United States",
          "United States",
          "Japan",
          "India",
          "United States",
          "United States",
          "France",
          "United States",
          "Spain",
          "United States",
          "United States",
          "United States",
          "South Korea",
          "Japan",
          "India",
          "United States",
          "United States",
          "Mexico",
          "United States",
          "United States",
          "United States",
          "United States",
          "United States",
          "Japan",
          "United States",
          "United States",
          "United Kingdom",
          "United States",
          "United States",
          "United States",
          "United States",
          "United States",
          "United States",
          "United States",
          "United States",
          "United States",
          "United States",
          "United States",
          "United States",
          "United States",
          "Spain",
          "United States",
          "United States",
          "United States",
          "United States",
          "United States",
          "United States",
          "United States",
          "Japan",
          "South Korea",
          "United States",
          "United States",
          "United States",
          "United States",
          "United States",
          "United States",
          "United States",
          "United States",
          "United States",
          "United States",
          "United States",
          "United States",
          "United States",
          "Canada",
          "United States",
          "United States",
          "United Kingdom",
          "United Kingdom",
          "Japan",
          "United Kingdom",
          "United States",
          "Canada",
          "United Kingdom",
          "Japan",
          "United States",
          "United States",
          "United States",
          "Canada",
          "Japan",
          "United Kingdom",
          "Canada",
          "South Korea",
          "United States",
          "United States",
          "United States",
          "United States",
          "France",
          "United States",
          "United States",
          "United States",
          "United States",
          "United States",
          "United States",
          "United States",
          "Mexico",
          "United States",
          "United States",
          "Japan",
          "United States",
          "United States",
          "United States",
          "United States",
          "Japan",
          "United States",
          "United States",
          "United States",
          "United States",
          "United States",
          "United States",
          "France",
          "United States",
          "United States",
          "Spain",
          "United States",
          "United States",
          "United States",
          "Spain",
          "United States",
          "Japan",
          "United States",
          "United States",
          "United States",
          "United Kingdom",
          "Spain",
          "South Korea",
          "United States",
          "United States",
          "United States",
          "United States",
          "United States",
          "United States",
          "United States",
          "United States",
          "United States",
          "United States",
          "United States",
          "United States",
          "United States",
          "United States",
          "United States",
          "South Korea",
          "United States",
          "United States",
          "United States",
          "United Kingdom",
          "United States",
          "United States",
          "Japan",
          "United States",
          "Japan",
          "United Kingdom",
          "United States",
          "United Kingdom",
          "United States",
          "Japan",
          "United States",
          "United States",
          "United States",
          "United States",
          "United States",
          "United States",
          "United States",
          "Japan",
          "United States",
          "United States",
          "United States",
          "Spain",
          "United States",
          "Mexico",
          "United Kingdom",
          "India",
          "United States",
          "United States",
          "South Korea",
          "United States",
          "United States",
          "United States",
          "United States",
          "United States",
          "South Korea",
          "United States",
          "India",
          "India",
          "United States",
          "United States",
          "United States",
          "United States",
          "United States",
          "United States",
          "United States",
          "United States",
          "United States",
          "United States",
          "United States",
          "United States",
          "Mexico",
          "United States",
          "South Korea",
          "United States",
          "Japan",
          "United States",
          "United States",
          "Japan",
          "United States",
          "Japan",
          "United States",
          "United States",
          "United States",
          "United States",
          "South Korea",
          "United States",
          "South Korea",
          "Canada",
          "United States",
          "United States",
          "United States",
          "Japan",
          "India",
          "United States",
          "United States",
          "United States",
          "United Kingdom",
          "United States",
          "United Kingdom",
          "United States",
          "South Korea",
          "Japan",
          "United States",
          "United States",
          "Spain",
          "United Kingdom",
          "United States",
          "Japan",
          "South Korea",
          "South Korea",
          "United States",
          "United States",
          "United Kingdom",
          "Japan",
          "United States",
          "Egypt",
          "United Kingdom",
          "South Korea",
          "United States",
          "United Kingdom",
          "France",
          "United States",
          "United States",
          "India",
          "Egypt",
          "United States",
          "Spain",
          "United States",
          "United States",
          "United States",
          "United States",
          "Japan",
          "United States",
          "United States",
          "United States",
          "United States",
          "United States",
          "India",
          "South Korea",
          "India",
          "South Korea",
          "South Korea",
          "United States",
          "United States",
          "United Kingdom",
          "United States",
          "United States",
          "United Kingdom",
          "United States",
          "United States",
          "United States",
          "United Kingdom",
          "Mexico",
          "United States",
          "United States",
          "United States",
          "United States",
          "Spain",
          "United States",
          "United States",
          "United States",
          "Canada",
          "United States",
          "United States",
          "United States",
          "United States",
          "France",
          "United States",
          "United States",
          "United States",
          "Canada",
          "South Korea",
          "Japan",
          "Mexico",
          "United States",
          "United States",
          "United States",
          "United States",
          "United States",
          "United States",
          "United States",
          "United Kingdom",
          "United Kingdom",
          "India",
          "United States",
          "Spain",
          "United States",
          "United States",
          "United States",
          "United States",
          "United States",
          "United States",
          "United States",
          "United States",
          "Mexico",
          "United States",
          "United States",
          "United States",
          "United States",
          "United States",
          "United Kingdom",
          "United States",
          "South Korea",
          "India",
          "United States",
          "South Korea",
          "United States",
          "United Kingdom",
          "India",
          "South Korea",
          "United States",
          "United States",
          "Japan",
          "United Kingdom",
          "United States",
          "United States",
          "United States",
          "United States",
          "United States",
          "United States",
          "France",
          "Spain",
          "Japan",
          "United States",
          "Egypt",
          "United States",
          "United States",
          "United States",
          "United States",
          "South Korea",
          "United States",
          "France",
          "India",
          "United States",
          "United States",
          "United Kingdom",
          "United States",
          "United States",
          "United States",
          "South Korea",
          "United States",
          "United Kingdom",
          "South Korea",
          "India",
          "United States",
          "Japan",
          "Egypt",
          "South Korea",
          "United States",
          "India",
          "United States",
          "United States",
          "United States",
          "United States",
          "United States",
          "Japan",
          "United States",
          "United States",
          "Spain",
          "South Korea",
          "United States",
          "United States",
          "United States",
          "United States",
          "United States",
          "United States",
          "Egypt",
          "Canada",
          "United States",
          "United States",
          "United States",
          "United States",
          "United States",
          "United States",
          "Canada",
          "South Korea",
          "South Korea",
          "United States",
          "United States",
          "United States",
          "United States",
          "United States",
          "United States",
          "Spain",
          "United States",
          "United States",
          "United States",
          "South Korea",
          "United States",
          "France",
          "United States",
          "United Kingdom",
          "United States",
          "United States",
          "United States",
          "United States",
          "United States",
          "United States",
          "United States",
          "United States",
          "South Korea",
          "South Korea",
          "India",
          "United States",
          "United States",
          "United States",
          "United States",
          "United States",
          "South Korea",
          "Japan",
          "United States",
          "Japan",
          "United States",
          "United States",
          "Mexico",
          "Japan",
          "United States",
          "United States",
          "United States",
          "United States",
          "United States",
          "United States",
          "South Korea",
          "United States",
          "United States",
          "United States",
          "United States",
          "United States",
          "United States",
          "United States",
          "United States",
          "United States",
          "United Kingdom",
          "United States",
          "France",
          "United States",
          "Spain",
          "United Kingdom",
          "United States",
          "United States",
          "United States",
          "Spain",
          "South Korea",
          "United States",
          "United States",
          "United States",
          "United Kingdom",
          "United States",
          "United States",
          "Japan",
          "United States",
          "Japan",
          "United States",
          "France",
          "United States",
          "Japan",
          "United Kingdom",
          "India",
          "Japan",
          "United States",
          "United States",
          "United States",
          "United States",
          "United States",
          "Canada",
          "South Korea",
          "United States",
          "United States",
          "United States",
          "South Korea",
          "United States",
          "United States",
          "United States",
          "Japan",
          "United States",
          "United States",
          "Japan",
          "Spain",
          "United States",
          "United States",
          "United States",
          "United States",
          "Canada",
          "United States",
          "United States",
          "United States",
          "Canada",
          "Japan",
          "Canada",
          "Japan",
          "United States",
          "United Kingdom",
          "United States",
          "United States",
          "United States",
          "United States",
          "United States",
          "Spain",
          "United States",
          "United States",
          "United States",
          "United Kingdom",
          "France",
          "United States",
          "Mexico",
          "United States",
          "United States",
          "United States",
          "United States",
          "Japan",
          "South Korea",
          "India",
          "Spain",
          "Japan",
          "United States",
          "United States",
          "United States",
          "United States",
          "United Kingdom",
          "United States",
          "France",
          "Japan",
          "United States",
          "South Korea",
          "United Kingdom",
          "United States",
          "South Korea",
          "United States",
          "United States",
          "United States",
          "United States",
          "United States",
          "United States",
          "United States",
          "United States",
          "Japan",
          "Mexico",
          "United States",
          "United States",
          "South Korea",
          "United States",
          "United States",
          "Japan",
          "United States",
          "Japan",
          "South Korea",
          "Japan",
          "Japan",
          "South Korea",
          "South Korea",
          "United States",
          "Japan",
          "United States",
          "India",
          "United States",
          "United Kingdom",
          "Canada",
          "South Korea",
          "United States",
          "United States",
          "United States",
          "United Kingdom",
          "United States",
          "South Korea",
          "South Korea",
          "United States",
          "France",
          "United States",
          "United States",
          "Japan",
          "United States",
          "South Korea",
          "Canada",
          "United States",
          "United States",
          "Canada",
          "Canada",
          "United States",
          "United States",
          "United States",
          "United States",
          "United States",
          "Japan",
          "Canada",
          "Japan",
          "Japan",
          "South Korea",
          "United Kingdom",
          "United States",
          "United Kingdom",
          "South Korea",
          "United States",
          "United Kingdom",
          "United States",
          "Mexico",
          "United States",
          "United Kingdom",
          "Japan",
          "United States",
          "United States",
          "United States",
          "India",
          "South Korea",
          "United States",
          "Mexico",
          "India",
          "France",
          "United States",
          "United States",
          "Japan",
          "United States",
          "United States",
          "United States",
          "United States",
          "United Kingdom",
          "United States",
          "Japan",
          "United Kingdom",
          "United States",
          "United Kingdom",
          "India",
          "United States",
          "United States",
          "South Korea",
          "United States",
          "India",
          "United States",
          "United States",
          "United States",
          "United States",
          "United States",
          "United States",
          "United States",
          "India",
          "United Kingdom",
          "United Kingdom",
          "United States",
          "France",
          "United States",
          "United States",
          "United States",
          "United States",
          "United States",
          "United States",
          "India",
          "Spain",
          "Japan",
          "United States",
          "Spain",
          "Mexico",
          "United States",
          "Japan",
          "United States",
          "United States",
          "South Korea",
          "Canada",
          "United States",
          "South Korea",
          "United States",
          "United States",
          "India",
          "United States",
          "United States",
          "United States",
          "United States",
          "United States",
          "United States",
          "United States",
          "Japan",
          "United States",
          "United States",
          "United States",
          "Japan",
          "South Korea",
          "Japan",
          "Japan",
          "United States",
          "Mexico",
          "Spain",
          "Japan",
          "United Kingdom",
          "United States",
          "United States",
          "United Kingdom",
          "United States",
          "United States",
          "United States",
          "United States",
          "Japan",
          "United States",
          "United States",
          "United States",
          "Canada",
          "United States",
          "Japan",
          "United States",
          "France",
          "United States",
          "United States",
          "United Kingdom",
          "United States",
          "India",
          "United States",
          "France",
          "United States",
          "United Kingdom",
          "Canada",
          "United States",
          "South Korea",
          "Canada",
          "Japan",
          "United States",
          "South Korea",
          "United States",
          "South Korea",
          "South Korea",
          "United States",
          "South Korea",
          "Japan",
          "United States",
          "South Korea",
          "United States",
          "Japan",
          "United States",
          "France",
          "United States",
          "Japan",
          "United States",
          "United States",
          "France",
          "United States",
          "South Korea",
          "United States",
          "South Korea",
          "Japan",
          "United States",
          "United States",
          "United States",
          "United States",
          "Japan",
          "United States",
          "Spain",
          "United States",
          "United States",
          "United States",
          "United States",
          "United States",
          "United States",
          "South Korea",
          "United States",
          "Japan",
          "United States",
          "France",
          "Mexico",
          "United States",
          "United States",
          "United States",
          "United States",
          "France",
          "United States",
          "United States",
          "South Korea",
          "Japan",
          "United States",
          "South Korea",
          "Mexico",
          "United States",
          "United States",
          "South Korea",
          "India",
          "United Kingdom",
          "Japan",
          "United States",
          "United Kingdom",
          "United Kingdom",
          "United States",
          "United States",
          "United States",
          "United States",
          "France",
          "United States",
          "Japan",
          "Japan",
          "Japan",
          "Japan",
          "Japan",
          "United States",
          "United States",
          "South Korea",
          "South Korea",
          "United States",
          "United States",
          "United States",
          "Spain",
          "France",
          "Spain",
          "United States",
          "United States",
          "United States",
          "United Kingdom",
          "United Kingdom",
          "India",
          "United States",
          "United States",
          "South Korea",
          "South Korea",
          "South Korea",
          "United States",
          "France",
          "United States",
          "Japan",
          "United States",
          "Mexico",
          "South Korea",
          "United Kingdom",
          "United States",
          "United States",
          "United States",
          "United States",
          "United States",
          "South Korea",
          "South Korea",
          "India",
          "India",
          "India",
          "India",
          "South Korea",
          "South Korea",
          "South Korea",
          "United States",
          "India",
          "Mexico",
          "United States",
          "South Korea",
          "United States",
          "Spain",
          "United States",
          "United States",
          "Spain",
          "South Korea",
          "United States",
          "Japan",
          "France",
          "United States",
          "United States",
          "United States",
          "United States",
          "France",
          "United States",
          "United States",
          "Japan",
          "United Kingdom",
          "United States",
          "United Kingdom",
          "United States",
          "United States",
          "United States",
          "Spain",
          "United States",
          "United States",
          "Spain",
          "United States",
          "United States",
          "United States",
          "United States",
          "United States",
          "United States",
          "South Korea",
          "United States",
          "South Korea",
          "South Korea",
          "South Korea",
          "South Korea",
          "South Korea",
          "United States",
          "United States",
          "United States",
          "United States",
          "South Korea",
          "United States",
          "United States",
          "United States",
          "India",
          "South Korea",
          "United States",
          "Japan",
          "Japan",
          "Japan",
          "Japan",
          "United States",
          "United States",
          "South Korea",
          "United States",
          "United States",
          "United States",
          "United States",
          "United States",
          "United States",
          "South Korea",
          "United States",
          "United States",
          "France",
          "France",
          "Japan",
          "United States",
          "United States",
          "United States",
          "Spain",
          "United States",
          "Japan",
          "United States",
          "Japan",
          "Japan",
          "United States",
          "United States",
          "Japan",
          "Japan",
          "Japan",
          "Spain",
          "United States",
          "United States",
          "United States",
          "India",
          "United States",
          "United States",
          "Mexico",
          "United States",
          "United States",
          "United States",
          "United Kingdom",
          "United States",
          "United States",
          "South Korea",
          "Japan",
          "Canada",
          "United States",
          "United States",
          "United States",
          "United States",
          "United States",
          "United States",
          "United States",
          "Mexico",
          "Mexico",
          "United States",
          "United Kingdom",
          "United Kingdom",
          "United States",
          "Japan",
          "United States",
          "United States",
          "United States",
          "United States",
          "United States",
          "United States",
          "United States",
          "United States",
          "United States",
          "United States",
          "United States",
          "United States",
          "South Korea",
          "United States",
          "United States",
          "Mexico",
          "United Kingdom",
          "United States",
          "Japan",
          "Japan",
          "United States",
          "United States",
          "United States",
          "United States",
          "United States",
          "United States",
          "United States",
          "United States",
          "United States",
          "South Korea",
          "United States",
          "United States",
          "United Kingdom",
          "United States",
          "United States",
          "Mexico",
          "South Korea",
          "United States",
          "South Korea",
          "United Kingdom",
          "France",
          "United States",
          "United States",
          "United Kingdom",
          "Japan",
          "United States",
          "United States",
          "Mexico",
          "India",
          "United States",
          "United States",
          "Canada",
          "Japan",
          "United States",
          "Japan",
          "Spain",
          "United States",
          "United Kingdom",
          "United States",
          "United Kingdom",
          "Egypt",
          "Egypt",
          "Egypt",
          "Egypt",
          "United States",
          "United States",
          "Egypt",
          "United States",
          "United States",
          "South Korea",
          "India",
          "United States",
          "United States",
          "Canada",
          "Japan",
          "United States",
          "United States",
          "United Kingdom",
          "United States",
          "United States",
          "Spain",
          "United States",
          "Egypt",
          "Egypt",
          "South Korea",
          "United Kingdom",
          "Egypt",
          "Japan",
          "South Korea",
          "United States",
          "United States",
          "Japan",
          "United States",
          "United States",
          "United Kingdom",
          "Mexico",
          "Spain",
          "United States",
          "United States",
          "United States",
          "United States",
          "United Kingdom",
          "United States",
          "United States",
          "United States",
          "United Kingdom",
          "United States",
          "United States",
          "United States",
          "United States",
          "United States",
          "United States",
          "United States",
          "India",
          "United States",
          "United States",
          "United Kingdom",
          "United States",
          "United States",
          "Japan",
          "Japan",
          "Japan",
          "United States",
          "United States",
          "United Kingdom",
          "South Korea",
          "United States",
          "United States",
          "United States",
          "United States",
          "Japan",
          "United States",
          "South Korea",
          "South Korea",
          "United States",
          "United States",
          "Japan",
          "United States",
          "Canada",
          "Spain",
          "United Kingdom",
          "United States",
          "United States",
          "United States",
          "United States",
          "United States",
          "Canada",
          "United States",
          "United States",
          "United States",
          "United States",
          "United States",
          "United States",
          "United States",
          "Japan",
          "United States",
          "United States",
          "United States",
          "United States",
          "United States",
          "United States",
          "United Kingdom",
          "Canada",
          "United Kingdom",
          "United States",
          "United States",
          "United States",
          "United States",
          "United States",
          "United States",
          "United States",
          "United States",
          "Japan",
          "South Korea",
          "United States",
          "United Kingdom",
          "United Kingdom",
          "United Kingdom",
          "United States",
          "United States",
          "United Kingdom",
          "United States",
          "Canada",
          "United States",
          "Japan",
          "United States",
          "United States",
          "Japan",
          "United States",
          "United States",
          "Mexico",
          "United States",
          "United States",
          "South Korea",
          "United States",
          "United States",
          "United States",
          "United States",
          "United States",
          "United States",
          "United States",
          "United States",
          "United States",
          "Spain",
          "United States",
          "United States",
          "United States",
          "India",
          "United Kingdom",
          "United States",
          "United States",
          "United States",
          "United States",
          "United States",
          "Spain",
          "United States",
          "Mexico",
          "Japan",
          "Japan",
          "France",
          "Japan",
          "Japan",
          "Spain",
          "United Kingdom",
          "United States",
          "Japan",
          "United States",
          "United States",
          "United Kingdom",
          "United States",
          "South Korea",
          "United States",
          "United States",
          "United States",
          "United Kingdom",
          "United States",
          "United States",
          "United States",
          "United States",
          "United States",
          "France",
          "United States",
          "Japan",
          "France",
          "United States",
          "United States",
          "United States",
          "South Korea",
          "Japan",
          "United States",
          "Japan",
          "United States",
          "United States",
          "United States",
          "United States",
          "France",
          "United States",
          "United States",
          "United States",
          "United States",
          "United States",
          "United States",
          "France",
          "United States",
          "United States",
          "France",
          "United States",
          "United Kingdom",
          "United Kingdom",
          "United States",
          "Canada",
          "United Kingdom",
          "United Kingdom",
          "United Kingdom",
          "United States",
          "United States",
          "Egypt",
          "Japan",
          "Japan",
          "South Korea",
          "United States",
          "Canada",
          "France",
          "United States",
          "United Kingdom",
          "United Kingdom",
          "United States",
          "United States",
          "Japan",
          "United States",
          "United States",
          "United States",
          "United Kingdom",
          "United States",
          "South Korea",
          "Japan",
          "Spain",
          "Japan",
          "United States",
          "United States",
          "Japan",
          "Japan",
          "Japan",
          "United Kingdom",
          "Japan",
          "France",
          "United States",
          "France",
          "United States",
          "United States",
          "United Kingdom",
          "South Korea",
          "United States",
          "United States",
          "United States",
          "United States",
          "United States",
          "Japan",
          "France",
          "United States",
          "United States",
          "United Kingdom",
          "United Kingdom",
          "Japan",
          "United States",
          "United States",
          "South Korea",
          "United States",
          "United States",
          "United States",
          "United States",
          "Japan",
          "Japan",
          "Japan",
          "United States",
          "Japan",
          "United States",
          "United States",
          "Canada",
          "United States",
          "United States",
          "United States",
          "United States",
          "United States",
          "United Kingdom",
          "United States",
          "United States",
          "United States",
          "United States",
          "France",
          "United States",
          "Japan",
          "Japan",
          "United States",
          "United States",
          "United States",
          "United Kingdom",
          "United States",
          "United Kingdom",
          "United States",
          "United States",
          "Canada",
          "United States",
          "Spain",
          "United States",
          "United States",
          "United States",
          "United States",
          "United States",
          "Japan",
          "Japan",
          "United States",
          "United States",
          "United States",
          "United States",
          "Japan",
          "United States",
          "South Korea",
          "United States",
          "United States",
          "United States",
          "United Kingdom",
          "United Kingdom",
          "United Kingdom",
          "United States",
          "United States",
          "United States",
          "Canada",
          "United States",
          "United Kingdom",
          "United States",
          "Japan",
          "United States",
          "United States",
          "South Korea",
          "South Korea",
          "South Korea",
          "South Korea",
          "South Korea",
          "South Korea",
          "United Kingdom",
          "United States",
          "United States",
          "United States",
          "United States",
          "United States",
          "United States",
          "South Korea",
          "South Korea",
          "South Korea",
          "Spain",
          "Canada",
          "United States",
          "United States",
          "United States",
          "South Korea",
          "United States",
          "United States",
          "United Kingdom",
          "United States",
          "Japan",
          "United States",
          "Japan",
          "United States",
          "United States",
          "South Korea",
          "United Kingdom",
          "South Korea",
          "Mexico",
          "South Korea",
          "South Korea",
          "South Korea",
          "South Korea",
          "South Korea",
          "Japan",
          "United States",
          "United States",
          "South Korea",
          "Japan",
          "United States",
          "United States",
          "United Kingdom",
          "South Korea",
          "South Korea",
          "South Korea",
          "South Korea",
          "South Korea",
          "Japan",
          "South Korea",
          "United Kingdom",
          "South Korea",
          "United Kingdom",
          "United States",
          "United States",
          "Canada",
          "United States",
          "United Kingdom",
          "France",
          "United Kingdom",
          "Canada",
          "United States",
          "Japan",
          "Japan",
          "United States",
          "United States",
          "United States",
          "United States",
          "United States",
          "United Kingdom",
          "United Kingdom",
          "United States",
          "United Kingdom",
          "Japan",
          "United States",
          "United Kingdom",
          "United Kingdom",
          "United Kingdom",
          "United States",
          "Japan",
          "United States",
          "United States",
          "Japan",
          "Canada",
          "Japan",
          "United States",
          "Japan",
          "United States",
          "United States",
          "United States",
          "United States",
          "United States",
          "France",
          "Japan",
          "United States",
          "United States",
          "United States",
          "United States",
          "United Kingdom",
          "France",
          "Canada",
          "United States",
          "United States",
          "United States",
          "United Kingdom",
          "South Korea",
          "India",
          "India",
          "United States",
          "South Korea",
          "United States",
          "South Korea",
          "United States",
          "United Kingdom",
          "United Kingdom",
          "United States",
          "India",
          "United Kingdom",
          "United Kingdom",
          "United States",
          "United States",
          "United States",
          "United States",
          "United States",
          "India",
          "India",
          "Japan",
          "United Kingdom",
          "India",
          "United States",
          "United States",
          "United States",
          "United Kingdom",
          "Canada",
          "South Korea",
          "Canada",
          "United States",
          "United States",
          "United States",
          "United States",
          "Japan",
          "India",
          "India",
          "United Kingdom",
          "Canada",
          "Spain",
          "United Kingdom",
          "United States",
          "United States",
          "United Kingdom",
          "United Kingdom",
          "United States",
          "United States",
          "United States",
          "United States",
          "United States",
          "United States",
          "United Kingdom",
          "United Kingdom",
          "South Korea",
          "United States",
          "Canada",
          "South Korea",
          "France",
          "United States",
          "Japan",
          "United States",
          "Canada",
          "United States",
          "South Korea",
          "United Kingdom",
          "United Kingdom",
          "United States",
          "United States",
          "United Kingdom",
          "United Kingdom",
          "India",
          "United Kingdom",
          "United States",
          "United States",
          "United States",
          "United States",
          "United States",
          "United States",
          "United States",
          "United States",
          "United States",
          "United States",
          "United States",
          "United States",
          "France",
          "United Kingdom",
          "Mexico",
          "United Kingdom",
          "India",
          "United States",
          "India",
          "United States",
          "United States",
          "Canada",
          "United States",
          "United States",
          "United States",
          "United Kingdom",
          "United States",
          "Spain",
          "Mexico",
          "United States",
          "United States",
          "United States",
          "United States",
          "United Kingdom",
          "United States",
          "United States",
          "United Kingdom",
          "United States",
          "Japan",
          "United Kingdom",
          "United States",
          "United Kingdom",
          "India",
          "United States",
          "United States",
          "South Korea",
          "United States",
          "United States",
          "United States",
          "United Kingdom",
          "United Kingdom",
          "United States",
          "India",
          "United States",
          "India",
          "Japan",
          "United Kingdom",
          "United Kingdom",
          "United States",
          "United States",
          "United States",
          "United States",
          "United States",
          "United Kingdom",
          "Spain",
          "United Kingdom",
          "United Kingdom",
          "United States",
          "United States",
          "United Kingdom",
          "United States",
          "United Kingdom",
          "United States",
          "Canada",
          "South Korea",
          "Canada",
          "United States",
          "United Kingdom",
          "United States",
          "United Kingdom",
          "United States",
          "United Kingdom",
          "United States",
          "Mexico",
          "United States",
          "United States",
          "United Kingdom",
          "United Kingdom",
          "United States",
          "United Kingdom",
          "Canada",
          "United Kingdom",
          "South Korea",
          "Japan",
          "United States",
          "United States",
          "India",
          "United Kingdom",
          "Mexico",
          "United States",
          "Japan",
          "United States",
          "United States",
          "United States",
          "India",
          "India",
          "India",
          "United States",
          "United States",
          "United Kingdom",
          "Japan",
          "United States",
          "United States",
          "United States",
          "Mexico",
          "Mexico",
          "United Kingdom",
          "South Korea",
          "United Kingdom",
          "United States",
          "United States",
          "United States",
          "Canada",
          "United States",
          "United Kingdom",
          "United Kingdom",
          "United States",
          "Spain",
          "Mexico",
          "United Kingdom",
          "United States",
          "Canada",
          "South Korea",
          "United States",
          "United Kingdom",
          "United States",
          "Japan",
          "India",
          "India",
          "India",
          "United States",
          "United States",
          "United States",
          "United States",
          "United Kingdom",
          "United Kingdom",
          "United States",
          "United States",
          "Spain",
          "United States",
          "India",
          "United States",
          "France",
          "United States",
          "Mexico",
          "South Korea",
          "United States",
          "United Kingdom",
          "Canada",
          "United Kingdom",
          "United Kingdom",
          "Canada",
          "United States",
          "Spain",
          "United Kingdom",
          "United States",
          "United Kingdom",
          "United States",
          "United States",
          "United Kingdom",
          "United Kingdom",
          "United States",
          "United States",
          "Japan",
          "United Kingdom",
          "United States",
          "Japan",
          "United States",
          "United Kingdom",
          "United States",
          "Canada",
          "United States",
          "France",
          "United States",
          "United Kingdom",
          "United Kingdom",
          "South Korea",
          "United States",
          "United States",
          "United States",
          "Canada",
          "United States",
          "United States",
          "United States",
          "United States",
          "United States",
          "United Kingdom",
          "United Kingdom",
          "United States",
          "India",
          "United States",
          "United States",
          "United States",
          "United States",
          "United States",
          "United States",
          "United States",
          "United States",
          "United States",
          "United States",
          "United States",
          "United States",
          "United States",
          "United States",
          "India",
          "United States",
          "United States",
          "United States",
          "United States",
          "India",
          "India",
          "United States",
          "Mexico",
          "United States",
          "United Kingdom",
          "Canada",
          "United States",
          "United Kingdom",
          "United States",
          "India",
          "United States",
          "Mexico",
          "Japan",
          "United States",
          "United States",
          "United States",
          "United States",
          "South Korea",
          "Canada",
          "United States",
          "United States",
          "United States",
          "United States",
          "United States",
          "United States",
          "United States",
          "United States",
          "South Korea",
          "United States",
          "South Korea",
          "United States",
          "South Korea",
          "India",
          "United Kingdom",
          "United States",
          "United States",
          "United States",
          "Mexico",
          "India",
          "India",
          "United States",
          "United States",
          "United States",
          "United States",
          "United States",
          "United States",
          "United Kingdom",
          "United Kingdom",
          "United Kingdom",
          "United Kingdom",
          "India",
          "United Kingdom",
          "South Korea",
          "United States",
          "Japan",
          "Canada",
          "United States",
          "United Kingdom",
          "United Kingdom",
          "United States",
          "India",
          "United Kingdom",
          "United Kingdom",
          "United States",
          "United States",
          "India",
          "United Kingdom",
          "United Kingdom",
          "United Kingdom",
          "United States",
          "United States",
          "United States",
          "South Korea",
          "United States",
          "United States",
          "United States",
          "United States",
          "France",
          "Spain",
          "United States",
          "United Kingdom",
          "United States",
          "United States",
          "United States",
          "Canada",
          "United States",
          "United Kingdom",
          "France",
          "United States",
          "United States",
          "United States",
          "United States",
          "United States",
          "United States",
          "United States",
          "United States",
          "United States",
          "United States",
          "South Korea",
          "United States",
          "United States",
          "United Kingdom",
          "Canada",
          "United States",
          "United States",
          "United States",
          "United Kingdom",
          "United States",
          "United States",
          "South Korea",
          "United States",
          "United States",
          "United Kingdom",
          "United States",
          "United Kingdom",
          "United Kingdom",
          "United States",
          "United States",
          "United Kingdom",
          "India",
          "United States",
          "United States",
          "United States",
          "United States"
         ],
         "yaxis": "y"
        }
       ],
       "layout": {
        "barmode": "group",
        "legend": {
         "title": {
          "text": "type"
         },
         "tracegroupgap": 0
        },
        "template": {
         "data": {
          "bar": [
           {
            "error_x": {
             "color": "#2a3f5f"
            },
            "error_y": {
             "color": "#2a3f5f"
            },
            "marker": {
             "line": {
              "color": "#E5ECF6",
              "width": 0.5
             },
             "pattern": {
              "fillmode": "overlay",
              "size": 10,
              "solidity": 0.2
             }
            },
            "type": "bar"
           }
          ],
          "barpolar": [
           {
            "marker": {
             "line": {
              "color": "#E5ECF6",
              "width": 0.5
             },
             "pattern": {
              "fillmode": "overlay",
              "size": 10,
              "solidity": 0.2
             }
            },
            "type": "barpolar"
           }
          ],
          "carpet": [
           {
            "aaxis": {
             "endlinecolor": "#2a3f5f",
             "gridcolor": "white",
             "linecolor": "white",
             "minorgridcolor": "white",
             "startlinecolor": "#2a3f5f"
            },
            "baxis": {
             "endlinecolor": "#2a3f5f",
             "gridcolor": "white",
             "linecolor": "white",
             "minorgridcolor": "white",
             "startlinecolor": "#2a3f5f"
            },
            "type": "carpet"
           }
          ],
          "choropleth": [
           {
            "colorbar": {
             "outlinewidth": 0,
             "ticks": ""
            },
            "type": "choropleth"
           }
          ],
          "contour": [
           {
            "colorbar": {
             "outlinewidth": 0,
             "ticks": ""
            },
            "colorscale": [
             [
              0,
              "#0d0887"
             ],
             [
              0.1111111111111111,
              "#46039f"
             ],
             [
              0.2222222222222222,
              "#7201a8"
             ],
             [
              0.3333333333333333,
              "#9c179e"
             ],
             [
              0.4444444444444444,
              "#bd3786"
             ],
             [
              0.5555555555555556,
              "#d8576b"
             ],
             [
              0.6666666666666666,
              "#ed7953"
             ],
             [
              0.7777777777777778,
              "#fb9f3a"
             ],
             [
              0.8888888888888888,
              "#fdca26"
             ],
             [
              1,
              "#f0f921"
             ]
            ],
            "type": "contour"
           }
          ],
          "contourcarpet": [
           {
            "colorbar": {
             "outlinewidth": 0,
             "ticks": ""
            },
            "type": "contourcarpet"
           }
          ],
          "heatmap": [
           {
            "colorbar": {
             "outlinewidth": 0,
             "ticks": ""
            },
            "colorscale": [
             [
              0,
              "#0d0887"
             ],
             [
              0.1111111111111111,
              "#46039f"
             ],
             [
              0.2222222222222222,
              "#7201a8"
             ],
             [
              0.3333333333333333,
              "#9c179e"
             ],
             [
              0.4444444444444444,
              "#bd3786"
             ],
             [
              0.5555555555555556,
              "#d8576b"
             ],
             [
              0.6666666666666666,
              "#ed7953"
             ],
             [
              0.7777777777777778,
              "#fb9f3a"
             ],
             [
              0.8888888888888888,
              "#fdca26"
             ],
             [
              1,
              "#f0f921"
             ]
            ],
            "type": "heatmap"
           }
          ],
          "heatmapgl": [
           {
            "colorbar": {
             "outlinewidth": 0,
             "ticks": ""
            },
            "colorscale": [
             [
              0,
              "#0d0887"
             ],
             [
              0.1111111111111111,
              "#46039f"
             ],
             [
              0.2222222222222222,
              "#7201a8"
             ],
             [
              0.3333333333333333,
              "#9c179e"
             ],
             [
              0.4444444444444444,
              "#bd3786"
             ],
             [
              0.5555555555555556,
              "#d8576b"
             ],
             [
              0.6666666666666666,
              "#ed7953"
             ],
             [
              0.7777777777777778,
              "#fb9f3a"
             ],
             [
              0.8888888888888888,
              "#fdca26"
             ],
             [
              1,
              "#f0f921"
             ]
            ],
            "type": "heatmapgl"
           }
          ],
          "histogram": [
           {
            "marker": {
             "pattern": {
              "fillmode": "overlay",
              "size": 10,
              "solidity": 0.2
             }
            },
            "type": "histogram"
           }
          ],
          "histogram2d": [
           {
            "colorbar": {
             "outlinewidth": 0,
             "ticks": ""
            },
            "colorscale": [
             [
              0,
              "#0d0887"
             ],
             [
              0.1111111111111111,
              "#46039f"
             ],
             [
              0.2222222222222222,
              "#7201a8"
             ],
             [
              0.3333333333333333,
              "#9c179e"
             ],
             [
              0.4444444444444444,
              "#bd3786"
             ],
             [
              0.5555555555555556,
              "#d8576b"
             ],
             [
              0.6666666666666666,
              "#ed7953"
             ],
             [
              0.7777777777777778,
              "#fb9f3a"
             ],
             [
              0.8888888888888888,
              "#fdca26"
             ],
             [
              1,
              "#f0f921"
             ]
            ],
            "type": "histogram2d"
           }
          ],
          "histogram2dcontour": [
           {
            "colorbar": {
             "outlinewidth": 0,
             "ticks": ""
            },
            "colorscale": [
             [
              0,
              "#0d0887"
             ],
             [
              0.1111111111111111,
              "#46039f"
             ],
             [
              0.2222222222222222,
              "#7201a8"
             ],
             [
              0.3333333333333333,
              "#9c179e"
             ],
             [
              0.4444444444444444,
              "#bd3786"
             ],
             [
              0.5555555555555556,
              "#d8576b"
             ],
             [
              0.6666666666666666,
              "#ed7953"
             ],
             [
              0.7777777777777778,
              "#fb9f3a"
             ],
             [
              0.8888888888888888,
              "#fdca26"
             ],
             [
              1,
              "#f0f921"
             ]
            ],
            "type": "histogram2dcontour"
           }
          ],
          "mesh3d": [
           {
            "colorbar": {
             "outlinewidth": 0,
             "ticks": ""
            },
            "type": "mesh3d"
           }
          ],
          "parcoords": [
           {
            "line": {
             "colorbar": {
              "outlinewidth": 0,
              "ticks": ""
             }
            },
            "type": "parcoords"
           }
          ],
          "pie": [
           {
            "automargin": true,
            "type": "pie"
           }
          ],
          "scatter": [
           {
            "fillpattern": {
             "fillmode": "overlay",
             "size": 10,
             "solidity": 0.2
            },
            "type": "scatter"
           }
          ],
          "scatter3d": [
           {
            "line": {
             "colorbar": {
              "outlinewidth": 0,
              "ticks": ""
             }
            },
            "marker": {
             "colorbar": {
              "outlinewidth": 0,
              "ticks": ""
             }
            },
            "type": "scatter3d"
           }
          ],
          "scattercarpet": [
           {
            "marker": {
             "colorbar": {
              "outlinewidth": 0,
              "ticks": ""
             }
            },
            "type": "scattercarpet"
           }
          ],
          "scattergeo": [
           {
            "marker": {
             "colorbar": {
              "outlinewidth": 0,
              "ticks": ""
             }
            },
            "type": "scattergeo"
           }
          ],
          "scattergl": [
           {
            "marker": {
             "colorbar": {
              "outlinewidth": 0,
              "ticks": ""
             }
            },
            "type": "scattergl"
           }
          ],
          "scattermapbox": [
           {
            "marker": {
             "colorbar": {
              "outlinewidth": 0,
              "ticks": ""
             }
            },
            "type": "scattermapbox"
           }
          ],
          "scatterpolar": [
           {
            "marker": {
             "colorbar": {
              "outlinewidth": 0,
              "ticks": ""
             }
            },
            "type": "scatterpolar"
           }
          ],
          "scatterpolargl": [
           {
            "marker": {
             "colorbar": {
              "outlinewidth": 0,
              "ticks": ""
             }
            },
            "type": "scatterpolargl"
           }
          ],
          "scatterternary": [
           {
            "marker": {
             "colorbar": {
              "outlinewidth": 0,
              "ticks": ""
             }
            },
            "type": "scatterternary"
           }
          ],
          "surface": [
           {
            "colorbar": {
             "outlinewidth": 0,
             "ticks": ""
            },
            "colorscale": [
             [
              0,
              "#0d0887"
             ],
             [
              0.1111111111111111,
              "#46039f"
             ],
             [
              0.2222222222222222,
              "#7201a8"
             ],
             [
              0.3333333333333333,
              "#9c179e"
             ],
             [
              0.4444444444444444,
              "#bd3786"
             ],
             [
              0.5555555555555556,
              "#d8576b"
             ],
             [
              0.6666666666666666,
              "#ed7953"
             ],
             [
              0.7777777777777778,
              "#fb9f3a"
             ],
             [
              0.8888888888888888,
              "#fdca26"
             ],
             [
              1,
              "#f0f921"
             ]
            ],
            "type": "surface"
           }
          ],
          "table": [
           {
            "cells": {
             "fill": {
              "color": "#EBF0F8"
             },
             "line": {
              "color": "white"
             }
            },
            "header": {
             "fill": {
              "color": "#C8D4E3"
             },
             "line": {
              "color": "white"
             }
            },
            "type": "table"
           }
          ]
         },
         "layout": {
          "annotationdefaults": {
           "arrowcolor": "#2a3f5f",
           "arrowhead": 0,
           "arrowwidth": 1
          },
          "autotypenumbers": "strict",
          "coloraxis": {
           "colorbar": {
            "outlinewidth": 0,
            "ticks": ""
           }
          },
          "colorscale": {
           "diverging": [
            [
             0,
             "#8e0152"
            ],
            [
             0.1,
             "#c51b7d"
            ],
            [
             0.2,
             "#de77ae"
            ],
            [
             0.3,
             "#f1b6da"
            ],
            [
             0.4,
             "#fde0ef"
            ],
            [
             0.5,
             "#f7f7f7"
            ],
            [
             0.6,
             "#e6f5d0"
            ],
            [
             0.7,
             "#b8e186"
            ],
            [
             0.8,
             "#7fbc41"
            ],
            [
             0.9,
             "#4d9221"
            ],
            [
             1,
             "#276419"
            ]
           ],
           "sequential": [
            [
             0,
             "#0d0887"
            ],
            [
             0.1111111111111111,
             "#46039f"
            ],
            [
             0.2222222222222222,
             "#7201a8"
            ],
            [
             0.3333333333333333,
             "#9c179e"
            ],
            [
             0.4444444444444444,
             "#bd3786"
            ],
            [
             0.5555555555555556,
             "#d8576b"
            ],
            [
             0.6666666666666666,
             "#ed7953"
            ],
            [
             0.7777777777777778,
             "#fb9f3a"
            ],
            [
             0.8888888888888888,
             "#fdca26"
            ],
            [
             1,
             "#f0f921"
            ]
           ],
           "sequentialminus": [
            [
             0,
             "#0d0887"
            ],
            [
             0.1111111111111111,
             "#46039f"
            ],
            [
             0.2222222222222222,
             "#7201a8"
            ],
            [
             0.3333333333333333,
             "#9c179e"
            ],
            [
             0.4444444444444444,
             "#bd3786"
            ],
            [
             0.5555555555555556,
             "#d8576b"
            ],
            [
             0.6666666666666666,
             "#ed7953"
            ],
            [
             0.7777777777777778,
             "#fb9f3a"
            ],
            [
             0.8888888888888888,
             "#fdca26"
            ],
            [
             1,
             "#f0f921"
            ]
           ]
          },
          "colorway": [
           "#636efa",
           "#EF553B",
           "#00cc96",
           "#ab63fa",
           "#FFA15A",
           "#19d3f3",
           "#FF6692",
           "#B6E880",
           "#FF97FF",
           "#FECB52"
          ],
          "font": {
           "color": "#2a3f5f"
          },
          "geo": {
           "bgcolor": "white",
           "lakecolor": "white",
           "landcolor": "#E5ECF6",
           "showlakes": true,
           "showland": true,
           "subunitcolor": "white"
          },
          "hoverlabel": {
           "align": "left"
          },
          "hovermode": "closest",
          "mapbox": {
           "style": "light"
          },
          "paper_bgcolor": "white",
          "plot_bgcolor": "#E5ECF6",
          "polar": {
           "angularaxis": {
            "gridcolor": "white",
            "linecolor": "white",
            "ticks": ""
           },
           "bgcolor": "#E5ECF6",
           "radialaxis": {
            "gridcolor": "white",
            "linecolor": "white",
            "ticks": ""
           }
          },
          "scene": {
           "xaxis": {
            "backgroundcolor": "#E5ECF6",
            "gridcolor": "white",
            "gridwidth": 2,
            "linecolor": "white",
            "showbackground": true,
            "ticks": "",
            "zerolinecolor": "white"
           },
           "yaxis": {
            "backgroundcolor": "#E5ECF6",
            "gridcolor": "white",
            "gridwidth": 2,
            "linecolor": "white",
            "showbackground": true,
            "ticks": "",
            "zerolinecolor": "white"
           },
           "zaxis": {
            "backgroundcolor": "#E5ECF6",
            "gridcolor": "white",
            "gridwidth": 2,
            "linecolor": "white",
            "showbackground": true,
            "ticks": "",
            "zerolinecolor": "white"
           }
          },
          "shapedefaults": {
           "line": {
            "color": "#2a3f5f"
           }
          },
          "ternary": {
           "aaxis": {
            "gridcolor": "white",
            "linecolor": "white",
            "ticks": ""
           },
           "baxis": {
            "gridcolor": "white",
            "linecolor": "white",
            "ticks": ""
           },
           "bgcolor": "#E5ECF6",
           "caxis": {
            "gridcolor": "white",
            "linecolor": "white",
            "ticks": ""
           }
          },
          "title": {
           "x": 0.05
          },
          "xaxis": {
           "automargin": true,
           "gridcolor": "white",
           "linecolor": "white",
           "ticks": "",
           "title": {
            "standoff": 15
           },
           "zerolinecolor": "white",
           "zerolinewidth": 2
          },
          "yaxis": {
           "automargin": true,
           "gridcolor": "white",
           "linecolor": "white",
           "ticks": "",
           "title": {
            "standoff": 15
           },
           "zerolinecolor": "white",
           "zerolinewidth": 2
          }
         }
        },
        "title": {
         "font": {
          "color": "#000000"
         },
         "text": "Top 10 contributing Countries ranked"
        },
        "xaxis": {
         "anchor": "y",
         "domain": [
          0,
          1
         ],
         "title": {
          "text": "Number of content"
         }
        },
        "yaxis": {
         "anchor": "x",
         "categoryorder": "total ascending",
         "domain": [
          0,
          1
         ],
         "title": {
          "text": "Country"
         }
        }
       }
      },
      "text/html": [
       "<div>                            <div id=\"0ab2aaf1-0ad9-4c63-b778-e2ccf61a9690\" class=\"plotly-graph-div\" style=\"height:525px; width:100%;\"></div>            <script type=\"text/javascript\">                require([\"plotly\"], function(Plotly) {                    window.PLOTLYENV=window.PLOTLYENV || {};                                    if (document.getElementById(\"0ab2aaf1-0ad9-4c63-b778-e2ccf61a9690\")) {                    Plotly.newPlot(                        \"0ab2aaf1-0ad9-4c63-b778-e2ccf61a9690\",                        [{\"alignmentgroup\":\"True\",\"bingroup\":\"y\",\"hovertemplate\":\"type=Movie<br>count=%{x}<br>country=%{y}<extra></extra>\",\"legendgroup\":\"Movie\",\"marker\":{\"color\":\"red\",\"pattern\":{\"shape\":\"\"}},\"name\":\"Movie\",\"offsetgroup\":\"Movie\",\"orientation\":\"h\",\"showlegend\":true,\"xaxis\":\"x\",\"y\":[\"United States\",\"United States\",\"United States\",\"United States\",\"United States\",\"United States\",\"United States\",\"United States\",\"India\",\"United States\",\"United States\",\"United States\",\"United States\",\"United States\",\"United States\",\"United States\",\"United States\",\"United States\",\"United States\",\"United States\",\"United States\",\"Japan\",\"Japan\",\"Japan\",\"Japan\",\"Japan\",\"Japan\",\"Japan\",\"Japan\",\"Japan\",\"Japan\",\"Japan\",\"Japan\",\"United States\",\"United States\",\"United States\",\"United States\",\"United States\",\"United States\",\"United States\",\"United States\",\"United States\",\"United States\",\"United States\",\"France\",\"United States\",\"United States\",\"United States\",\"United States\",\"India\",\"United States\",\"United States\",\"United States\",\"India\",\"India\",\"India\",\"United States\",\"India\",\"United States\",\"United States\",\"United States\",\"United States\",\"United States\",\"United States\",\"United States\",\"United States\",\"United States\",\"United States\",\"United States\",\"United States\",\"United States\",\"Canada\",\"United States\",\"United States\",\"United States\",\"United States\",\"United States\",\"United States\",\"United States\",\"United States\",\"United States\",\"United States\",\"United States\",\"United States\",\"United States\",\"United States\",\"United States\",\"United States\",\"United States\",\"United States\",\"France\",\"India\",\"India\",\"India\",\"United States\",\"India\",\"India\",\"India\",\"India\",\"India\",\"India\",\"India\",\"India\",\"India\",\"India\",\"India\",\"India\",\"India\",\"United States\",\"India\",\"India\",\"India\",\"United States\",\"United States\",\"United States\",\"United States\",\"United States\",\"United Kingdom\",\"United States\",\"United States\",\"United States\",\"United States\",\"United States\",\"United States\",\"United States\",\"United States\",\"United States\",\"United States\",\"United States\",\"United States\",\"United States\",\"India\",\"United States\",\"United States\",\"United States\",\"United States\",\"United States\",\"United States\",\"United States\",\"United States\",\"Mexico\",\"United States\",\"United Kingdom\",\"United States\",\"United States\",\"France\",\"India\",\"United Kingdom\",\"United States\",\"United States\",\"United States\",\"United States\",\"United States\",\"United States\",\"United States\",\"United States\",\"United States\",\"United States\",\"United States\",\"United States\",\"United States\",\"United States\",\"United States\",\"United States\",\"United States\",\"United States\",\"United States\",\"United States\",\"United States\",\"United States\",\"United States\",\"United States\",\"United States\",\"United States\",\"United States\",\"United States\",\"United States\",\"United States\",\"United States\",\"United States\",\"India\",\"United States\",\"United States\",\"United States\",\"United States\",\"United States\",\"United States\",\"United States\",\"United Kingdom\",\"United States\",\"United States\",\"United States\",\"United States\",\"United States\",\"United States\",\"India\",\"United States\",\"United States\",\"United States\",\"United States\",\"India\",\"United States\",\"United States\",\"United States\",\"United States\",\"United States\",\"United States\",\"United States\",\"United States\",\"United States\",\"United States\",\"United States\",\"United States\",\"United States\",\"United States\",\"United States\",\"United States\",\"United States\",\"United States\",\"United States\",\"United States\",\"United States\",\"United States\",\"United States\",\"United States\",\"United States\",\"United States\",\"United States\",\"United States\",\"United States\",\"United States\",\"United States\",\"United States\",\"United States\",\"United States\",\"United States\",\"United States\",\"United States\",\"United States\",\"United States\",\"United States\",\"United States\",\"United States\",\"United States\",\"United States\",\"United States\",\"United States\",\"United States\",\"United States\",\"United States\",\"United States\",\"United States\",\"United States\",\"India\",\"India\",\"Egypt\",\"India\",\"India\",\"United States\",\"India\",\"United States\",\"South Korea\",\"United States\",\"United States\",\"United States\",\"United States\",\"United States\",\"United States\",\"United States\",\"United States\",\"United States\",\"United States\",\"United States\",\"United States\",\"United States\",\"United States\",\"United States\",\"United States\",\"United Kingdom\",\"United States\",\"United States\",\"United States\",\"United States\",\"United States\",\"United States\",\"United States\",\"United States\",\"United States\",\"United States\",\"United States\",\"United States\",\"United States\",\"United States\",\"United States\",\"United States\",\"United States\",\"United States\",\"United States\",\"United States\",\"United States\",\"United States\",\"United States\",\"France\",\"United States\",\"United States\",\"United States\",\"United States\",\"United States\",\"United States\",\"United States\",\"United States\",\"United States\",\"United States\",\"United States\",\"United States\",\"United States\",\"United States\",\"United States\",\"United States\",\"United States\",\"Canada\",\"United States\",\"United States\",\"United States\",\"United States\",\"United States\",\"United States\",\"United States\",\"United States\",\"United States\",\"United States\",\"United States\",\"United States\",\"United States\",\"United States\",\"India\",\"United States\",\"United States\",\"United States\",\"United States\",\"United States\",\"United States\",\"South Korea\",\"Spain\",\"Mexico\",\"United States\",\"United States\",\"United States\",\"United States\",\"United States\",\"United States\",\"United States\",\"United States\",\"United States\",\"United States\",\"United States\",\"United States\",\"United States\",\"United States\",\"United States\",\"United States\",\"United States\",\"United States\",\"United States\",\"United States\",\"United States\",\"United States\",\"United States\",\"United States\",\"United States\",\"United States\",\"United States\",\"United States\",\"United States\",\"United States\",\"United Kingdom\",\"United States\",\"United States\",\"United States\",\"United States\",\"United States\",\"United States\",\"United States\",\"United States\",\"United States\",\"United States\",\"United States\",\"United States\",\"United States\",\"India\",\"United States\",\"United States\",\"United States\",\"United States\",\"United States\",\"United States\",\"Egypt\",\"United States\",\"United States\",\"United States\",\"United States\",\"United States\",\"United States\",\"United States\",\"India\",\"United States\",\"India\",\"United States\",\"India\",\"United States\",\"United States\",\"United Kingdom\",\"India\",\"United States\",\"United States\",\"Spain\",\"United States\",\"India\",\"United States\",\"United States\",\"India\",\"United States\",\"United States\",\"India\",\"United States\",\"United States\",\"United States\",\"United States\",\"United States\",\"United States\",\"United States\",\"United States\",\"United States\",\"United States\",\"United States\",\"United States\",\"United States\",\"United States\",\"United States\",\"United States\",\"United Kingdom\",\"United States\",\"United States\",\"United States\",\"United States\",\"Canada\",\"United States\",\"United States\",\"India\",\"United States\",\"United States\",\"United States\",\"United States\",\"Spain\",\"India\",\"India\",\"United States\",\"Spain\",\"United States\",\"Egypt\",\"United States\",\"Japan\",\"India\",\"United States\",\"Mexico\",\"United States\",\"United States\",\"United States\",\"United States\",\"United States\",\"United States\",\"United States\",\"United States\",\"India\",\"India\",\"India\",\"India\",\"India\",\"India\",\"India\",\"United States\",\"United States\",\"United States\",\"United States\",\"United States\",\"United States\",\"India\",\"United States\",\"Japan\",\"United States\",\"Japan\",\"United States\",\"United States\",\"United States\",\"United States\",\"India\",\"United States\",\"United States\",\"United States\",\"United States\",\"United States\",\"United States\",\"United States\",\"United States\",\"United States\",\"South Korea\",\"India\",\"United States\",\"United States\",\"United States\",\"United States\",\"India\",\"United States\",\"United States\",\"United States\",\"India\",\"France\",\"United States\",\"United States\",\"India\",\"India\",\"United States\",\"India\",\"United States\",\"United States\",\"United States\",\"United States\",\"Japan\",\"United States\",\"United States\",\"United States\",\"United States\",\"United States\",\"India\",\"United States\",\"United Kingdom\",\"United States\",\"United States\",\"United States\",\"United States\",\"United States\",\"United Kingdom\",\"Spain\",\"India\",\"United States\",\"Japan\",\"United States\",\"United States\",\"United States\",\"United States\",\"United States\",\"United States\",\"United States\",\"United States\",\"India\",\"United States\",\"United States\",\"United States\",\"United States\",\"United States\",\"India\",\"France\",\"United States\",\"United States\",\"United States\",\"United States\",\"India\",\"United States\",\"United States\",\"United States\",\"United States\",\"United States\",\"United States\",\"United States\",\"United States\",\"Spain\",\"United States\",\"United States\",\"India\",\"Japan\",\"United States\",\"United States\",\"Canada\",\"United Kingdom\",\"India\",\"United States\",\"United Kingdom\",\"United States\",\"United States\",\"India\",\"India\",\"United States\",\"United States\",\"United States\",\"India\",\"United States\",\"United States\",\"United Kingdom\",\"Spain\",\"India\",\"United States\",\"Mexico\",\"Spain\",\"United States\",\"United States\",\"France\",\"United States\",\"France\",\"United States\",\"South Korea\",\"United States\",\"Mexico\",\"United States\",\"United Kingdom\",\"United States\",\"United States\",\"United States\",\"Spain\",\"United States\",\"United Kingdom\",\"United States\",\"India\",\"United States\",\"United States\",\"United States\",\"United States\",\"United States\",\"United States\",\"United States\",\"United States\",\"United States\",\"India\",\"United States\",\"South Korea\",\"United States\",\"United States\",\"United States\",\"France\",\"India\",\"India\",\"United States\",\"India\",\"United States\",\"France\",\"India\",\"United States\",\"United States\",\"United States\",\"United States\",\"United States\",\"United States\",\"United States\",\"United States\",\"United Kingdom\",\"United States\",\"United States\",\"United States\",\"United States\",\"South Korea\",\"United States\",\"United States\",\"United States\",\"India\",\"United States\",\"United States\",\"Canada\",\"India\",\"United States\",\"United States\",\"United States\",\"United States\",\"United States\",\"United Kingdom\",\"United States\",\"Egypt\",\"United Kingdom\",\"United States\",\"United States\",\"United States\",\"United States\",\"Canada\",\"United States\",\"United States\",\"United States\",\"United States\",\"India\",\"Canada\",\"United States\",\"United States\",\"United States\",\"United States\",\"United States\",\"United States\",\"India\",\"United States\",\"United States\",\"United States\",\"United States\",\"United States\",\"Canada\",\"United States\",\"United States\",\"United States\",\"United States\",\"United States\",\"United States\",\"United Kingdom\",\"United States\",\"United States\",\"United States\",\"United States\",\"United States\",\"United States\",\"United States\",\"Spain\",\"South Korea\",\"United States\",\"United States\",\"United Kingdom\",\"Canada\",\"United States\",\"India\",\"United States\",\"United States\",\"United States\",\"United States\",\"Egypt\",\"United States\",\"United States\",\"United States\",\"United States\",\"India\",\"India\",\"India\",\"India\",\"India\",\"India\",\"India\",\"United States\",\"India\",\"United States\",\"United States\",\"United States\",\"Canada\",\"United States\",\"United States\",\"India\",\"United States\",\"United States\",\"India\",\"United States\",\"United States\",\"Canada\",\"United States\",\"Canada\",\"Canada\",\"India\",\"Japan\",\"United States\",\"United States\",\"United States\",\"United States\",\"United States\",\"Canada\",\"United States\",\"United States\",\"United States\",\"United States\",\"United States\",\"United Kingdom\",\"India\",\"France\",\"United States\",\"United States\",\"United States\",\"United States\",\"United States\",\"India\",\"United States\",\"United States\",\"United Kingdom\",\"United States\",\"United Kingdom\",\"Canada\",\"United States\",\"United States\",\"United Kingdom\",\"United States\",\"United States\",\"United States\",\"Egypt\",\"India\",\"United States\",\"Mexico\",\"India\",\"United Kingdom\",\"India\",\"India\",\"India\",\"India\",\"India\",\"United States\",\"India\",\"Canada\",\"United States\",\"France\",\"United States\",\"United States\",\"United Kingdom\",\"Canada\",\"United States\",\"Canada\",\"United States\",\"India\",\"United States\",\"Mexico\",\"United States\",\"United States\",\"United States\",\"United States\",\"United States\",\"United States\",\"United States\",\"United States\",\"United States\",\"United States\",\"United States\",\"India\",\"India\",\"India\",\"India\",\"India\",\"India\",\"India\",\"India\",\"India\",\"India\",\"United States\",\"United States\",\"United Kingdom\",\"United States\",\"United States\",\"Japan\",\"Japan\",\"Japan\",\"Japan\",\"Japan\",\"United States\",\"Japan\",\"Egypt\",\"India\",\"India\",\"India\",\"India\",\"India\",\"India\",\"India\",\"France\",\"United Kingdom\",\"United States\",\"United States\",\"United States\",\"United States\",\"Spain\",\"United Kingdom\",\"United States\",\"Mexico\",\"United States\",\"United States\",\"India\",\"India\",\"India\",\"India\",\"India\",\"India\",\"India\",\"India\",\"India\",\"Egypt\",\"United States\",\"India\",\"France\",\"United States\",\"South Korea\",\"United States\",\"United Kingdom\",\"United States\",\"United States\",\"Japan\",\"United States\",\"United States\",\"India\",\"Spain\",\"United States\",\"Canada\",\"India\",\"United States\",\"United States\",\"Spain\",\"United States\",\"United States\",\"United States\",\"United Kingdom\",\"United States\",\"India\",\"Mexico\",\"United States\",\"United States\",\"Egypt\",\"United States\",\"United States\",\"India\",\"United States\",\"Canada\",\"United Kingdom\",\"United States\",\"France\",\"India\",\"United States\",\"United States\",\"United States\",\"United States\",\"United States\",\"United States\",\"United States\",\"France\",\"United States\",\"United States\",\"United States\",\"United States\",\"United States\",\"United States\",\"United States\",\"Canada\",\"United States\",\"Canada\",\"India\",\"United States\",\"India\",\"United States\",\"United States\",\"United States\",\"India\",\"India\",\"United States\",\"Japan\",\"South Korea\",\"United States\",\"United Kingdom\",\"United States\",\"United States\",\"United States\",\"France\",\"Egypt\",\"United States\",\"United States\",\"United States\",\"United States\",\"United States\",\"United States\",\"United States\",\"India\",\"India\",\"India\",\"India\",\"India\",\"India\",\"India\",\"India\",\"India\",\"India\",\"India\",\"India\",\"India\",\"India\",\"India\",\"India\",\"India\",\"India\",\"United States\",\"India\",\"India\",\"India\",\"India\",\"India\",\"India\",\"India\",\"India\",\"United States\",\"Spain\",\"Canada\",\"United States\",\"United States\",\"United States\",\"United States\",\"India\",\"United States\",\"India\",\"India\",\"India\",\"India\",\"United States\",\"India\",\"United States\",\"India\",\"United States\",\"India\",\"United States\",\"United States\",\"France\",\"Japan\",\"Egypt\",\"Egypt\",\"Egypt\",\"United States\",\"Egypt\",\"Egypt\",\"Egypt\",\"United States\",\"United States\",\"India\",\"India\",\"United States\",\"United States\",\"Japan\",\"United States\",\"South Korea\",\"United States\",\"India\",\"India\",\"United States\",\"Egypt\",\"United States\",\"India\",\"United States\",\"United States\",\"Egypt\",\"United States\",\"United States\",\"Egypt\",\"Egypt\",\"Egypt\",\"United States\",\"Egypt\",\"Egypt\",\"Egypt\",\"Canada\",\"Egypt\",\"Egypt\",\"India\",\"United States\",\"India\",\"United States\",\"Japan\",\"United States\",\"United States\",\"United States\",\"Egypt\",\"United States\",\"United States\",\"Egypt\",\"Egypt\",\"Egypt\",\"United States\",\"United Kingdom\",\"United States\",\"Mexico\",\"India\",\"Egypt\",\"Egypt\",\"Egypt\",\"Egypt\",\"Egypt\",\"Egypt\",\"Egypt\",\"Egypt\",\"Egypt\",\"Spain\",\"India\",\"United States\",\"Mexico\",\"India\",\"United States\",\"United States\",\"India\",\"India\",\"United States\",\"United States\",\"United States\",\"United States\",\"United States\",\"India\",\"United States\",\"United States\",\"United States\",\"United States\",\"United States\",\"United States\",\"United States\",\"United States\",\"United States\",\"United States\",\"India\",\"India\",\"United States\",\"United States\",\"United States\",\"United States\",\"United States\",\"United States\",\"United States\",\"United States\",\"India\",\"Egypt\",\"United States\",\"United States\",\"Egypt\",\"India\",\"India\",\"India\",\"Egypt\",\"Egypt\",\"Egypt\",\"Egypt\",\"Egypt\",\"Egypt\",\"India\",\"India\",\"South Korea\",\"United States\",\"Spain\",\"India\",\"United States\",\"United States\",\"United States\",\"India\",\"India\",\"United States\",\"United States\",\"Canada\",\"France\",\"United States\",\"United States\",\"United States\",\"United States\",\"United States\",\"United States\",\"United States\",\"United States\",\"United States\",\"Spain\",\"Japan\",\"Japan\",\"India\",\"India\",\"India\",\"India\",\"India\",\"India\",\"India\",\"India\",\"India\",\"India\",\"India\",\"India\",\"India\",\"India\",\"India\",\"India\",\"India\",\"India\",\"India\",\"United States\",\"India\",\"United States\",\"India\",\"United States\",\"United States\",\"Canada\",\"India\",\"United States\",\"India\",\"United States\",\"United States\",\"India\",\"Canada\",\"Canada\",\"Canada\",\"United States\",\"United States\",\"United States\",\"Spain\",\"United States\",\"Mexico\",\"United States\",\"United States\",\"Japan\",\"United Kingdom\",\"United States\",\"United States\",\"India\",\"United States\",\"United States\",\"United States\",\"India\",\"United States\",\"United States\",\"United States\",\"United States\",\"India\",\"France\",\"United States\",\"United States\",\"Spain\",\"United States\",\"United States\",\"United States\",\"India\",\"United Kingdom\",\"United States\",\"India\",\"United States\",\"United States\",\"United States\",\"United States\",\"United States\",\"France\",\"United States\",\"India\",\"India\",\"Japan\",\"United States\",\"United States\",\"United States\",\"United States\",\"India\",\"United States\",\"India\",\"United States\",\"United States\",\"United States\",\"United States\",\"United States\",\"India\",\"Japan\",\"United States\",\"United States\",\"United States\",\"Mexico\",\"United States\",\"India\",\"United States\",\"India\",\"United States\",\"United States\",\"United States\",\"United States\",\"United States\",\"India\",\"Spain\",\"United States\",\"India\",\"United States\",\"United Kingdom\",\"United States\",\"India\",\"Japan\",\"France\",\"United States\",\"United States\",\"India\",\"India\",\"India\",\"United States\",\"United States\",\"Mexico\",\"United States\",\"India\",\"India\",\"United States\",\"United States\",\"United States\",\"United States\",\"Japan\",\"India\",\"United States\",\"United States\",\"United States\",\"India\",\"United Kingdom\",\"United States\",\"United States\",\"Spain\",\"Mexico\",\"India\",\"United Kingdom\",\"United States\",\"India\",\"United States\",\"United States\",\"Japan\",\"United States\",\"United States\",\"India\",\"India\",\"United States\",\"United States\",\"Japan\",\"United States\",\"United States\",\"Japan\",\"United States\",\"United States\",\"Mexico\",\"United States\",\"United States\",\"United States\",\"United States\",\"United States\",\"India\",\"India\",\"India\",\"India\",\"India\",\"India\",\"United States\",\"India\",\"India\",\"India\",\"India\",\"India\",\"India\",\"India\",\"United States\",\"United States\",\"United States\",\"United Kingdom\",\"Egypt\",\"United States\",\"United States\",\"United States\",\"India\",\"United States\",\"Japan\",\"United States\",\"United States\",\"United States\",\"United States\",\"United States\",\"India\",\"United States\",\"India\",\"India\",\"India\",\"United Kingdom\",\"India\",\"India\",\"France\",\"India\",\"France\",\"United States\",\"United States\",\"United States\",\"India\",\"United States\",\"United States\",\"United States\",\"United States\",\"United States\",\"India\",\"Spain\",\"United States\",\"France\",\"Japan\",\"United States\",\"United States\",\"United States\",\"United States\",\"India\",\"Mexico\",\"India\",\"United States\",\"United States\",\"India\",\"India\",\"Japan\",\"Japan\",\"France\",\"United States\",\"United States\",\"United States\",\"United States\",\"France\",\"India\",\"United States\",\"United States\",\"United States\",\"South Korea\",\"United States\",\"United States\",\"India\",\"United States\",\"United States\",\"United States\",\"United States\",\"United States\",\"United States\",\"Spain\",\"United States\",\"United States\",\"United Kingdom\",\"India\",\"United States\",\"United States\",\"United States\",\"United States\",\"United States\",\"Mexico\",\"Canada\",\"Mexico\",\"India\",\"United States\",\"United States\",\"United Kingdom\",\"United States\",\"United States\",\"United States\",\"United States\",\"United States\",\"United States\",\"United Kingdom\",\"United States\",\"United States\",\"United States\",\"United States\",\"United States\",\"United States\",\"United States\",\"Spain\",\"United Kingdom\",\"United States\",\"India\",\"United States\",\"United States\",\"South Korea\",\"United States\",\"Canada\",\"France\",\"United States\",\"United States\",\"Japan\",\"United States\",\"United States\",\"United States\",\"United States\",\"United States\",\"India\",\"United States\",\"Mexico\",\"United States\",\"India\",\"United States\",\"United States\",\"United States\",\"United States\",\"United Kingdom\",\"United States\",\"Japan\",\"United States\",\"India\",\"United States\",\"United States\",\"United States\",\"United States\",\"India\",\"United States\",\"India\",\"United States\",\"Canada\",\"India\",\"United Kingdom\",\"United States\",\"United States\",\"United States\",\"India\",\"United States\",\"United States\",\"United States\",\"United Kingdom\",\"India\",\"India\",\"India\",\"United States\",\"India\",\"United States\",\"United States\",\"Spain\",\"United States\",\"United States\",\"United States\",\"India\",\"India\",\"India\",\"United States\",\"United States\",\"United States\",\"United Kingdom\",\"United Kingdom\",\"United States\",\"United States\",\"Canada\",\"Spain\",\"India\",\"India\",\"United States\",\"Mexico\",\"United States\",\"India\",\"United States\",\"India\",\"United States\",\"United States\",\"United States\",\"United States\",\"United States\",\"Mexico\",\"United States\",\"India\",\"India\",\"Canada\",\"United States\",\"Spain\",\"United States\",\"United States\",\"United States\",\"Spain\",\"United States\",\"India\",\"India\",\"United States\",\"Spain\",\"Spain\",\"United States\",\"United States\",\"United States\",\"India\",\"India\",\"Mexico\",\"United Kingdom\",\"Mexico\",\"Japan\",\"India\",\"India\",\"United States\",\"Japan\",\"Japan\",\"India\",\"France\",\"United States\",\"United States\",\"United States\",\"India\",\"India\",\"United States\",\"United States\",\"United States\",\"United States\",\"Spain\",\"India\",\"India\",\"United States\",\"Japan\",\"United States\",\"United States\",\"India\",\"India\",\"India\",\"India\",\"South Korea\",\"United States\",\"United States\",\"United States\",\"United States\",\"India\",\"United States\",\"Spain\",\"Spain\",\"United States\",\"United States\",\"United States\",\"India\",\"United Kingdom\",\"India\",\"United States\",\"United States\",\"United States\",\"United States\",\"France\",\"Spain\",\"United States\",\"United States\",\"Spain\",\"United States\",\"South Korea\",\"United States\",\"India\",\"United States\",\"United Kingdom\",\"United States\",\"India\",\"United States\",\"India\",\"India\",\"United States\",\"United States\",\"United States\",\"India\",\"United States\",\"United Kingdom\",\"Mexico\",\"United States\",\"United Kingdom\",\"United States\",\"India\",\"India\",\"United States\",\"India\",\"India\",\"India\",\"India\",\"India\",\"United States\",\"Spain\",\"United States\",\"India\",\"United States\",\"United States\",\"India\",\"United States\",\"United States\",\"India\",\"United States\",\"United States\",\"United States\",\"India\",\"United States\",\"United States\",\"United States\",\"India\",\"Spain\",\"Spain\",\"United States\",\"United States\",\"United States\",\"India\",\"United States\",\"United States\",\"United States\",\"United States\",\"United States\",\"United States\",\"United States\",\"United States\",\"United States\",\"France\",\"United States\",\"United States\",\"United States\",\"Japan\",\"United States\",\"Canada\",\"United States\",\"United States\",\"United States\",\"India\",\"United States\",\"India\",\"Spain\",\"United States\",\"India\",\"United States\",\"France\",\"India\",\"South Korea\",\"United States\",\"Canada\",\"India\",\"United States\",\"India\",\"India\",\"United States\",\"India\",\"India\",\"India\",\"India\",\"India\",\"India\",\"India\",\"Spain\",\"United States\",\"United States\",\"United States\",\"United States\",\"United States\",\"Spain\",\"United States\",\"United Kingdom\",\"India\",\"United States\",\"United States\",\"United States\",\"United States\",\"United States\",\"United States\",\"United States\",\"India\",\"United States\",\"South Korea\",\"Spain\",\"United States\",\"India\",\"United States\",\"United States\",\"Mexico\",\"India\",\"United States\",\"India\",\"India\",\"India\",\"South Korea\",\"United States\",\"India\",\"United States\",\"Spain\",\"United States\",\"Japan\",\"India\",\"United States\",\"United Kingdom\",\"India\",\"United States\",\"Japan\",\"India\",\"India\",\"United States\",\"United Kingdom\",\"United States\",\"United Kingdom\",\"United Kingdom\",\"United States\",\"United States\",\"United Kingdom\",\"Mexico\",\"United States\",\"United States\",\"United States\",\"United States\",\"United States\",\"Japan\",\"United States\",\"United States\",\"United Kingdom\",\"United Kingdom\",\"United States\",\"United States\",\"United States\",\"India\",\"United States\",\"Spain\",\"United States\",\"Japan\",\"India\",\"India\",\"United States\",\"India\",\"United States\",\"United States\",\"United States\",\"United States\",\"United States\",\"United States\",\"United States\",\"United States\",\"Spain\",\"India\",\"United States\",\"United States\",\"United States\",\"United States\",\"United States\",\"United States\",\"United States\",\"United States\",\"Mexico\",\"India\",\"United States\",\"India\",\"United States\",\"United States\",\"Mexico\",\"India\",\"India\",\"France\",\"United States\",\"United States\",\"Spain\",\"United States\",\"United States\",\"United States\",\"United States\",\"United States\",\"India\",\"Canada\",\"India\",\"India\",\"India\",\"India\",\"Spain\",\"United States\",\"India\",\"United States\",\"United States\",\"United States\",\"United States\",\"India\",\"India\",\"India\",\"India\",\"India\",\"India\",\"India\",\"India\",\"Canada\",\"India\",\"India\",\"India\",\"United States\",\"India\",\"India\",\"India\",\"India\",\"India\",\"India\",\"India\",\"India\",\"India\",\"India\",\"United States\",\"India\",\"India\",\"United States\",\"India\",\"India\",\"India\",\"India\",\"India\",\"India\",\"India\",\"India\",\"India\",\"United States\",\"United States\",\"India\",\"India\",\"India\",\"United States\",\"India\",\"United States\",\"United States\",\"United States\",\"United States\",\"United States\",\"South Korea\",\"India\",\"United States\",\"India\",\"United States\",\"India\",\"India\",\"India\",\"United States\",\"United States\",\"United States\",\"United States\",\"United States\",\"United Kingdom\",\"United States\",\"United States\",\"United States\",\"United States\",\"United States\",\"United States\",\"United Kingdom\",\"United Kingdom\",\"United States\",\"United Kingdom\",\"United Kingdom\",\"United Kingdom\",\"United Kingdom\",\"United Kingdom\",\"India\",\"Canada\",\"India\",\"India\",\"India\",\"India\",\"India\",\"India\",\"United States\",\"India\",\"United States\",\"India\",\"India\",\"India\",\"India\",\"India\",\"India\",\"India\",\"India\",\"India\",\"India\",\"India\",\"India\",\"India\",\"India\",\"India\",\"India\",\"India\",\"India\",\"India\",\"India\",\"India\",\"United States\",\"United States\",\"India\",\"India\",\"India\",\"India\",\"India\",\"India\",\"India\",\"India\",\"India\",\"India\",\"India\",\"India\",\"United States\",\"India\",\"India\",\"India\",\"India\",\"India\",\"India\",\"United States\",\"United States\",\"Spain\",\"United States\",\"United States\",\"United States\",\"United States\",\"India\",\"India\",\"India\",\"India\",\"France\",\"Spain\",\"India\",\"India\",\"India\",\"United States\",\"United States\",\"Canada\",\"United States\",\"India\",\"India\",\"India\",\"India\",\"India\",\"United States\",\"United States\",\"South Korea\",\"India\",\"United States\",\"United States\",\"India\",\"India\",\"India\",\"United States\",\"India\",\"India\",\"India\",\"India\",\"India\",\"India\",\"India\",\"India\",\"India\",\"India\",\"India\",\"India\",\"India\",\"India\",\"India\",\"India\",\"India\",\"India\",\"India\",\"United States\",\"Mexico\",\"United States\",\"India\",\"United States\",\"Spain\",\"United States\",\"Spain\",\"Spain\",\"Japan\",\"United States\",\"United States\",\"Mexico\",\"United States\",\"Spain\",\"United States\",\"United States\",\"United States\",\"United States\",\"India\",\"United States\",\"India\",\"India\",\"United States\",\"India\",\"India\",\"India\",\"Mexico\",\"India\",\"United States\",\"India\",\"United States\",\"Spain\",\"United Kingdom\",\"United States\",\"United States\",\"United States\",\"Japan\",\"France\",\"United Kingdom\",\"India\",\"United States\",\"Spain\",\"United States\",\"Mexico\",\"India\",\"United States\",\"Spain\",\"United States\",\"United States\",\"United States\",\"United States\",\"India\",\"Japan\",\"United States\",\"United States\",\"Mexico\",\"United States\",\"United States\",\"France\",\"United States\",\"Mexico\",\"Spain\",\"India\",\"India\",\"United States\",\"United States\",\"Canada\",\"United States\",\"Spain\",\"United States\",\"United States\",\"United States\",\"United States\",\"India\",\"United States\",\"Spain\",\"India\",\"France\",\"United States\",\"Spain\",\"United States\",\"United States\",\"United States\",\"South Korea\",\"United States\",\"United States\",\"United States\",\"United States\",\"France\",\"United Kingdom\",\"United States\",\"United States\",\"United States\",\"United States\",\"France\",\"India\",\"India\",\"United States\",\"India\",\"India\",\"India\",\"India\",\"India\",\"United Kingdom\",\"United States\",\"United States\",\"Mexico\",\"Canada\",\"Canada\",\"United States\",\"United States\",\"United States\",\"India\",\"United States\",\"United States\",\"Japan\",\"South Korea\",\"United Kingdom\",\"United States\",\"United States\",\"India\",\"United States\",\"United States\",\"Canada\",\"United States\",\"United States\",\"India\",\"India\",\"India\",\"United States\",\"India\",\"Spain\",\"India\",\"Canada\",\"Canada\",\"Canada\",\"Canada\",\"Canada\",\"India\",\"India\",\"South Korea\",\"United Kingdom\",\"United States\",\"Spain\",\"South Korea\",\"Japan\",\"United States\",\"United States\",\"India\",\"United States\",\"United States\",\"United States\",\"United States\",\"United States\",\"South Korea\",\"United States\",\"United States\",\"Spain\",\"United States\",\"Mexico\",\"United States\",\"United States\",\"United States\",\"United States\",\"United Kingdom\",\"United States\",\"India\",\"United States\",\"South Korea\",\"United States\",\"India\",\"United States\",\"United States\",\"Spain\",\"United States\",\"Canada\",\"France\",\"United States\",\"United States\",\"United States\",\"United States\",\"Canada\",\"United Kingdom\",\"United States\",\"India\",\"United States\",\"United States\",\"United States\",\"India\",\"United States\",\"United States\",\"India\",\"United States\",\"United States\",\"United States\",\"India\",\"United States\",\"Spain\",\"United States\",\"United States\",\"United States\",\"United States\",\"United States\",\"United States\",\"Canada\",\"Mexico\",\"United States\",\"United States\",\"United States\",\"India\",\"India\",\"Spain\",\"United States\",\"United States\",\"United States\",\"Canada\",\"United States\",\"United States\",\"United States\",\"United Kingdom\",\"United States\",\"United States\",\"United States\",\"France\",\"United States\",\"India\",\"India\",\"Mexico\",\"United Kingdom\",\"United States\",\"United States\",\"Spain\",\"United States\",\"United States\",\"South Korea\",\"Spain\",\"United States\",\"Canada\",\"Mexico\",\"United States\",\"United States\",\"United States\",\"United States\",\"United States\",\"Canada\",\"United States\",\"United States\",\"United States\",\"United States\",\"United States\",\"United States\",\"United States\",\"United States\",\"United States\",\"United States\",\"India\",\"United States\",\"Japan\",\"Japan\",\"United States\",\"India\",\"India\",\"India\",\"United States\",\"India\",\"India\",\"United States\",\"France\",\"United States\",\"United States\",\"United States\",\"United States\",\"United States\",\"United States\",\"United States\",\"United States\",\"United States\",\"Mexico\",\"United States\",\"United States\",\"United States\",\"India\",\"United States\",\"United States\",\"India\",\"United States\",\"United States\",\"United States\",\"Mexico\",\"United States\",\"United States\",\"United States\",\"United States\",\"France\",\"United States\",\"United States\",\"India\",\"Spain\",\"Spain\",\"United States\",\"United States\",\"United States\",\"United States\",\"United States\",\"United States\",\"France\",\"India\",\"India\",\"India\",\"India\",\"Spain\",\"India\",\"Spain\",\"United States\",\"United States\",\"United States\",\"India\",\"United States\",\"United States\",\"United States\",\"United States\",\"India\",\"United Kingdom\",\"United States\",\"India\",\"Spain\",\"South Korea\",\"India\",\"United Kingdom\",\"United States\",\"United Kingdom\",\"United Kingdom\",\"India\",\"United States\",\"India\",\"India\",\"India\",\"Spain\",\"United Kingdom\",\"United Kingdom\",\"United States\",\"India\",\"United States\",\"India\",\"United States\",\"France\",\"United States\",\"Japan\",\"United States\",\"India\",\"India\",\"United States\",\"United States\",\"India\",\"United States\",\"United Kingdom\",\"United States\",\"United States\",\"Mexico\",\"United States\",\"United States\",\"India\",\"India\",\"United Kingdom\",\"Canada\",\"India\",\"Canada\",\"United States\",\"India\",\"United States\",\"United States\",\"United States\",\"United States\",\"Spain\",\"United States\",\"Mexico\",\"United States\",\"United States\",\"United States\",\"United States\",\"India\",\"United States\",\"India\",\"United States\",\"India\",\"Spain\",\"Spain\",\"United Kingdom\",\"United States\",\"United States\",\"United States\",\"United States\",\"United States\",\"United States\",\"South Korea\",\"India\",\"Canada\",\"United Kingdom\",\"India\",\"United States\",\"United States\",\"United States\",\"India\",\"United States\",\"India\",\"United States\",\"United States\",\"Spain\",\"United States\",\"India\",\"Canada\",\"Spain\",\"United States\",\"United Kingdom\",\"United States\",\"Mexico\",\"United States\",\"India\",\"India\",\"India\",\"Spain\",\"Spain\",\"United States\",\"Mexico\",\"France\",\"United Kingdom\",\"United States\",\"France\",\"India\",\"United States\",\"United States\",\"France\",\"United States\",\"United States\",\"United States\",\"United States\",\"Canada\",\"United States\",\"United States\",\"India\",\"United States\",\"India\",\"Mexico\",\"Mexico\",\"United States\",\"United States\",\"United States\",\"United States\",\"United Kingdom\",\"Mexico\",\"United States\",\"United States\",\"United States\",\"United States\",\"United States\",\"United States\",\"France\",\"United States\",\"United States\",\"India\",\"United States\",\"India\",\"United States\",\"United States\",\"India\",\"Mexico\",\"United States\",\"United States\",\"India\",\"Mexico\",\"United States\",\"United States\",\"India\",\"United States\",\"United States\",\"United States\",\"United Kingdom\",\"United States\",\"United States\",\"Spain\",\"Canada\",\"France\",\"France\",\"Spain\",\"United States\",\"France\",\"Japan\",\"Japan\",\"Japan\",\"France\",\"United States\",\"United States\",\"United States\",\"United States\",\"United States\",\"United States\",\"India\",\"Spain\",\"United States\",\"India\",\"United States\",\"United States\",\"United States\",\"United States\",\"United States\",\"United States\",\"United States\",\"United States\",\"United States\",\"United States\",\"United Kingdom\",\"United States\",\"United States\",\"United Kingdom\",\"United Kingdom\",\"United States\",\"United States\",\"United States\",\"United Kingdom\",\"United States\",\"United States\",\"United States\",\"United States\",\"United States\",\"United States\",\"United Kingdom\",\"United States\",\"United Kingdom\",\"United States\",\"United States\",\"United States\",\"Canada\",\"United States\",\"India\",\"Mexico\",\"United States\",\"United States\",\"United States\",\"United States\",\"United States\",\"United States\",\"United States\",\"United States\",\"United States\",\"Canada\",\"United Kingdom\",\"United Kingdom\",\"United States\",\"United States\",\"United States\",\"Mexico\",\"United States\",\"United States\",\"United States\",\"United States\",\"Canada\",\"United States\",\"United States\",\"United States\",\"United States\",\"United States\",\"United States\",\"United States\",\"United States\",\"United States\",\"United States\",\"United States\",\"United States\",\"United States\",\"United States\",\"United States\",\"United States\",\"United States\",\"United States\",\"United States\",\"United States\",\"Mexico\",\"United States\",\"United States\",\"United States\",\"United States\",\"United States\",\"United States\",\"United States\",\"United States\",\"United States\",\"United States\",\"United States\",\"United States\",\"United States\",\"United States\",\"United States\",\"United States\",\"United States\",\"United States\",\"United States\",\"United States\",\"United States\",\"United States\",\"United States\",\"United States\",\"United States\",\"United States\",\"United States\",\"United States\",\"United States\",\"United States\",\"United States\",\"United States\",\"United States\",\"United States\",\"United States\",\"United States\",\"United States\",\"United States\",\"United States\",\"India\",\"India\",\"India\",\"United Kingdom\",\"India\",\"India\",\"India\",\"United States\",\"Canada\",\"Canada\",\"United States\",\"United States\",\"United States\",\"Spain\",\"United States\",\"United States\",\"United States\",\"United States\",\"United States\",\"United States\",\"United States\",\"United States\",\"United States\",\"United States\",\"South Korea\",\"United Kingdom\",\"United States\",\"United States\",\"United States\",\"United Kingdom\",\"United States\",\"United States\",\"United States\",\"Canada\",\"Egypt\",\"United States\",\"United States\",\"United States\",\"United States\",\"United States\",\"United States\",\"United States\",\"India\",\"United States\",\"India\",\"United States\",\"United States\",\"India\",\"United States\",\"United States\",\"United States\",\"United States\",\"United States\",\"United States\",\"United States\",\"United States\",\"United States\",\"United States\",\"United Kingdom\",\"United States\",\"United States\",\"Canada\",\"India\",\"United States\",\"United States\",\"United States\",\"United States\",\"India\",\"United States\",\"United States\",\"Canada\",\"United States\",\"India\",\"India\",\"India\",\"India\",\"India\",\"India\",\"Egypt\",\"India\",\"United States\",\"Mexico\",\"Canada\",\"United States\",\"Canada\",\"France\",\"India\",\"United States\",\"United States\",\"United States\",\"United Kingdom\",\"India\",\"United States\",\"India\",\"India\",\"Egypt\",\"Spain\",\"United States\",\"United States\",\"United States\",\"United States\",\"United States\",\"United States\",\"United States\",\"United Kingdom\",\"United States\",\"United States\",\"United States\",\"United Kingdom\",\"India\",\"Egypt\",\"United States\",\"United States\",\"United States\",\"United States\",\"United States\",\"United States\",\"Canada\",\"United States\",\"United States\",\"United States\",\"United Kingdom\",\"India\",\"United States\",\"United States\",\"United States\",\"United States\",\"Egypt\",\"United States\",\"Egypt\",\"India\",\"Spain\",\"United States\",\"United States\",\"United States\",\"India\",\"United States\",\"United States\",\"Egypt\",\"United States\",\"United States\",\"India\",\"United States\",\"United States\",\"United States\",\"Egypt\",\"United States\",\"United States\",\"United States\",\"United States\",\"South Korea\",\"United States\",\"Canada\",\"United Kingdom\",\"United Kingdom\",\"United States\",\"India\",\"India\",\"India\",\"Canada\",\"United States\",\"United States\",\"United States\",\"India\",\"United States\",\"United States\",\"United States\",\"United States\",\"United States\",\"United States\",\"Spain\",\"India\",\"United States\",\"United States\",\"United States\",\"United States\",\"United States\",\"United States\",\"United States\",\"United States\",\"United States\",\"India\",\"United States\",\"United States\",\"India\",\"India\",\"United States\",\"United States\",\"United States\",\"United States\",\"Egypt\",\"United States\",\"United States\",\"United States\",\"India\",\"United Kingdom\",\"Canada\",\"United States\",\"United States\",\"United States\",\"United States\",\"United States\",\"India\",\"Egypt\",\"India\",\"United States\",\"India\",\"India\",\"India\",\"United States\",\"United States\",\"United States\",\"United States\",\"United Kingdom\",\"United States\",\"United States\",\"India\",\"India\",\"Canada\",\"United States\",\"India\",\"United States\",\"Spain\",\"United States\",\"United States\",\"United States\",\"United States\",\"United States\",\"United States\",\"United States\",\"France\",\"France\",\"United States\",\"United States\",\"United States\",\"United States\",\"Canada\",\"United States\",\"Canada\",\"India\",\"United Kingdom\",\"United States\",\"United States\",\"United States\",\"India\",\"United States\",\"United States\",\"United States\",\"United States\",\"United States\",\"India\",\"United States\",\"United States\",\"United States\",\"Canada\",\"Canada\",\"Canada\",\"United States\",\"United States\",\"United States\",\"United States\",\"United States\",\"United States\",\"India\",\"United States\",\"United States\",\"United States\",\"United States\",\"United States\",\"United States\",\"India\",\"United States\",\"United States\",\"United States\",\"Canada\",\"India\",\"United States\",\"India\",\"India\",\"India\",\"United States\",\"United States\",\"United States\",\"India\",\"United States\",\"United States\",\"United States\",\"United States\",\"United States\",\"United States\",\"India\",\"India\",\"United States\",\"United States\",\"United States\",\"United States\",\"United States\",\"United States\",\"United States\",\"United States\",\"India\",\"United States\",\"United Kingdom\",\"United States\",\"United States\",\"United States\",\"United States\",\"United States\",\"United States\",\"United States\",\"United States\",\"India\",\"India\",\"India\",\"United States\",\"India\",\"United States\",\"India\",\"United States\",\"United States\",\"Canada\",\"United States\",\"United States\",\"Canada\",\"United States\",\"India\",\"United States\",\"United States\",\"India\",\"United States\",\"United States\",\"United States\",\"India\",\"United States\",\"United States\",\"United States\",\"India\",\"India\",\"India\",\"United States\",\"United States\",\"United Kingdom\",\"India\",\"United States\",\"United States\",\"India\",\"United States\",\"Canada\",\"United States\",\"United States\",\"United Kingdom\",\"India\",\"United States\",\"United States\",\"United States\",\"United States\",\"United States\",\"United States\",\"Egypt\",\"United States\",\"Canada\",\"India\",\"India\",\"United Kingdom\",\"United Kingdom\",\"India\",\"United States\",\"United States\",\"United States\",\"United States\",\"United States\",\"United States\",\"United States\",\"United States\",\"France\",\"France\",\"France\",\"United Kingdom\",\"United Kingdom\",\"United States\",\"United States\",\"United States\",\"United States\",\"United States\",\"United States\",\"United States\",\"United States\",\"United States\",\"United States\",\"United States\",\"United States\",\"India\",\"United States\",\"United Kingdom\",\"United States\",\"United States\",\"United States\",\"United States\",\"United States\",\"India\",\"India\",\"India\",\"India\",\"Spain\",\"United States\",\"United Kingdom\",\"United States\",\"France\",\"United States\",\"United States\",\"United Kingdom\",\"United States\",\"United States\",\"India\",\"United States\",\"United States\",\"Canada\",\"United States\",\"Mexico\",\"India\",\"United States\",\"United States\",\"United States\",\"United Kingdom\",\"United States\",\"United States\",\"United States\",\"United States\",\"United States\",\"United States\",\"India\",\"United States\",\"United States\",\"India\",\"United States\",\"India\",\"Egypt\",\"United States\",\"United States\",\"United States\",\"United Kingdom\",\"United States\",\"United States\",\"United States\",\"India\",\"United States\",\"United Kingdom\",\"United States\",\"United States\",\"Egypt\",\"United States\",\"Spain\",\"United States\",\"United States\",\"Mexico\",\"United Kingdom\",\"United States\",\"United States\",\"United Kingdom\",\"United States\",\"United States\",\"United Kingdom\",\"United States\",\"United States\",\"Egypt\",\"United States\",\"United States\",\"United States\",\"Egypt\",\"United States\",\"United States\",\"United States\",\"United States\",\"India\",\"India\",\"United States\",\"United States\",\"United States\",\"United States\",\"India\",\"Japan\",\"Japan\",\"Japan\",\"India\",\"United States\",\"United States\",\"United States\",\"United States\",\"United States\",\"United States\",\"United Kingdom\",\"India\",\"Japan\",\"United States\",\"India\",\"United States\",\"United States\",\"United States\",\"United States\",\"Egypt\",\"United States\",\"United States\",\"India\",\"India\",\"United States\",\"United States\",\"United States\",\"United States\",\"United States\",\"Canada\",\"United Kingdom\",\"India\",\"United States\",\"India\",\"United States\",\"Egypt\",\"United States\",\"United States\",\"United Kingdom\",\"United States\",\"Mexico\",\"United Kingdom\",\"United States\",\"United States\",\"United States\",\"United States\",\"United States\",\"India\",\"United States\",\"United States\",\"United States\",\"United States\",\"United States\",\"United States\",\"United States\",\"United States\",\"United States\",\"United States\",\"United States\",\"United States\",\"United States\",\"India\",\"United States\",\"United States\",\"India\",\"United Kingdom\",\"India\",\"United States\",\"United Kingdom\",\"France\",\"United States\",\"India\",\"United States\",\"United States\",\"United States\",\"United States\",\"India\",\"United States\",\"India\",\"United States\",\"United States\",\"United States\",\"United Kingdom\",\"United States\",\"United States\",\"United States\",\"United States\",\"United States\",\"United States\",\"India\",\"United States\",\"India\",\"India\",\"United Kingdom\",\"Canada\",\"United States\",\"United States\",\"United States\",\"United Kingdom\",\"United States\",\"United States\",\"United Kingdom\",\"United States\",\"United States\",\"United States\",\"United States\",\"United States\",\"India\",\"United States\",\"France\",\"United States\",\"India\",\"United States\",\"India\",\"United States\",\"United States\",\"United States\",\"United States\",\"United States\",\"United States\",\"United Kingdom\",\"India\",\"Mexico\",\"United States\",\"Canada\",\"Japan\",\"Japan\",\"Japan\",\"United States\",\"Canada\",\"India\",\"India\",\"United States\",\"United States\",\"India\",\"India\",\"United States\",\"United States\",\"Spain\",\"Egypt\",\"United States\",\"United States\",\"India\",\"Canada\",\"United States\",\"India\",\"United States\",\"India\",\"India\",\"United States\",\"United States\",\"United States\",\"United States\",\"United States\",\"United States\",\"United States\",\"United Kingdom\",\"India\",\"United States\",\"India\",\"United States\",\"United States\",\"India\",\"India\",\"United States\",\"United States\",\"United States\",\"United States\",\"United States\",\"United States\",\"India\",\"India\",\"India\",\"India\",\"India\",\"India\",\"India\",\"United Kingdom\",\"India\",\"India\",\"India\",\"United States\",\"India\",\"United States\",\"India\",\"India\",\"United States\",\"United States\",\"United States\",\"United States\",\"India\",\"India\",\"India\",\"India\",\"India\",\"United States\",\"United States\",\"United States\",\"United States\",\"United Kingdom\",\"France\",\"United States\",\"United States\",\"United States\",\"United States\",\"United Kingdom\",\"United States\",\"United States\",\"India\",\"United States\",\"United States\",\"United Kingdom\",\"India\",\"United States\",\"United States\",\"United States\",\"United States\",\"India\",\"United States\",\"United States\",\"United States\",\"United States\",\"United States\",\"United States\",\"India\",\"United States\",\"United States\",\"United Kingdom\",\"India\",\"United States\",\"India\",\"United States\",\"United States\",\"India\",\"United States\",\"United States\",\"India\",\"United States\",\"France\",\"France\",\"United States\",\"United States\",\"United States\",\"United States\",\"India\",\"United States\",\"United States\",\"France\",\"United States\",\"United States\",\"United States\",\"United States\",\"Canada\",\"United States\",\"Mexico\",\"United States\",\"Egypt\",\"United States\",\"United States\",\"United States\",\"United States\",\"United States\",\"United States\",\"United States\",\"United States\",\"United Kingdom\",\"Mexico\",\"United States\",\"Canada\",\"India\",\"United States\",\"United States\",\"India\",\"United States\",\"Egypt\",\"United States\",\"United States\",\"India\",\"India\",\"India\",\"United States\",\"India\",\"United States\",\"United States\",\"India\",\"United States\",\"France\",\"India\",\"India\",\"India\",\"India\",\"United States\",\"India\",\"India\",\"United States\",\"United States\",\"United States\",\"United Kingdom\",\"United Kingdom\",\"India\",\"India\",\"United Kingdom\",\"United States\",\"India\",\"United States\",\"United States\",\"India\",\"United States\",\"United States\",\"Japan\",\"India\",\"South Korea\",\"India\",\"United States\",\"Egypt\",\"United States\",\"United States\",\"India\",\"Mexico\",\"Canada\",\"United States\",\"Canada\",\"United Kingdom\",\"India\",\"United States\",\"South Korea\",\"United States\",\"United States\",\"India\",\"United Kingdom\",\"United States\",\"India\",\"India\",\"Japan\",\"United States\",\"United States\",\"United States\",\"United States\",\"United States\",\"India\",\"United States\",\"United States\",\"United States\",\"United States\",\"Canada\",\"Egypt\",\"United States\",\"United States\",\"United States\",\"United States\",\"United States\",\"United States\",\"United States\",\"United States\",\"United States\",\"United States\",\"United States\",\"United States\",\"United States\",\"United States\",\"United States\",\"India\",\"India\",\"United States\",\"United States\",\"United States\",\"United States\",\"Egypt\",\"United States\",\"India\",\"France\",\"United States\",\"United States\",\"United States\",\"Canada\",\"India\",\"United States\",\"Egypt\",\"United States\",\"Canada\",\"United States\",\"United Kingdom\",\"United States\",\"United States\",\"India\",\"India\",\"United States\",\"Japan\",\"United States\",\"United States\",\"United States\",\"United States\",\"United States\",\"India\",\"United States\",\"United States\",\"United States\",\"United States\",\"United States\",\"United States\",\"United States\",\"United States\",\"India\",\"United States\",\"United States\",\"United States\",\"India\",\"United States\",\"United States\",\"United States\",\"United States\",\"United States\",\"United States\",\"United States\",\"United States\",\"United States\",\"United States\",\"United States\",\"United States\",\"United States\",\"United States\",\"United States\",\"United States\",\"United States\",\"United States\",\"United States\",\"United States\",\"United States\",\"United States\",\"United States\",\"United States\",\"United States\",\"United States\",\"United Kingdom\",\"United States\",\"United States\",\"United States\",\"United States\",\"Spain\",\"United States\",\"United States\",\"United States\",\"Egypt\",\"India\",\"United States\",\"United States\",\"United States\",\"United States\",\"United Kingdom\",\"United States\",\"India\",\"United States\",\"United States\",\"India\",\"United States\",\"South Korea\",\"United States\",\"United States\",\"India\",\"India\",\"United Kingdom\",\"United Kingdom\",\"India\",\"United States\",\"India\",\"United States\",\"United States\",\"United Kingdom\",\"Spain\",\"United States\",\"India\",\"Canada\",\"United States\",\"India\",\"India\",\"United States\",\"United States\",\"India\",\"United States\",\"United States\",\"United States\",\"India\",\"India\",\"United States\",\"Canada\",\"United States\",\"United States\",\"United States\",\"United States\",\"India\",\"India\",\"United States\",\"United States\",\"India\",\"India\",\"France\",\"United States\",\"United States\",\"United States\",\"United Kingdom\",\"United States\",\"United States\",\"United States\",\"United States\",\"United States\",\"United States\",\"United States\",\"United States\",\"United States\",\"India\",\"United States\",\"United States\",\"United States\",\"United States\",\"Canada\",\"India\",\"United States\",\"United Kingdom\",\"India\",\"United States\",\"United States\",\"United States\",\"United States\",\"India\",\"United States\",\"India\",\"United States\",\"India\",\"India\",\"United States\",\"India\",\"India\",\"South Korea\",\"India\",\"United States\",\"Egypt\",\"India\",\"United States\",\"Canada\",\"United States\",\"India\",\"United Kingdom\",\"United States\",\"Egypt\",\"United States\",\"United States\",\"United States\",\"United States\",\"India\",\"Mexico\",\"United States\",\"India\",\"India\",\"India\",\"India\",\"United Kingdom\",\"United States\",\"United States\",\"United States\",\"United States\",\"United States\",\"United States\",\"Egypt\",\"United States\",\"Canada\",\"United States\",\"United States\",\"United States\",\"India\",\"Mexico\",\"India\",\"United States\",\"United States\",\"United States\",\"United States\",\"United States\",\"India\",\"United States\",\"India\",\"Canada\",\"India\",\"India\",\"United States\",\"India\",\"India\",\"India\",\"Egypt\",\"India\",\"India\",\"Egypt\",\"United States\",\"United States\",\"India\",\"India\",\"United States\",\"France\",\"Canada\",\"India\",\"India\",\"India\",\"United States\",\"India\",\"India\",\"United States\",\"United States\",\"Egypt\",\"United States\",\"United States\",\"United States\",\"United States\",\"United States\",\"United States\",\"United States\",\"United States\",\"United States\",\"United States\",\"United States\",\"United States\",\"United States\",\"United States\",\"United States\",\"United States\",\"United Kingdom\",\"United States\",\"United Kingdom\",\"United States\",\"United Kingdom\",\"United Kingdom\",\"United States\",\"United States\",\"United States\",\"Mexico\",\"United States\",\"India\",\"India\",\"India\",\"India\",\"United States\",\"India\",\"United States\",\"United States\",\"India\",\"United States\",\"India\",\"United States\",\"India\",\"United States\",\"United States\",\"India\",\"United States\",\"United States\",\"United States\",\"United States\",\"United States\",\"United States\",\"United States\",\"United States\",\"United States\",\"United States\",\"United States\",\"United States\",\"India\",\"United States\",\"Mexico\",\"United States\",\"United States\",\"United States\",\"United States\",\"United States\",\"United States\",\"United States\",\"United Kingdom\",\"United States\",\"United States\",\"United Kingdom\",\"United States\",\"United States\",\"United Kingdom\",\"United States\",\"United States\",\"United States\",\"United States\",\"Spain\",\"United States\",\"United States\",\"Canada\",\"United States\",\"United Kingdom\",\"United States\",\"United States\",\"Egypt\",\"United States\",\"India\",\"United States\",\"United States\",\"India\",\"United States\",\"Canada\",\"United States\",\"United States\",\"United States\",\"United States\",\"India\",\"United States\",\"India\",\"United States\",\"India\",\"United States\",\"United States\",\"United States\",\"United States\",\"United States\",\"United States\",\"United States\",\"India\",\"India\",\"India\",\"India\",\"France\",\"United States\",\"United States\",\"Egypt\",\"United States\",\"United States\",\"India\",\"United States\",\"United States\",\"India\",\"France\",\"United States\",\"India\",\"United States\",\"Canada\",\"United States\",\"Canada\",\"United States\",\"South Korea\",\"United States\",\"United States\",\"United States\",\"Egypt\",\"United States\",\"United Kingdom\",\"United States\",\"United States\",\"United States\",\"United States\",\"United States\",\"United States\",\"United States\",\"United States\",\"France\",\"United States\",\"United States\",\"United States\",\"United States\",\"United States\",\"United States\",\"United States\",\"United States\",\"Canada\",\"United States\",\"United States\",\"United States\",\"Egypt\",\"United States\",\"Egypt\",\"United States\",\"United States\",\"United States\",\"United States\",\"Canada\",\"Egypt\",\"United States\",\"United States\",\"United States\",\"India\",\"India\",\"United Kingdom\",\"United States\",\"United States\",\"United States\",\"United States\",\"United States\",\"United States\",\"United States\",\"United States\",\"United States\",\"United States\",\"United States\",\"United Kingdom\",\"United States\",\"United States\",\"United States\",\"United States\",\"United States\",\"United States\",\"United States\",\"United Kingdom\",\"United States\",\"United States\",\"United States\",\"United States\",\"United States\",\"United States\",\"United States\",\"United States\",\"South Korea\",\"India\",\"United States\",\"United States\",\"United States\",\"Canada\",\"United States\",\"Canada\",\"Spain\",\"United States\",\"United States\",\"United States\",\"India\",\"Canada\",\"United States\",\"Mexico\",\"United States\",\"United States\",\"United States\",\"United Kingdom\",\"United Kingdom\",\"United States\",\"United States\",\"France\",\"United States\",\"United States\",\"United States\",\"United States\",\"United States\",\"United Kingdom\",\"United States\",\"United States\",\"United States\",\"India\",\"United States\",\"United States\",\"United States\",\"United States\",\"United Kingdom\",\"United States\",\"United States\",\"United States\",\"United States\",\"United States\",\"South Korea\",\"United States\",\"United States\",\"United States\",\"United States\",\"United States\",\"United States\",\"Canada\",\"United States\",\"United States\",\"United States\",\"United Kingdom\",\"United Kingdom\",\"United States\",\"United States\",\"United States\",\"United States\",\"United States\",\"United States\",\"India\",\"Egypt\",\"United States\",\"South Korea\",\"United States\",\"South Korea\",\"United States\",\"United States\",\"United States\",\"India\",\"United States\",\"United States\",\"United States\",\"Egypt\",\"United States\",\"United Kingdom\",\"United States\",\"United States\",\"United Kingdom\",\"United States\",\"United States\",\"United States\",\"United States\",\"United States\",\"India\",\"United States\",\"United States\",\"Mexico\",\"United States\",\"United States\",\"United States\",\"United States\",\"United Kingdom\",\"United States\",\"United States\",\"United Kingdom\",\"United States\",\"United States\",\"United States\",\"United States\",\"Egypt\",\"United States\",\"United Kingdom\",\"United States\",\"United States\",\"United States\",\"United Kingdom\",\"United States\",\"United Kingdom\",\"United States\",\"United States\",\"United States\",\"United States\",\"Egypt\",\"United States\",\"United States\",\"United Kingdom\",\"France\",\"United Kingdom\",\"Canada\",\"Canada\",\"India\",\"United States\",\"United States\",\"United States\",\"United Kingdom\",\"United States\",\"United States\",\"United States\",\"India\",\"India\",\"United States\",\"United States\",\"United States\",\"United States\",\"India\",\"United States\",\"United States\",\"United States\",\"India\",\"South Korea\",\"United Kingdom\",\"United States\",\"United States\",\"United Kingdom\",\"Canada\",\"United States\",\"United States\",\"United States\",\"United States\",\"United Kingdom\",\"India\",\"India\",\"India\",\"United States\",\"United States\",\"United States\",\"United States\",\"United States\",\"India\",\"United States\",\"United States\",\"United States\",\"India\",\"United Kingdom\",\"Canada\",\"India\",\"United States\",\"United States\",\"United States\",\"Canada\",\"United States\",\"Egypt\",\"United States\",\"India\",\"Egypt\",\"United States\",\"United States\",\"India\",\"India\",\"United States\",\"United States\",\"United States\",\"United States\",\"India\",\"India\",\"India\",\"United Kingdom\",\"India\",\"India\",\"United States\",\"United States\",\"United Kingdom\",\"United States\",\"India\",\"United Kingdom\",\"Egypt\",\"Mexico\",\"United States\",\"United States\",\"Spain\",\"United States\",\"United States\",\"India\",\"United States\",\"United States\",\"United States\",\"United States\",\"United Kingdom\",\"United States\",\"United States\",\"United States\",\"United Kingdom\",\"United Kingdom\",\"United States\",\"United States\",\"United Kingdom\",\"United States\",\"United States\",\"United States\",\"United Kingdom\",\"United States\",\"United States\",\"United States\",\"Canada\",\"United States\",\"United States\",\"United States\",\"United States\",\"United States\",\"India\",\"United States\",\"United States\",\"United States\",\"United States\",\"Mexico\",\"India\",\"India\",\"India\",\"India\",\"India\",\"United States\",\"United Kingdom\",\"United States\",\"United States\",\"United States\",\"United States\",\"India\",\"India\",\"United States\",\"United States\",\"United States\",\"India\"],\"yaxis\":\"y\",\"type\":\"histogram\"},{\"alignmentgroup\":\"True\",\"bingroup\":\"y\",\"hovertemplate\":\"type=TV Show<br>count=%{x}<br>country=%{y}<extra></extra>\",\"legendgroup\":\"TV Show\",\"marker\":{\"color\":\"black\",\"pattern\":{\"shape\":\"\"}},\"name\":\"TV Show\",\"offsetgroup\":\"TV Show\",\"orientation\":\"h\",\"showlegend\":true,\"xaxis\":\"x\",\"y\":[\"United States\",\"United States\",\"India\",\"United States\",\"United Kingdom\",\"United States\",\"United States\",\"United States\",\"United States\",\"Mexico\",\"United States\",\"United States\",\"United States\",\"United Kingdom\",\"United States\",\"United States\",\"India\",\"United States\",\"United States\",\"India\",\"United States\",\"United Kingdom\",\"India\",\"United States\",\"India\",\"United States\",\"United Kingdom\",\"United States\",\"Japan\",\"United States\",\"United States\",\"United States\",\"United States\",\"United States\",\"United States\",\"United Kingdom\",\"United States\",\"United States\",\"South Korea\",\"United States\",\"Spain\",\"United States\",\"United States\",\"United States\",\"South Korea\",\"United States\",\"United States\",\"United States\",\"United States\",\"Japan\",\"United States\",\"United States\",\"United States\",\"United States\",\"United States\",\"United States\",\"United States\",\"United States\",\"United States\",\"United States\",\"United States\",\"Japan\",\"United States\",\"United States\",\"United States\",\"United States\",\"United States\",\"United States\",\"United States\",\"United States\",\"United States\",\"United States\",\"United States\",\"United States\",\"United States\",\"United States\",\"United States\",\"United States\",\"Japan\",\"India\",\"United States\",\"United States\",\"France\",\"United States\",\"Spain\",\"United States\",\"United States\",\"United States\",\"South Korea\",\"Japan\",\"India\",\"United States\",\"United States\",\"Mexico\",\"United States\",\"United States\",\"United States\",\"United States\",\"United States\",\"Japan\",\"United States\",\"United States\",\"United Kingdom\",\"United States\",\"United States\",\"United States\",\"United States\",\"United States\",\"United States\",\"United States\",\"United States\",\"United States\",\"United States\",\"United States\",\"United States\",\"United States\",\"Spain\",\"United States\",\"United States\",\"United States\",\"United States\",\"United States\",\"United States\",\"United States\",\"Japan\",\"South Korea\",\"United States\",\"United States\",\"United States\",\"United States\",\"United States\",\"United States\",\"United States\",\"United States\",\"United States\",\"United States\",\"United States\",\"United States\",\"United States\",\"Canada\",\"United States\",\"United States\",\"United Kingdom\",\"United Kingdom\",\"Japan\",\"United Kingdom\",\"United States\",\"Canada\",\"United Kingdom\",\"Japan\",\"United States\",\"United States\",\"United States\",\"Canada\",\"Japan\",\"United Kingdom\",\"Canada\",\"South Korea\",\"United States\",\"United States\",\"United States\",\"United States\",\"France\",\"United States\",\"United States\",\"United States\",\"United States\",\"United States\",\"United States\",\"United States\",\"Mexico\",\"United States\",\"United States\",\"Japan\",\"United States\",\"United States\",\"United States\",\"United States\",\"Japan\",\"United States\",\"United States\",\"United States\",\"United States\",\"United States\",\"United States\",\"France\",\"United States\",\"United States\",\"Spain\",\"United States\",\"United States\",\"United States\",\"Spain\",\"United States\",\"Japan\",\"United States\",\"United States\",\"United States\",\"United Kingdom\",\"Spain\",\"South Korea\",\"United States\",\"United States\",\"United States\",\"United States\",\"United States\",\"United States\",\"United States\",\"United States\",\"United States\",\"United States\",\"United States\",\"United States\",\"United States\",\"United States\",\"United States\",\"South Korea\",\"United States\",\"United States\",\"United States\",\"United Kingdom\",\"United States\",\"United States\",\"Japan\",\"United States\",\"Japan\",\"United Kingdom\",\"United States\",\"United Kingdom\",\"United States\",\"Japan\",\"United States\",\"United States\",\"United States\",\"United States\",\"United States\",\"United States\",\"United States\",\"Japan\",\"United States\",\"United States\",\"United States\",\"Spain\",\"United States\",\"Mexico\",\"United Kingdom\",\"India\",\"United States\",\"United States\",\"South Korea\",\"United States\",\"United States\",\"United States\",\"United States\",\"United States\",\"South Korea\",\"United States\",\"India\",\"India\",\"United States\",\"United States\",\"United States\",\"United States\",\"United States\",\"United States\",\"United States\",\"United States\",\"United States\",\"United States\",\"United States\",\"United States\",\"Mexico\",\"United States\",\"South Korea\",\"United States\",\"Japan\",\"United States\",\"United States\",\"Japan\",\"United States\",\"Japan\",\"United States\",\"United States\",\"United States\",\"United States\",\"South Korea\",\"United States\",\"South Korea\",\"Canada\",\"United States\",\"United States\",\"United States\",\"Japan\",\"India\",\"United States\",\"United States\",\"United States\",\"United Kingdom\",\"United States\",\"United Kingdom\",\"United States\",\"South Korea\",\"Japan\",\"United States\",\"United States\",\"Spain\",\"United Kingdom\",\"United States\",\"Japan\",\"South Korea\",\"South Korea\",\"United States\",\"United States\",\"United Kingdom\",\"Japan\",\"United States\",\"Egypt\",\"United Kingdom\",\"South Korea\",\"United States\",\"United Kingdom\",\"France\",\"United States\",\"United States\",\"India\",\"Egypt\",\"United States\",\"Spain\",\"United States\",\"United States\",\"United States\",\"United States\",\"Japan\",\"United States\",\"United States\",\"United States\",\"United States\",\"United States\",\"India\",\"South Korea\",\"India\",\"South Korea\",\"South Korea\",\"United States\",\"United States\",\"United Kingdom\",\"United States\",\"United States\",\"United Kingdom\",\"United States\",\"United States\",\"United States\",\"United Kingdom\",\"Mexico\",\"United States\",\"United States\",\"United States\",\"United States\",\"Spain\",\"United States\",\"United States\",\"United States\",\"Canada\",\"United States\",\"United States\",\"United States\",\"United States\",\"France\",\"United States\",\"United States\",\"United States\",\"Canada\",\"South Korea\",\"Japan\",\"Mexico\",\"United States\",\"United States\",\"United States\",\"United States\",\"United States\",\"United States\",\"United States\",\"United Kingdom\",\"United Kingdom\",\"India\",\"United States\",\"Spain\",\"United States\",\"United States\",\"United States\",\"United States\",\"United States\",\"United States\",\"United States\",\"United States\",\"Mexico\",\"United States\",\"United States\",\"United States\",\"United States\",\"United States\",\"United Kingdom\",\"United States\",\"South Korea\",\"India\",\"United States\",\"South Korea\",\"United States\",\"United Kingdom\",\"India\",\"South Korea\",\"United States\",\"United States\",\"Japan\",\"United Kingdom\",\"United States\",\"United States\",\"United States\",\"United States\",\"United States\",\"United States\",\"France\",\"Spain\",\"Japan\",\"United States\",\"Egypt\",\"United States\",\"United States\",\"United States\",\"United States\",\"South Korea\",\"United States\",\"France\",\"India\",\"United States\",\"United States\",\"United Kingdom\",\"United States\",\"United States\",\"United States\",\"South Korea\",\"United States\",\"United Kingdom\",\"South Korea\",\"India\",\"United States\",\"Japan\",\"Egypt\",\"South Korea\",\"United States\",\"India\",\"United States\",\"United States\",\"United States\",\"United States\",\"United States\",\"Japan\",\"United States\",\"United States\",\"Spain\",\"South Korea\",\"United States\",\"United States\",\"United States\",\"United States\",\"United States\",\"United States\",\"Egypt\",\"Canada\",\"United States\",\"United States\",\"United States\",\"United States\",\"United States\",\"United States\",\"Canada\",\"South Korea\",\"South Korea\",\"United States\",\"United States\",\"United States\",\"United States\",\"United States\",\"United States\",\"Spain\",\"United States\",\"United States\",\"United States\",\"South Korea\",\"United States\",\"France\",\"United States\",\"United Kingdom\",\"United States\",\"United States\",\"United States\",\"United States\",\"United States\",\"United States\",\"United States\",\"United States\",\"South Korea\",\"South Korea\",\"India\",\"United States\",\"United States\",\"United States\",\"United States\",\"United States\",\"South Korea\",\"Japan\",\"United States\",\"Japan\",\"United States\",\"United States\",\"Mexico\",\"Japan\",\"United States\",\"United States\",\"United States\",\"United States\",\"United States\",\"United States\",\"South Korea\",\"United States\",\"United States\",\"United States\",\"United States\",\"United States\",\"United States\",\"United States\",\"United States\",\"United States\",\"United Kingdom\",\"United States\",\"France\",\"United States\",\"Spain\",\"United Kingdom\",\"United States\",\"United States\",\"United States\",\"Spain\",\"South Korea\",\"United States\",\"United States\",\"United States\",\"United Kingdom\",\"United States\",\"United States\",\"Japan\",\"United States\",\"Japan\",\"United States\",\"France\",\"United States\",\"Japan\",\"United Kingdom\",\"India\",\"Japan\",\"United States\",\"United States\",\"United States\",\"United States\",\"United States\",\"Canada\",\"South Korea\",\"United States\",\"United States\",\"United States\",\"South Korea\",\"United States\",\"United States\",\"United States\",\"Japan\",\"United States\",\"United States\",\"Japan\",\"Spain\",\"United States\",\"United States\",\"United States\",\"United States\",\"Canada\",\"United States\",\"United States\",\"United States\",\"Canada\",\"Japan\",\"Canada\",\"Japan\",\"United States\",\"United Kingdom\",\"United States\",\"United States\",\"United States\",\"United States\",\"United States\",\"Spain\",\"United States\",\"United States\",\"United States\",\"United Kingdom\",\"France\",\"United States\",\"Mexico\",\"United States\",\"United States\",\"United States\",\"United States\",\"Japan\",\"South Korea\",\"India\",\"Spain\",\"Japan\",\"United States\",\"United States\",\"United States\",\"United States\",\"United Kingdom\",\"United States\",\"France\",\"Japan\",\"United States\",\"South Korea\",\"United Kingdom\",\"United States\",\"South Korea\",\"United States\",\"United States\",\"United States\",\"United States\",\"United States\",\"United States\",\"United States\",\"United States\",\"Japan\",\"Mexico\",\"United States\",\"United States\",\"South Korea\",\"United States\",\"United States\",\"Japan\",\"United States\",\"Japan\",\"South Korea\",\"Japan\",\"Japan\",\"South Korea\",\"South Korea\",\"United States\",\"Japan\",\"United States\",\"India\",\"United States\",\"United Kingdom\",\"Canada\",\"South Korea\",\"United States\",\"United States\",\"United States\",\"United Kingdom\",\"United States\",\"South Korea\",\"South Korea\",\"United States\",\"France\",\"United States\",\"United States\",\"Japan\",\"United States\",\"South Korea\",\"Canada\",\"United States\",\"United States\",\"Canada\",\"Canada\",\"United States\",\"United States\",\"United States\",\"United States\",\"United States\",\"Japan\",\"Canada\",\"Japan\",\"Japan\",\"South Korea\",\"United Kingdom\",\"United States\",\"United Kingdom\",\"South Korea\",\"United States\",\"United Kingdom\",\"United States\",\"Mexico\",\"United States\",\"United Kingdom\",\"Japan\",\"United States\",\"United States\",\"United States\",\"India\",\"South Korea\",\"United States\",\"Mexico\",\"India\",\"France\",\"United States\",\"United States\",\"Japan\",\"United States\",\"United States\",\"United States\",\"United States\",\"United Kingdom\",\"United States\",\"Japan\",\"United Kingdom\",\"United States\",\"United Kingdom\",\"India\",\"United States\",\"United States\",\"South Korea\",\"United States\",\"India\",\"United States\",\"United States\",\"United States\",\"United States\",\"United States\",\"United States\",\"United States\",\"India\",\"United Kingdom\",\"United Kingdom\",\"United States\",\"France\",\"United States\",\"United States\",\"United States\",\"United States\",\"United States\",\"United States\",\"India\",\"Spain\",\"Japan\",\"United States\",\"Spain\",\"Mexico\",\"United States\",\"Japan\",\"United States\",\"United States\",\"South Korea\",\"Canada\",\"United States\",\"South Korea\",\"United States\",\"United States\",\"India\",\"United States\",\"United States\",\"United States\",\"United States\",\"United States\",\"United States\",\"United States\",\"Japan\",\"United States\",\"United States\",\"United States\",\"Japan\",\"South Korea\",\"Japan\",\"Japan\",\"United States\",\"Mexico\",\"Spain\",\"Japan\",\"United Kingdom\",\"United States\",\"United States\",\"United Kingdom\",\"United States\",\"United States\",\"United States\",\"United States\",\"Japan\",\"United States\",\"United States\",\"United States\",\"Canada\",\"United States\",\"Japan\",\"United States\",\"France\",\"United States\",\"United States\",\"United Kingdom\",\"United States\",\"India\",\"United States\",\"France\",\"United States\",\"United Kingdom\",\"Canada\",\"United States\",\"South Korea\",\"Canada\",\"Japan\",\"United States\",\"South Korea\",\"United States\",\"South Korea\",\"South Korea\",\"United States\",\"South Korea\",\"Japan\",\"United States\",\"South Korea\",\"United States\",\"Japan\",\"United States\",\"France\",\"United States\",\"Japan\",\"United States\",\"United States\",\"France\",\"United States\",\"South Korea\",\"United States\",\"South Korea\",\"Japan\",\"United States\",\"United States\",\"United States\",\"United States\",\"Japan\",\"United States\",\"Spain\",\"United States\",\"United States\",\"United States\",\"United States\",\"United States\",\"United States\",\"South Korea\",\"United States\",\"Japan\",\"United States\",\"France\",\"Mexico\",\"United States\",\"United States\",\"United States\",\"United States\",\"France\",\"United States\",\"United States\",\"South Korea\",\"Japan\",\"United States\",\"South Korea\",\"Mexico\",\"United States\",\"United States\",\"South Korea\",\"India\",\"United Kingdom\",\"Japan\",\"United States\",\"United Kingdom\",\"United Kingdom\",\"United States\",\"United States\",\"United States\",\"United States\",\"France\",\"United States\",\"Japan\",\"Japan\",\"Japan\",\"Japan\",\"Japan\",\"United States\",\"United States\",\"South Korea\",\"South Korea\",\"United States\",\"United States\",\"United States\",\"Spain\",\"France\",\"Spain\",\"United States\",\"United States\",\"United States\",\"United Kingdom\",\"United Kingdom\",\"India\",\"United States\",\"United States\",\"South Korea\",\"South Korea\",\"South Korea\",\"United States\",\"France\",\"United States\",\"Japan\",\"United States\",\"Mexico\",\"South Korea\",\"United Kingdom\",\"United States\",\"United States\",\"United States\",\"United States\",\"United States\",\"South Korea\",\"South Korea\",\"India\",\"India\",\"India\",\"India\",\"South Korea\",\"South Korea\",\"South Korea\",\"United States\",\"India\",\"Mexico\",\"United States\",\"South Korea\",\"United States\",\"Spain\",\"United States\",\"United States\",\"Spain\",\"South Korea\",\"United States\",\"Japan\",\"France\",\"United States\",\"United States\",\"United States\",\"United States\",\"France\",\"United States\",\"United States\",\"Japan\",\"United Kingdom\",\"United States\",\"United Kingdom\",\"United States\",\"United States\",\"United States\",\"Spain\",\"United States\",\"United States\",\"Spain\",\"United States\",\"United States\",\"United States\",\"United States\",\"United States\",\"United States\",\"South Korea\",\"United States\",\"South Korea\",\"South Korea\",\"South Korea\",\"South Korea\",\"South Korea\",\"United States\",\"United States\",\"United States\",\"United States\",\"South Korea\",\"United States\",\"United States\",\"United States\",\"India\",\"South Korea\",\"United States\",\"Japan\",\"Japan\",\"Japan\",\"Japan\",\"United States\",\"United States\",\"South Korea\",\"United States\",\"United States\",\"United States\",\"United States\",\"United States\",\"United States\",\"South Korea\",\"United States\",\"United States\",\"France\",\"France\",\"Japan\",\"United States\",\"United States\",\"United States\",\"Spain\",\"United States\",\"Japan\",\"United States\",\"Japan\",\"Japan\",\"United States\",\"United States\",\"Japan\",\"Japan\",\"Japan\",\"Spain\",\"United States\",\"United States\",\"United States\",\"India\",\"United States\",\"United States\",\"Mexico\",\"United States\",\"United States\",\"United States\",\"United Kingdom\",\"United States\",\"United States\",\"South Korea\",\"Japan\",\"Canada\",\"United States\",\"United States\",\"United States\",\"United States\",\"United States\",\"United States\",\"United States\",\"Mexico\",\"Mexico\",\"United States\",\"United Kingdom\",\"United Kingdom\",\"United States\",\"Japan\",\"United States\",\"United States\",\"United States\",\"United States\",\"United States\",\"United States\",\"United States\",\"United States\",\"United States\",\"United States\",\"United States\",\"United States\",\"South Korea\",\"United States\",\"United States\",\"Mexico\",\"United Kingdom\",\"United States\",\"Japan\",\"Japan\",\"United States\",\"United States\",\"United States\",\"United States\",\"United States\",\"United States\",\"United States\",\"United States\",\"United States\",\"South Korea\",\"United States\",\"United States\",\"United Kingdom\",\"United States\",\"United States\",\"Mexico\",\"South Korea\",\"United States\",\"South Korea\",\"United Kingdom\",\"France\",\"United States\",\"United States\",\"United Kingdom\",\"Japan\",\"United States\",\"United States\",\"Mexico\",\"India\",\"United States\",\"United States\",\"Canada\",\"Japan\",\"United States\",\"Japan\",\"Spain\",\"United States\",\"United Kingdom\",\"United States\",\"United Kingdom\",\"Egypt\",\"Egypt\",\"Egypt\",\"Egypt\",\"United States\",\"United States\",\"Egypt\",\"United States\",\"United States\",\"South Korea\",\"India\",\"United States\",\"United States\",\"Canada\",\"Japan\",\"United States\",\"United States\",\"United Kingdom\",\"United States\",\"United States\",\"Spain\",\"United States\",\"Egypt\",\"Egypt\",\"South Korea\",\"United Kingdom\",\"Egypt\",\"Japan\",\"South Korea\",\"United States\",\"United States\",\"Japan\",\"United States\",\"United States\",\"United Kingdom\",\"Mexico\",\"Spain\",\"United States\",\"United States\",\"United States\",\"United States\",\"United Kingdom\",\"United States\",\"United States\",\"United States\",\"United Kingdom\",\"United States\",\"United States\",\"United States\",\"United States\",\"United States\",\"United States\",\"United States\",\"India\",\"United States\",\"United States\",\"United Kingdom\",\"United States\",\"United States\",\"Japan\",\"Japan\",\"Japan\",\"United States\",\"United States\",\"United Kingdom\",\"South Korea\",\"United States\",\"United States\",\"United States\",\"United States\",\"Japan\",\"United States\",\"South Korea\",\"South Korea\",\"United States\",\"United States\",\"Japan\",\"United States\",\"Canada\",\"Spain\",\"United Kingdom\",\"United States\",\"United States\",\"United States\",\"United States\",\"United States\",\"Canada\",\"United States\",\"United States\",\"United States\",\"United States\",\"United States\",\"United States\",\"United States\",\"Japan\",\"United States\",\"United States\",\"United States\",\"United States\",\"United States\",\"United States\",\"United Kingdom\",\"Canada\",\"United Kingdom\",\"United States\",\"United States\",\"United States\",\"United States\",\"United States\",\"United States\",\"United States\",\"United States\",\"Japan\",\"South Korea\",\"United States\",\"United Kingdom\",\"United Kingdom\",\"United Kingdom\",\"United States\",\"United States\",\"United Kingdom\",\"United States\",\"Canada\",\"United States\",\"Japan\",\"United States\",\"United States\",\"Japan\",\"United States\",\"United States\",\"Mexico\",\"United States\",\"United States\",\"South Korea\",\"United States\",\"United States\",\"United States\",\"United States\",\"United States\",\"United States\",\"United States\",\"United States\",\"United States\",\"Spain\",\"United States\",\"United States\",\"United States\",\"India\",\"United Kingdom\",\"United States\",\"United States\",\"United States\",\"United States\",\"United States\",\"Spain\",\"United States\",\"Mexico\",\"Japan\",\"Japan\",\"France\",\"Japan\",\"Japan\",\"Spain\",\"United Kingdom\",\"United States\",\"Japan\",\"United States\",\"United States\",\"United Kingdom\",\"United States\",\"South Korea\",\"United States\",\"United States\",\"United States\",\"United Kingdom\",\"United States\",\"United States\",\"United States\",\"United States\",\"United States\",\"France\",\"United States\",\"Japan\",\"France\",\"United States\",\"United States\",\"United States\",\"South Korea\",\"Japan\",\"United States\",\"Japan\",\"United States\",\"United States\",\"United States\",\"United States\",\"France\",\"United States\",\"United States\",\"United States\",\"United States\",\"United States\",\"United States\",\"France\",\"United States\",\"United States\",\"France\",\"United States\",\"United Kingdom\",\"United Kingdom\",\"United States\",\"Canada\",\"United Kingdom\",\"United Kingdom\",\"United Kingdom\",\"United States\",\"United States\",\"Egypt\",\"Japan\",\"Japan\",\"South Korea\",\"United States\",\"Canada\",\"France\",\"United States\",\"United Kingdom\",\"United Kingdom\",\"United States\",\"United States\",\"Japan\",\"United States\",\"United States\",\"United States\",\"United Kingdom\",\"United States\",\"South Korea\",\"Japan\",\"Spain\",\"Japan\",\"United States\",\"United States\",\"Japan\",\"Japan\",\"Japan\",\"United Kingdom\",\"Japan\",\"France\",\"United States\",\"France\",\"United States\",\"United States\",\"United Kingdom\",\"South Korea\",\"United States\",\"United States\",\"United States\",\"United States\",\"United States\",\"Japan\",\"France\",\"United States\",\"United States\",\"United Kingdom\",\"United Kingdom\",\"Japan\",\"United States\",\"United States\",\"South Korea\",\"United States\",\"United States\",\"United States\",\"United States\",\"Japan\",\"Japan\",\"Japan\",\"United States\",\"Japan\",\"United States\",\"United States\",\"Canada\",\"United States\",\"United States\",\"United States\",\"United States\",\"United States\",\"United Kingdom\",\"United States\",\"United States\",\"United States\",\"United States\",\"France\",\"United States\",\"Japan\",\"Japan\",\"United States\",\"United States\",\"United States\",\"United Kingdom\",\"United States\",\"United Kingdom\",\"United States\",\"United States\",\"Canada\",\"United States\",\"Spain\",\"United States\",\"United States\",\"United States\",\"United States\",\"United States\",\"Japan\",\"Japan\",\"United States\",\"United States\",\"United States\",\"United States\",\"Japan\",\"United States\",\"South Korea\",\"United States\",\"United States\",\"United States\",\"United Kingdom\",\"United Kingdom\",\"United Kingdom\",\"United States\",\"United States\",\"United States\",\"Canada\",\"United States\",\"United Kingdom\",\"United States\",\"Japan\",\"United States\",\"United States\",\"South Korea\",\"South Korea\",\"South Korea\",\"South Korea\",\"South Korea\",\"South Korea\",\"United Kingdom\",\"United States\",\"United States\",\"United States\",\"United States\",\"United States\",\"United States\",\"South Korea\",\"South Korea\",\"South Korea\",\"Spain\",\"Canada\",\"United States\",\"United States\",\"United States\",\"South Korea\",\"United States\",\"United States\",\"United Kingdom\",\"United States\",\"Japan\",\"United States\",\"Japan\",\"United States\",\"United States\",\"South Korea\",\"United Kingdom\",\"South Korea\",\"Mexico\",\"South Korea\",\"South Korea\",\"South Korea\",\"South Korea\",\"South Korea\",\"Japan\",\"United States\",\"United States\",\"South Korea\",\"Japan\",\"United States\",\"United States\",\"United Kingdom\",\"South Korea\",\"South Korea\",\"South Korea\",\"South Korea\",\"South Korea\",\"Japan\",\"South Korea\",\"United Kingdom\",\"South Korea\",\"United Kingdom\",\"United States\",\"United States\",\"Canada\",\"United States\",\"United Kingdom\",\"France\",\"United Kingdom\",\"Canada\",\"United States\",\"Japan\",\"Japan\",\"United States\",\"United States\",\"United States\",\"United States\",\"United States\",\"United Kingdom\",\"United Kingdom\",\"United States\",\"United Kingdom\",\"Japan\",\"United States\",\"United Kingdom\",\"United Kingdom\",\"United Kingdom\",\"United States\",\"Japan\",\"United States\",\"United States\",\"Japan\",\"Canada\",\"Japan\",\"United States\",\"Japan\",\"United States\",\"United States\",\"United States\",\"United States\",\"United States\",\"France\",\"Japan\",\"United States\",\"United States\",\"United States\",\"United States\",\"United Kingdom\",\"France\",\"Canada\",\"United States\",\"United States\",\"United States\",\"United Kingdom\",\"South Korea\",\"India\",\"India\",\"United States\",\"South Korea\",\"United States\",\"South Korea\",\"United States\",\"United Kingdom\",\"United Kingdom\",\"United States\",\"India\",\"United Kingdom\",\"United Kingdom\",\"United States\",\"United States\",\"United States\",\"United States\",\"United States\",\"India\",\"India\",\"Japan\",\"United Kingdom\",\"India\",\"United States\",\"United States\",\"United States\",\"United Kingdom\",\"Canada\",\"South Korea\",\"Canada\",\"United States\",\"United States\",\"United States\",\"United States\",\"Japan\",\"India\",\"India\",\"United Kingdom\",\"Canada\",\"Spain\",\"United Kingdom\",\"United States\",\"United States\",\"United Kingdom\",\"United Kingdom\",\"United States\",\"United States\",\"United States\",\"United States\",\"United States\",\"United States\",\"United Kingdom\",\"United Kingdom\",\"South Korea\",\"United States\",\"Canada\",\"South Korea\",\"France\",\"United States\",\"Japan\",\"United States\",\"Canada\",\"United States\",\"South Korea\",\"United Kingdom\",\"United Kingdom\",\"United States\",\"United States\",\"United Kingdom\",\"United Kingdom\",\"India\",\"United Kingdom\",\"United States\",\"United States\",\"United States\",\"United States\",\"United States\",\"United States\",\"United States\",\"United States\",\"United States\",\"United States\",\"United States\",\"United States\",\"France\",\"United Kingdom\",\"Mexico\",\"United Kingdom\",\"India\",\"United States\",\"India\",\"United States\",\"United States\",\"Canada\",\"United States\",\"United States\",\"United States\",\"United Kingdom\",\"United States\",\"Spain\",\"Mexico\",\"United States\",\"United States\",\"United States\",\"United States\",\"United Kingdom\",\"United States\",\"United States\",\"United Kingdom\",\"United States\",\"Japan\",\"United Kingdom\",\"United States\",\"United Kingdom\",\"India\",\"United States\",\"United States\",\"South Korea\",\"United States\",\"United States\",\"United States\",\"United Kingdom\",\"United Kingdom\",\"United States\",\"India\",\"United States\",\"India\",\"Japan\",\"United Kingdom\",\"United Kingdom\",\"United States\",\"United States\",\"United States\",\"United States\",\"United States\",\"United Kingdom\",\"Spain\",\"United Kingdom\",\"United Kingdom\",\"United States\",\"United States\",\"United Kingdom\",\"United States\",\"United Kingdom\",\"United States\",\"Canada\",\"South Korea\",\"Canada\",\"United States\",\"United Kingdom\",\"United States\",\"United Kingdom\",\"United States\",\"United Kingdom\",\"United States\",\"Mexico\",\"United States\",\"United States\",\"United Kingdom\",\"United Kingdom\",\"United States\",\"United Kingdom\",\"Canada\",\"United Kingdom\",\"South Korea\",\"Japan\",\"United States\",\"United States\",\"India\",\"United Kingdom\",\"Mexico\",\"United States\",\"Japan\",\"United States\",\"United States\",\"United States\",\"India\",\"India\",\"India\",\"United States\",\"United States\",\"United Kingdom\",\"Japan\",\"United States\",\"United States\",\"United States\",\"Mexico\",\"Mexico\",\"United Kingdom\",\"South Korea\",\"United Kingdom\",\"United States\",\"United States\",\"United States\",\"Canada\",\"United States\",\"United Kingdom\",\"United Kingdom\",\"United States\",\"Spain\",\"Mexico\",\"United Kingdom\",\"United States\",\"Canada\",\"South Korea\",\"United States\",\"United Kingdom\",\"United States\",\"Japan\",\"India\",\"India\",\"India\",\"United States\",\"United States\",\"United States\",\"United States\",\"United Kingdom\",\"United Kingdom\",\"United States\",\"United States\",\"Spain\",\"United States\",\"India\",\"United States\",\"France\",\"United States\",\"Mexico\",\"South Korea\",\"United States\",\"United Kingdom\",\"Canada\",\"United Kingdom\",\"United Kingdom\",\"Canada\",\"United States\",\"Spain\",\"United Kingdom\",\"United States\",\"United Kingdom\",\"United States\",\"United States\",\"United Kingdom\",\"United Kingdom\",\"United States\",\"United States\",\"Japan\",\"United Kingdom\",\"United States\",\"Japan\",\"United States\",\"United Kingdom\",\"United States\",\"Canada\",\"United States\",\"France\",\"United States\",\"United Kingdom\",\"United Kingdom\",\"South Korea\",\"United States\",\"United States\",\"United States\",\"Canada\",\"United States\",\"United States\",\"United States\",\"United States\",\"United States\",\"United Kingdom\",\"United Kingdom\",\"United States\",\"India\",\"United States\",\"United States\",\"United States\",\"United States\",\"United States\",\"United States\",\"United States\",\"United States\",\"United States\",\"United States\",\"United States\",\"United States\",\"United States\",\"United States\",\"India\",\"United States\",\"United States\",\"United States\",\"United States\",\"India\",\"India\",\"United States\",\"Mexico\",\"United States\",\"United Kingdom\",\"Canada\",\"United States\",\"United Kingdom\",\"United States\",\"India\",\"United States\",\"Mexico\",\"Japan\",\"United States\",\"United States\",\"United States\",\"United States\",\"South Korea\",\"Canada\",\"United States\",\"United States\",\"United States\",\"United States\",\"United States\",\"United States\",\"United States\",\"United States\",\"South Korea\",\"United States\",\"South Korea\",\"United States\",\"South Korea\",\"India\",\"United Kingdom\",\"United States\",\"United States\",\"United States\",\"Mexico\",\"India\",\"India\",\"United States\",\"United States\",\"United States\",\"United States\",\"United States\",\"United States\",\"United Kingdom\",\"United Kingdom\",\"United Kingdom\",\"United Kingdom\",\"India\",\"United Kingdom\",\"South Korea\",\"United States\",\"Japan\",\"Canada\",\"United States\",\"United Kingdom\",\"United Kingdom\",\"United States\",\"India\",\"United Kingdom\",\"United Kingdom\",\"United States\",\"United States\",\"India\",\"United Kingdom\",\"United Kingdom\",\"United Kingdom\",\"United States\",\"United States\",\"United States\",\"South Korea\",\"United States\",\"United States\",\"United States\",\"United States\",\"France\",\"Spain\",\"United States\",\"United Kingdom\",\"United States\",\"United States\",\"United States\",\"Canada\",\"United States\",\"United Kingdom\",\"France\",\"United States\",\"United States\",\"United States\",\"United States\",\"United States\",\"United States\",\"United States\",\"United States\",\"United States\",\"United States\",\"South Korea\",\"United States\",\"United States\",\"United Kingdom\",\"Canada\",\"United States\",\"United States\",\"United States\",\"United Kingdom\",\"United States\",\"United States\",\"South Korea\",\"United States\",\"United States\",\"United Kingdom\",\"United States\",\"United Kingdom\",\"United Kingdom\",\"United States\",\"United States\",\"United Kingdom\",\"India\",\"United States\",\"United States\",\"United States\",\"United States\"],\"yaxis\":\"y\",\"type\":\"histogram\"}],                        {\"template\":{\"data\":{\"histogram2dcontour\":[{\"type\":\"histogram2dcontour\",\"colorbar\":{\"outlinewidth\":0,\"ticks\":\"\"},\"colorscale\":[[0.0,\"#0d0887\"],[0.1111111111111111,\"#46039f\"],[0.2222222222222222,\"#7201a8\"],[0.3333333333333333,\"#9c179e\"],[0.4444444444444444,\"#bd3786\"],[0.5555555555555556,\"#d8576b\"],[0.6666666666666666,\"#ed7953\"],[0.7777777777777778,\"#fb9f3a\"],[0.8888888888888888,\"#fdca26\"],[1.0,\"#f0f921\"]]}],\"choropleth\":[{\"type\":\"choropleth\",\"colorbar\":{\"outlinewidth\":0,\"ticks\":\"\"}}],\"histogram2d\":[{\"type\":\"histogram2d\",\"colorbar\":{\"outlinewidth\":0,\"ticks\":\"\"},\"colorscale\":[[0.0,\"#0d0887\"],[0.1111111111111111,\"#46039f\"],[0.2222222222222222,\"#7201a8\"],[0.3333333333333333,\"#9c179e\"],[0.4444444444444444,\"#bd3786\"],[0.5555555555555556,\"#d8576b\"],[0.6666666666666666,\"#ed7953\"],[0.7777777777777778,\"#fb9f3a\"],[0.8888888888888888,\"#fdca26\"],[1.0,\"#f0f921\"]]}],\"heatmap\":[{\"type\":\"heatmap\",\"colorbar\":{\"outlinewidth\":0,\"ticks\":\"\"},\"colorscale\":[[0.0,\"#0d0887\"],[0.1111111111111111,\"#46039f\"],[0.2222222222222222,\"#7201a8\"],[0.3333333333333333,\"#9c179e\"],[0.4444444444444444,\"#bd3786\"],[0.5555555555555556,\"#d8576b\"],[0.6666666666666666,\"#ed7953\"],[0.7777777777777778,\"#fb9f3a\"],[0.8888888888888888,\"#fdca26\"],[1.0,\"#f0f921\"]]}],\"heatmapgl\":[{\"type\":\"heatmapgl\",\"colorbar\":{\"outlinewidth\":0,\"ticks\":\"\"},\"colorscale\":[[0.0,\"#0d0887\"],[0.1111111111111111,\"#46039f\"],[0.2222222222222222,\"#7201a8\"],[0.3333333333333333,\"#9c179e\"],[0.4444444444444444,\"#bd3786\"],[0.5555555555555556,\"#d8576b\"],[0.6666666666666666,\"#ed7953\"],[0.7777777777777778,\"#fb9f3a\"],[0.8888888888888888,\"#fdca26\"],[1.0,\"#f0f921\"]]}],\"contourcarpet\":[{\"type\":\"contourcarpet\",\"colorbar\":{\"outlinewidth\":0,\"ticks\":\"\"}}],\"contour\":[{\"type\":\"contour\",\"colorbar\":{\"outlinewidth\":0,\"ticks\":\"\"},\"colorscale\":[[0.0,\"#0d0887\"],[0.1111111111111111,\"#46039f\"],[0.2222222222222222,\"#7201a8\"],[0.3333333333333333,\"#9c179e\"],[0.4444444444444444,\"#bd3786\"],[0.5555555555555556,\"#d8576b\"],[0.6666666666666666,\"#ed7953\"],[0.7777777777777778,\"#fb9f3a\"],[0.8888888888888888,\"#fdca26\"],[1.0,\"#f0f921\"]]}],\"surface\":[{\"type\":\"surface\",\"colorbar\":{\"outlinewidth\":0,\"ticks\":\"\"},\"colorscale\":[[0.0,\"#0d0887\"],[0.1111111111111111,\"#46039f\"],[0.2222222222222222,\"#7201a8\"],[0.3333333333333333,\"#9c179e\"],[0.4444444444444444,\"#bd3786\"],[0.5555555555555556,\"#d8576b\"],[0.6666666666666666,\"#ed7953\"],[0.7777777777777778,\"#fb9f3a\"],[0.8888888888888888,\"#fdca26\"],[1.0,\"#f0f921\"]]}],\"mesh3d\":[{\"type\":\"mesh3d\",\"colorbar\":{\"outlinewidth\":0,\"ticks\":\"\"}}],\"scatter\":[{\"fillpattern\":{\"fillmode\":\"overlay\",\"size\":10,\"solidity\":0.2},\"type\":\"scatter\"}],\"parcoords\":[{\"type\":\"parcoords\",\"line\":{\"colorbar\":{\"outlinewidth\":0,\"ticks\":\"\"}}}],\"scatterpolargl\":[{\"type\":\"scatterpolargl\",\"marker\":{\"colorbar\":{\"outlinewidth\":0,\"ticks\":\"\"}}}],\"bar\":[{\"error_x\":{\"color\":\"#2a3f5f\"},\"error_y\":{\"color\":\"#2a3f5f\"},\"marker\":{\"line\":{\"color\":\"#E5ECF6\",\"width\":0.5},\"pattern\":{\"fillmode\":\"overlay\",\"size\":10,\"solidity\":0.2}},\"type\":\"bar\"}],\"scattergeo\":[{\"type\":\"scattergeo\",\"marker\":{\"colorbar\":{\"outlinewidth\":0,\"ticks\":\"\"}}}],\"scatterpolar\":[{\"type\":\"scatterpolar\",\"marker\":{\"colorbar\":{\"outlinewidth\":0,\"ticks\":\"\"}}}],\"histogram\":[{\"marker\":{\"pattern\":{\"fillmode\":\"overlay\",\"size\":10,\"solidity\":0.2}},\"type\":\"histogram\"}],\"scattergl\":[{\"type\":\"scattergl\",\"marker\":{\"colorbar\":{\"outlinewidth\":0,\"ticks\":\"\"}}}],\"scatter3d\":[{\"type\":\"scatter3d\",\"line\":{\"colorbar\":{\"outlinewidth\":0,\"ticks\":\"\"}},\"marker\":{\"colorbar\":{\"outlinewidth\":0,\"ticks\":\"\"}}}],\"scattermapbox\":[{\"type\":\"scattermapbox\",\"marker\":{\"colorbar\":{\"outlinewidth\":0,\"ticks\":\"\"}}}],\"scatterternary\":[{\"type\":\"scatterternary\",\"marker\":{\"colorbar\":{\"outlinewidth\":0,\"ticks\":\"\"}}}],\"scattercarpet\":[{\"type\":\"scattercarpet\",\"marker\":{\"colorbar\":{\"outlinewidth\":0,\"ticks\":\"\"}}}],\"carpet\":[{\"aaxis\":{\"endlinecolor\":\"#2a3f5f\",\"gridcolor\":\"white\",\"linecolor\":\"white\",\"minorgridcolor\":\"white\",\"startlinecolor\":\"#2a3f5f\"},\"baxis\":{\"endlinecolor\":\"#2a3f5f\",\"gridcolor\":\"white\",\"linecolor\":\"white\",\"minorgridcolor\":\"white\",\"startlinecolor\":\"#2a3f5f\"},\"type\":\"carpet\"}],\"table\":[{\"cells\":{\"fill\":{\"color\":\"#EBF0F8\"},\"line\":{\"color\":\"white\"}},\"header\":{\"fill\":{\"color\":\"#C8D4E3\"},\"line\":{\"color\":\"white\"}},\"type\":\"table\"}],\"barpolar\":[{\"marker\":{\"line\":{\"color\":\"#E5ECF6\",\"width\":0.5},\"pattern\":{\"fillmode\":\"overlay\",\"size\":10,\"solidity\":0.2}},\"type\":\"barpolar\"}],\"pie\":[{\"automargin\":true,\"type\":\"pie\"}]},\"layout\":{\"autotypenumbers\":\"strict\",\"colorway\":[\"#636efa\",\"#EF553B\",\"#00cc96\",\"#ab63fa\",\"#FFA15A\",\"#19d3f3\",\"#FF6692\",\"#B6E880\",\"#FF97FF\",\"#FECB52\"],\"font\":{\"color\":\"#2a3f5f\"},\"hovermode\":\"closest\",\"hoverlabel\":{\"align\":\"left\"},\"paper_bgcolor\":\"white\",\"plot_bgcolor\":\"#E5ECF6\",\"polar\":{\"bgcolor\":\"#E5ECF6\",\"angularaxis\":{\"gridcolor\":\"white\",\"linecolor\":\"white\",\"ticks\":\"\"},\"radialaxis\":{\"gridcolor\":\"white\",\"linecolor\":\"white\",\"ticks\":\"\"}},\"ternary\":{\"bgcolor\":\"#E5ECF6\",\"aaxis\":{\"gridcolor\":\"white\",\"linecolor\":\"white\",\"ticks\":\"\"},\"baxis\":{\"gridcolor\":\"white\",\"linecolor\":\"white\",\"ticks\":\"\"},\"caxis\":{\"gridcolor\":\"white\",\"linecolor\":\"white\",\"ticks\":\"\"}},\"coloraxis\":{\"colorbar\":{\"outlinewidth\":0,\"ticks\":\"\"}},\"colorscale\":{\"sequential\":[[0.0,\"#0d0887\"],[0.1111111111111111,\"#46039f\"],[0.2222222222222222,\"#7201a8\"],[0.3333333333333333,\"#9c179e\"],[0.4444444444444444,\"#bd3786\"],[0.5555555555555556,\"#d8576b\"],[0.6666666666666666,\"#ed7953\"],[0.7777777777777778,\"#fb9f3a\"],[0.8888888888888888,\"#fdca26\"],[1.0,\"#f0f921\"]],\"sequentialminus\":[[0.0,\"#0d0887\"],[0.1111111111111111,\"#46039f\"],[0.2222222222222222,\"#7201a8\"],[0.3333333333333333,\"#9c179e\"],[0.4444444444444444,\"#bd3786\"],[0.5555555555555556,\"#d8576b\"],[0.6666666666666666,\"#ed7953\"],[0.7777777777777778,\"#fb9f3a\"],[0.8888888888888888,\"#fdca26\"],[1.0,\"#f0f921\"]],\"diverging\":[[0,\"#8e0152\"],[0.1,\"#c51b7d\"],[0.2,\"#de77ae\"],[0.3,\"#f1b6da\"],[0.4,\"#fde0ef\"],[0.5,\"#f7f7f7\"],[0.6,\"#e6f5d0\"],[0.7,\"#b8e186\"],[0.8,\"#7fbc41\"],[0.9,\"#4d9221\"],[1,\"#276419\"]]},\"xaxis\":{\"gridcolor\":\"white\",\"linecolor\":\"white\",\"ticks\":\"\",\"title\":{\"standoff\":15},\"zerolinecolor\":\"white\",\"automargin\":true,\"zerolinewidth\":2},\"yaxis\":{\"gridcolor\":\"white\",\"linecolor\":\"white\",\"ticks\":\"\",\"title\":{\"standoff\":15},\"zerolinecolor\":\"white\",\"automargin\":true,\"zerolinewidth\":2},\"scene\":{\"xaxis\":{\"backgroundcolor\":\"#E5ECF6\",\"gridcolor\":\"white\",\"linecolor\":\"white\",\"showbackground\":true,\"ticks\":\"\",\"zerolinecolor\":\"white\",\"gridwidth\":2},\"yaxis\":{\"backgroundcolor\":\"#E5ECF6\",\"gridcolor\":\"white\",\"linecolor\":\"white\",\"showbackground\":true,\"ticks\":\"\",\"zerolinecolor\":\"white\",\"gridwidth\":2},\"zaxis\":{\"backgroundcolor\":\"#E5ECF6\",\"gridcolor\":\"white\",\"linecolor\":\"white\",\"showbackground\":true,\"ticks\":\"\",\"zerolinecolor\":\"white\",\"gridwidth\":2}},\"shapedefaults\":{\"line\":{\"color\":\"#2a3f5f\"}},\"annotationdefaults\":{\"arrowcolor\":\"#2a3f5f\",\"arrowhead\":0,\"arrowwidth\":1},\"geo\":{\"bgcolor\":\"white\",\"landcolor\":\"#E5ECF6\",\"subunitcolor\":\"white\",\"showland\":true,\"showlakes\":true,\"lakecolor\":\"white\"},\"title\":{\"x\":0.05},\"mapbox\":{\"style\":\"light\"}}},\"xaxis\":{\"anchor\":\"y\",\"domain\":[0.0,1.0],\"title\":{\"text\":\"Number of content\"}},\"yaxis\":{\"anchor\":\"x\",\"domain\":[0.0,1.0],\"title\":{\"text\":\"Country\"},\"categoryorder\":\"total ascending\"},\"legend\":{\"title\":{\"text\":\"type\"},\"tracegroupgap\":0},\"title\":{\"text\":\"Top 10 contributing Countries ranked\",\"font\":{\"color\":\"#000000\"}},\"barmode\":\"group\"},                        {\"responsive\": true}                    ).then(function(){\n",
       "                            \n",
       "var gd = document.getElementById('0ab2aaf1-0ad9-4c63-b778-e2ccf61a9690');\n",
       "var x = new MutationObserver(function (mutations, observer) {{\n",
       "        var display = window.getComputedStyle(gd).display;\n",
       "        if (!display || display === 'none') {{\n",
       "            console.log([gd, 'removed!']);\n",
       "            Plotly.purge(gd);\n",
       "            observer.disconnect();\n",
       "        }}\n",
       "}});\n",
       "\n",
       "// Listen for the removal of the full notebook cells\n",
       "var notebookContainer = gd.closest('#notebook-container');\n",
       "if (notebookContainer) {{\n",
       "    x.observe(notebookContainer, {childList: true});\n",
       "}}\n",
       "\n",
       "// Listen for the clearing of the current output cell\n",
       "var outputEl = gd.closest('.output');\n",
       "if (outputEl) {{\n",
       "    x.observe(outputEl, {childList: true});\n",
       "}}\n",
       "\n",
       "                        })                };                });            </script>        </div>"
      ]
     },
     "metadata": {},
     "output_type": "display_data"
    }
   ],
   "source": [
    "# Filtering our data by getting the top 10 contributing countries and putting it in a separte df\n",
    "top10 = df['country'].value_counts().nlargest(10).index\n",
    "top10df = df[df['country'].isin(top10)]\n",
    "plot = px.histogram(top10df, y='country', color='type', orientation='h', \n",
    "color_discrete_map= {\"Movie\" : 'red', \"TV Show\" : \"black\"},\n",
    "title=\"Top 10 contributing Countries ranked\", barmode='group')\n",
    "plot.update_layout(title_font_color='#000000', xaxis_title='Number of content')\n",
    "plot.update_yaxes(categoryorder=\"total ascending\", title='Country')\n",
    "plot.show()"
   ]
  },
  {
   "cell_type": "markdown",
   "id": "8115537b",
   "metadata": {},
   "source": [
    "# Line chart for content added by year"
   ]
  },
  {
   "cell_type": "code",
   "execution_count": 347,
   "id": "f1c80530",
   "metadata": {},
   "outputs": [
    {
     "data": {
      "application/vnd.plotly.v1+json": {
       "config": {
        "plotlyServerURL": "https://plot.ly"
       },
       "data": [
        {
         "hovertemplate": "type=Movie<br>year_added=%{x}<br>Count=%{y}<extra></extra>",
         "legendgroup": "Movie",
         "line": {
          "color": "#db0000",
          "dash": "solid"
         },
         "marker": {
          "symbol": "circle"
         },
         "mode": "markers+lines",
         "name": "Movie",
         "orientation": "v",
         "showlegend": true,
         "type": "scatter",
         "x": [
          2008,
          2009,
          2010,
          2011,
          2012,
          2013,
          2014,
          2015,
          2016,
          2017,
          2018,
          2019,
          2020,
          2021
         ],
         "xaxis": "x",
         "y": [
          1,
          2,
          1,
          13,
          3,
          6,
          19,
          56,
          251,
          838,
          1237,
          1424,
          1284,
          993
         ],
         "yaxis": "y"
        },
        {
         "hovertemplate": "type=TV Show<br>year_added=%{x}<br>Count=%{y}<extra></extra>",
         "legendgroup": "TV Show",
         "line": {
          "color": "#000000",
          "dash": "solid"
         },
         "marker": {
          "symbol": "circle"
         },
         "mode": "markers+lines",
         "name": "TV Show",
         "orientation": "v",
         "showlegend": true,
         "type": "scatter",
         "x": [
          2008,
          2013,
          2014,
          2015,
          2016,
          2017,
          2018,
          2019,
          2020,
          2021
         ],
         "xaxis": "x",
         "y": [
          1,
          5,
          5,
          26,
          176,
          349,
          412,
          592,
          595,
          505
         ],
         "yaxis": "y"
        }
       ],
       "layout": {
        "hovermode": "x unified",
        "legend": {
         "title": {
          "text": "type"
         },
         "tracegroupgap": 0
        },
        "margin": {
         "t": 60
        },
        "template": {
         "data": {
          "bar": [
           {
            "error_x": {
             "color": "#2a3f5f"
            },
            "error_y": {
             "color": "#2a3f5f"
            },
            "marker": {
             "line": {
              "color": "#E5ECF6",
              "width": 0.5
             },
             "pattern": {
              "fillmode": "overlay",
              "size": 10,
              "solidity": 0.2
             }
            },
            "type": "bar"
           }
          ],
          "barpolar": [
           {
            "marker": {
             "line": {
              "color": "#E5ECF6",
              "width": 0.5
             },
             "pattern": {
              "fillmode": "overlay",
              "size": 10,
              "solidity": 0.2
             }
            },
            "type": "barpolar"
           }
          ],
          "carpet": [
           {
            "aaxis": {
             "endlinecolor": "#2a3f5f",
             "gridcolor": "white",
             "linecolor": "white",
             "minorgridcolor": "white",
             "startlinecolor": "#2a3f5f"
            },
            "baxis": {
             "endlinecolor": "#2a3f5f",
             "gridcolor": "white",
             "linecolor": "white",
             "minorgridcolor": "white",
             "startlinecolor": "#2a3f5f"
            },
            "type": "carpet"
           }
          ],
          "choropleth": [
           {
            "colorbar": {
             "outlinewidth": 0,
             "ticks": ""
            },
            "type": "choropleth"
           }
          ],
          "contour": [
           {
            "colorbar": {
             "outlinewidth": 0,
             "ticks": ""
            },
            "colorscale": [
             [
              0,
              "#0d0887"
             ],
             [
              0.1111111111111111,
              "#46039f"
             ],
             [
              0.2222222222222222,
              "#7201a8"
             ],
             [
              0.3333333333333333,
              "#9c179e"
             ],
             [
              0.4444444444444444,
              "#bd3786"
             ],
             [
              0.5555555555555556,
              "#d8576b"
             ],
             [
              0.6666666666666666,
              "#ed7953"
             ],
             [
              0.7777777777777778,
              "#fb9f3a"
             ],
             [
              0.8888888888888888,
              "#fdca26"
             ],
             [
              1,
              "#f0f921"
             ]
            ],
            "type": "contour"
           }
          ],
          "contourcarpet": [
           {
            "colorbar": {
             "outlinewidth": 0,
             "ticks": ""
            },
            "type": "contourcarpet"
           }
          ],
          "heatmap": [
           {
            "colorbar": {
             "outlinewidth": 0,
             "ticks": ""
            },
            "colorscale": [
             [
              0,
              "#0d0887"
             ],
             [
              0.1111111111111111,
              "#46039f"
             ],
             [
              0.2222222222222222,
              "#7201a8"
             ],
             [
              0.3333333333333333,
              "#9c179e"
             ],
             [
              0.4444444444444444,
              "#bd3786"
             ],
             [
              0.5555555555555556,
              "#d8576b"
             ],
             [
              0.6666666666666666,
              "#ed7953"
             ],
             [
              0.7777777777777778,
              "#fb9f3a"
             ],
             [
              0.8888888888888888,
              "#fdca26"
             ],
             [
              1,
              "#f0f921"
             ]
            ],
            "type": "heatmap"
           }
          ],
          "heatmapgl": [
           {
            "colorbar": {
             "outlinewidth": 0,
             "ticks": ""
            },
            "colorscale": [
             [
              0,
              "#0d0887"
             ],
             [
              0.1111111111111111,
              "#46039f"
             ],
             [
              0.2222222222222222,
              "#7201a8"
             ],
             [
              0.3333333333333333,
              "#9c179e"
             ],
             [
              0.4444444444444444,
              "#bd3786"
             ],
             [
              0.5555555555555556,
              "#d8576b"
             ],
             [
              0.6666666666666666,
              "#ed7953"
             ],
             [
              0.7777777777777778,
              "#fb9f3a"
             ],
             [
              0.8888888888888888,
              "#fdca26"
             ],
             [
              1,
              "#f0f921"
             ]
            ],
            "type": "heatmapgl"
           }
          ],
          "histogram": [
           {
            "marker": {
             "pattern": {
              "fillmode": "overlay",
              "size": 10,
              "solidity": 0.2
             }
            },
            "type": "histogram"
           }
          ],
          "histogram2d": [
           {
            "colorbar": {
             "outlinewidth": 0,
             "ticks": ""
            },
            "colorscale": [
             [
              0,
              "#0d0887"
             ],
             [
              0.1111111111111111,
              "#46039f"
             ],
             [
              0.2222222222222222,
              "#7201a8"
             ],
             [
              0.3333333333333333,
              "#9c179e"
             ],
             [
              0.4444444444444444,
              "#bd3786"
             ],
             [
              0.5555555555555556,
              "#d8576b"
             ],
             [
              0.6666666666666666,
              "#ed7953"
             ],
             [
              0.7777777777777778,
              "#fb9f3a"
             ],
             [
              0.8888888888888888,
              "#fdca26"
             ],
             [
              1,
              "#f0f921"
             ]
            ],
            "type": "histogram2d"
           }
          ],
          "histogram2dcontour": [
           {
            "colorbar": {
             "outlinewidth": 0,
             "ticks": ""
            },
            "colorscale": [
             [
              0,
              "#0d0887"
             ],
             [
              0.1111111111111111,
              "#46039f"
             ],
             [
              0.2222222222222222,
              "#7201a8"
             ],
             [
              0.3333333333333333,
              "#9c179e"
             ],
             [
              0.4444444444444444,
              "#bd3786"
             ],
             [
              0.5555555555555556,
              "#d8576b"
             ],
             [
              0.6666666666666666,
              "#ed7953"
             ],
             [
              0.7777777777777778,
              "#fb9f3a"
             ],
             [
              0.8888888888888888,
              "#fdca26"
             ],
             [
              1,
              "#f0f921"
             ]
            ],
            "type": "histogram2dcontour"
           }
          ],
          "mesh3d": [
           {
            "colorbar": {
             "outlinewidth": 0,
             "ticks": ""
            },
            "type": "mesh3d"
           }
          ],
          "parcoords": [
           {
            "line": {
             "colorbar": {
              "outlinewidth": 0,
              "ticks": ""
             }
            },
            "type": "parcoords"
           }
          ],
          "pie": [
           {
            "automargin": true,
            "type": "pie"
           }
          ],
          "scatter": [
           {
            "fillpattern": {
             "fillmode": "overlay",
             "size": 10,
             "solidity": 0.2
            },
            "type": "scatter"
           }
          ],
          "scatter3d": [
           {
            "line": {
             "colorbar": {
              "outlinewidth": 0,
              "ticks": ""
             }
            },
            "marker": {
             "colorbar": {
              "outlinewidth": 0,
              "ticks": ""
             }
            },
            "type": "scatter3d"
           }
          ],
          "scattercarpet": [
           {
            "marker": {
             "colorbar": {
              "outlinewidth": 0,
              "ticks": ""
             }
            },
            "type": "scattercarpet"
           }
          ],
          "scattergeo": [
           {
            "marker": {
             "colorbar": {
              "outlinewidth": 0,
              "ticks": ""
             }
            },
            "type": "scattergeo"
           }
          ],
          "scattergl": [
           {
            "marker": {
             "colorbar": {
              "outlinewidth": 0,
              "ticks": ""
             }
            },
            "type": "scattergl"
           }
          ],
          "scattermapbox": [
           {
            "marker": {
             "colorbar": {
              "outlinewidth": 0,
              "ticks": ""
             }
            },
            "type": "scattermapbox"
           }
          ],
          "scatterpolar": [
           {
            "marker": {
             "colorbar": {
              "outlinewidth": 0,
              "ticks": ""
             }
            },
            "type": "scatterpolar"
           }
          ],
          "scatterpolargl": [
           {
            "marker": {
             "colorbar": {
              "outlinewidth": 0,
              "ticks": ""
             }
            },
            "type": "scatterpolargl"
           }
          ],
          "scatterternary": [
           {
            "marker": {
             "colorbar": {
              "outlinewidth": 0,
              "ticks": ""
             }
            },
            "type": "scatterternary"
           }
          ],
          "surface": [
           {
            "colorbar": {
             "outlinewidth": 0,
             "ticks": ""
            },
            "colorscale": [
             [
              0,
              "#0d0887"
             ],
             [
              0.1111111111111111,
              "#46039f"
             ],
             [
              0.2222222222222222,
              "#7201a8"
             ],
             [
              0.3333333333333333,
              "#9c179e"
             ],
             [
              0.4444444444444444,
              "#bd3786"
             ],
             [
              0.5555555555555556,
              "#d8576b"
             ],
             [
              0.6666666666666666,
              "#ed7953"
             ],
             [
              0.7777777777777778,
              "#fb9f3a"
             ],
             [
              0.8888888888888888,
              "#fdca26"
             ],
             [
              1,
              "#f0f921"
             ]
            ],
            "type": "surface"
           }
          ],
          "table": [
           {
            "cells": {
             "fill": {
              "color": "#EBF0F8"
             },
             "line": {
              "color": "white"
             }
            },
            "header": {
             "fill": {
              "color": "#C8D4E3"
             },
             "line": {
              "color": "white"
             }
            },
            "type": "table"
           }
          ]
         },
         "layout": {
          "annotationdefaults": {
           "arrowcolor": "#2a3f5f",
           "arrowhead": 0,
           "arrowwidth": 1
          },
          "autotypenumbers": "strict",
          "coloraxis": {
           "colorbar": {
            "outlinewidth": 0,
            "ticks": ""
           }
          },
          "colorscale": {
           "diverging": [
            [
             0,
             "#8e0152"
            ],
            [
             0.1,
             "#c51b7d"
            ],
            [
             0.2,
             "#de77ae"
            ],
            [
             0.3,
             "#f1b6da"
            ],
            [
             0.4,
             "#fde0ef"
            ],
            [
             0.5,
             "#f7f7f7"
            ],
            [
             0.6,
             "#e6f5d0"
            ],
            [
             0.7,
             "#b8e186"
            ],
            [
             0.8,
             "#7fbc41"
            ],
            [
             0.9,
             "#4d9221"
            ],
            [
             1,
             "#276419"
            ]
           ],
           "sequential": [
            [
             0,
             "#0d0887"
            ],
            [
             0.1111111111111111,
             "#46039f"
            ],
            [
             0.2222222222222222,
             "#7201a8"
            ],
            [
             0.3333333333333333,
             "#9c179e"
            ],
            [
             0.4444444444444444,
             "#bd3786"
            ],
            [
             0.5555555555555556,
             "#d8576b"
            ],
            [
             0.6666666666666666,
             "#ed7953"
            ],
            [
             0.7777777777777778,
             "#fb9f3a"
            ],
            [
             0.8888888888888888,
             "#fdca26"
            ],
            [
             1,
             "#f0f921"
            ]
           ],
           "sequentialminus": [
            [
             0,
             "#0d0887"
            ],
            [
             0.1111111111111111,
             "#46039f"
            ],
            [
             0.2222222222222222,
             "#7201a8"
            ],
            [
             0.3333333333333333,
             "#9c179e"
            ],
            [
             0.4444444444444444,
             "#bd3786"
            ],
            [
             0.5555555555555556,
             "#d8576b"
            ],
            [
             0.6666666666666666,
             "#ed7953"
            ],
            [
             0.7777777777777778,
             "#fb9f3a"
            ],
            [
             0.8888888888888888,
             "#fdca26"
            ],
            [
             1,
             "#f0f921"
            ]
           ]
          },
          "colorway": [
           "#636efa",
           "#EF553B",
           "#00cc96",
           "#ab63fa",
           "#FFA15A",
           "#19d3f3",
           "#FF6692",
           "#B6E880",
           "#FF97FF",
           "#FECB52"
          ],
          "font": {
           "color": "#2a3f5f"
          },
          "geo": {
           "bgcolor": "white",
           "lakecolor": "white",
           "landcolor": "#E5ECF6",
           "showlakes": true,
           "showland": true,
           "subunitcolor": "white"
          },
          "hoverlabel": {
           "align": "left"
          },
          "hovermode": "closest",
          "mapbox": {
           "style": "light"
          },
          "paper_bgcolor": "white",
          "plot_bgcolor": "#E5ECF6",
          "polar": {
           "angularaxis": {
            "gridcolor": "white",
            "linecolor": "white",
            "ticks": ""
           },
           "bgcolor": "#E5ECF6",
           "radialaxis": {
            "gridcolor": "white",
            "linecolor": "white",
            "ticks": ""
           }
          },
          "scene": {
           "xaxis": {
            "backgroundcolor": "#E5ECF6",
            "gridcolor": "white",
            "gridwidth": 2,
            "linecolor": "white",
            "showbackground": true,
            "ticks": "",
            "zerolinecolor": "white"
           },
           "yaxis": {
            "backgroundcolor": "#E5ECF6",
            "gridcolor": "white",
            "gridwidth": 2,
            "linecolor": "white",
            "showbackground": true,
            "ticks": "",
            "zerolinecolor": "white"
           },
           "zaxis": {
            "backgroundcolor": "#E5ECF6",
            "gridcolor": "white",
            "gridwidth": 2,
            "linecolor": "white",
            "showbackground": true,
            "ticks": "",
            "zerolinecolor": "white"
           }
          },
          "shapedefaults": {
           "line": {
            "color": "#2a3f5f"
           }
          },
          "ternary": {
           "aaxis": {
            "gridcolor": "white",
            "linecolor": "white",
            "ticks": ""
           },
           "baxis": {
            "gridcolor": "white",
            "linecolor": "white",
            "ticks": ""
           },
           "bgcolor": "#E5ECF6",
           "caxis": {
            "gridcolor": "white",
            "linecolor": "white",
            "ticks": ""
           }
          },
          "title": {
           "x": 0.05
          },
          "xaxis": {
           "automargin": true,
           "gridcolor": "white",
           "linecolor": "white",
           "ticks": "",
           "title": {
            "standoff": 15
           },
           "zerolinecolor": "white",
           "zerolinewidth": 2
          },
          "yaxis": {
           "automargin": true,
           "gridcolor": "white",
           "linecolor": "white",
           "ticks": "",
           "title": {
            "standoff": 15
           },
           "zerolinecolor": "white",
           "zerolinewidth": 2
          }
         }
        },
        "title": {
         "text": "Line chart for content added among the years"
        },
        "xaxis": {
         "anchor": "y",
         "domain": [
          0,
          1
         ],
         "title": {
          "text": "Year"
         }
        },
        "yaxis": {
         "anchor": "x",
         "domain": [
          0,
          1
         ],
         "title": {
          "text": "Number of content added"
         }
        }
       }
      },
      "text/html": [
       "<div>                            <div id=\"69eec4ea-8083-4713-970e-1a6c7e73bfbb\" class=\"plotly-graph-div\" style=\"height:525px; width:100%;\"></div>            <script type=\"text/javascript\">                require([\"plotly\"], function(Plotly) {                    window.PLOTLYENV=window.PLOTLYENV || {};                                    if (document.getElementById(\"69eec4ea-8083-4713-970e-1a6c7e73bfbb\")) {                    Plotly.newPlot(                        \"69eec4ea-8083-4713-970e-1a6c7e73bfbb\",                        [{\"hovertemplate\":\"type=Movie<br>year_added=%{x}<br>Count=%{y}<extra></extra>\",\"legendgroup\":\"Movie\",\"line\":{\"color\":\"#db0000\",\"dash\":\"solid\"},\"marker\":{\"symbol\":\"circle\"},\"mode\":\"markers+lines\",\"name\":\"Movie\",\"orientation\":\"v\",\"showlegend\":true,\"x\":[2008,2009,2010,2011,2012,2013,2014,2015,2016,2017,2018,2019,2020,2021],\"xaxis\":\"x\",\"y\":[1,2,1,13,3,6,19,56,251,838,1237,1424,1284,993],\"yaxis\":\"y\",\"type\":\"scatter\"},{\"hovertemplate\":\"type=TV Show<br>year_added=%{x}<br>Count=%{y}<extra></extra>\",\"legendgroup\":\"TV Show\",\"line\":{\"color\":\"#000000\",\"dash\":\"solid\"},\"marker\":{\"symbol\":\"circle\"},\"mode\":\"markers+lines\",\"name\":\"TV Show\",\"orientation\":\"v\",\"showlegend\":true,\"x\":[2008,2013,2014,2015,2016,2017,2018,2019,2020,2021],\"xaxis\":\"x\",\"y\":[1,5,5,26,176,349,412,592,595,505],\"yaxis\":\"y\",\"type\":\"scatter\"}],                        {\"template\":{\"data\":{\"histogram2dcontour\":[{\"type\":\"histogram2dcontour\",\"colorbar\":{\"outlinewidth\":0,\"ticks\":\"\"},\"colorscale\":[[0.0,\"#0d0887\"],[0.1111111111111111,\"#46039f\"],[0.2222222222222222,\"#7201a8\"],[0.3333333333333333,\"#9c179e\"],[0.4444444444444444,\"#bd3786\"],[0.5555555555555556,\"#d8576b\"],[0.6666666666666666,\"#ed7953\"],[0.7777777777777778,\"#fb9f3a\"],[0.8888888888888888,\"#fdca26\"],[1.0,\"#f0f921\"]]}],\"choropleth\":[{\"type\":\"choropleth\",\"colorbar\":{\"outlinewidth\":0,\"ticks\":\"\"}}],\"histogram2d\":[{\"type\":\"histogram2d\",\"colorbar\":{\"outlinewidth\":0,\"ticks\":\"\"},\"colorscale\":[[0.0,\"#0d0887\"],[0.1111111111111111,\"#46039f\"],[0.2222222222222222,\"#7201a8\"],[0.3333333333333333,\"#9c179e\"],[0.4444444444444444,\"#bd3786\"],[0.5555555555555556,\"#d8576b\"],[0.6666666666666666,\"#ed7953\"],[0.7777777777777778,\"#fb9f3a\"],[0.8888888888888888,\"#fdca26\"],[1.0,\"#f0f921\"]]}],\"heatmap\":[{\"type\":\"heatmap\",\"colorbar\":{\"outlinewidth\":0,\"ticks\":\"\"},\"colorscale\":[[0.0,\"#0d0887\"],[0.1111111111111111,\"#46039f\"],[0.2222222222222222,\"#7201a8\"],[0.3333333333333333,\"#9c179e\"],[0.4444444444444444,\"#bd3786\"],[0.5555555555555556,\"#d8576b\"],[0.6666666666666666,\"#ed7953\"],[0.7777777777777778,\"#fb9f3a\"],[0.8888888888888888,\"#fdca26\"],[1.0,\"#f0f921\"]]}],\"heatmapgl\":[{\"type\":\"heatmapgl\",\"colorbar\":{\"outlinewidth\":0,\"ticks\":\"\"},\"colorscale\":[[0.0,\"#0d0887\"],[0.1111111111111111,\"#46039f\"],[0.2222222222222222,\"#7201a8\"],[0.3333333333333333,\"#9c179e\"],[0.4444444444444444,\"#bd3786\"],[0.5555555555555556,\"#d8576b\"],[0.6666666666666666,\"#ed7953\"],[0.7777777777777778,\"#fb9f3a\"],[0.8888888888888888,\"#fdca26\"],[1.0,\"#f0f921\"]]}],\"contourcarpet\":[{\"type\":\"contourcarpet\",\"colorbar\":{\"outlinewidth\":0,\"ticks\":\"\"}}],\"contour\":[{\"type\":\"contour\",\"colorbar\":{\"outlinewidth\":0,\"ticks\":\"\"},\"colorscale\":[[0.0,\"#0d0887\"],[0.1111111111111111,\"#46039f\"],[0.2222222222222222,\"#7201a8\"],[0.3333333333333333,\"#9c179e\"],[0.4444444444444444,\"#bd3786\"],[0.5555555555555556,\"#d8576b\"],[0.6666666666666666,\"#ed7953\"],[0.7777777777777778,\"#fb9f3a\"],[0.8888888888888888,\"#fdca26\"],[1.0,\"#f0f921\"]]}],\"surface\":[{\"type\":\"surface\",\"colorbar\":{\"outlinewidth\":0,\"ticks\":\"\"},\"colorscale\":[[0.0,\"#0d0887\"],[0.1111111111111111,\"#46039f\"],[0.2222222222222222,\"#7201a8\"],[0.3333333333333333,\"#9c179e\"],[0.4444444444444444,\"#bd3786\"],[0.5555555555555556,\"#d8576b\"],[0.6666666666666666,\"#ed7953\"],[0.7777777777777778,\"#fb9f3a\"],[0.8888888888888888,\"#fdca26\"],[1.0,\"#f0f921\"]]}],\"mesh3d\":[{\"type\":\"mesh3d\",\"colorbar\":{\"outlinewidth\":0,\"ticks\":\"\"}}],\"scatter\":[{\"fillpattern\":{\"fillmode\":\"overlay\",\"size\":10,\"solidity\":0.2},\"type\":\"scatter\"}],\"parcoords\":[{\"type\":\"parcoords\",\"line\":{\"colorbar\":{\"outlinewidth\":0,\"ticks\":\"\"}}}],\"scatterpolargl\":[{\"type\":\"scatterpolargl\",\"marker\":{\"colorbar\":{\"outlinewidth\":0,\"ticks\":\"\"}}}],\"bar\":[{\"error_x\":{\"color\":\"#2a3f5f\"},\"error_y\":{\"color\":\"#2a3f5f\"},\"marker\":{\"line\":{\"color\":\"#E5ECF6\",\"width\":0.5},\"pattern\":{\"fillmode\":\"overlay\",\"size\":10,\"solidity\":0.2}},\"type\":\"bar\"}],\"scattergeo\":[{\"type\":\"scattergeo\",\"marker\":{\"colorbar\":{\"outlinewidth\":0,\"ticks\":\"\"}}}],\"scatterpolar\":[{\"type\":\"scatterpolar\",\"marker\":{\"colorbar\":{\"outlinewidth\":0,\"ticks\":\"\"}}}],\"histogram\":[{\"marker\":{\"pattern\":{\"fillmode\":\"overlay\",\"size\":10,\"solidity\":0.2}},\"type\":\"histogram\"}],\"scattergl\":[{\"type\":\"scattergl\",\"marker\":{\"colorbar\":{\"outlinewidth\":0,\"ticks\":\"\"}}}],\"scatter3d\":[{\"type\":\"scatter3d\",\"line\":{\"colorbar\":{\"outlinewidth\":0,\"ticks\":\"\"}},\"marker\":{\"colorbar\":{\"outlinewidth\":0,\"ticks\":\"\"}}}],\"scattermapbox\":[{\"type\":\"scattermapbox\",\"marker\":{\"colorbar\":{\"outlinewidth\":0,\"ticks\":\"\"}}}],\"scatterternary\":[{\"type\":\"scatterternary\",\"marker\":{\"colorbar\":{\"outlinewidth\":0,\"ticks\":\"\"}}}],\"scattercarpet\":[{\"type\":\"scattercarpet\",\"marker\":{\"colorbar\":{\"outlinewidth\":0,\"ticks\":\"\"}}}],\"carpet\":[{\"aaxis\":{\"endlinecolor\":\"#2a3f5f\",\"gridcolor\":\"white\",\"linecolor\":\"white\",\"minorgridcolor\":\"white\",\"startlinecolor\":\"#2a3f5f\"},\"baxis\":{\"endlinecolor\":\"#2a3f5f\",\"gridcolor\":\"white\",\"linecolor\":\"white\",\"minorgridcolor\":\"white\",\"startlinecolor\":\"#2a3f5f\"},\"type\":\"carpet\"}],\"table\":[{\"cells\":{\"fill\":{\"color\":\"#EBF0F8\"},\"line\":{\"color\":\"white\"}},\"header\":{\"fill\":{\"color\":\"#C8D4E3\"},\"line\":{\"color\":\"white\"}},\"type\":\"table\"}],\"barpolar\":[{\"marker\":{\"line\":{\"color\":\"#E5ECF6\",\"width\":0.5},\"pattern\":{\"fillmode\":\"overlay\",\"size\":10,\"solidity\":0.2}},\"type\":\"barpolar\"}],\"pie\":[{\"automargin\":true,\"type\":\"pie\"}]},\"layout\":{\"autotypenumbers\":\"strict\",\"colorway\":[\"#636efa\",\"#EF553B\",\"#00cc96\",\"#ab63fa\",\"#FFA15A\",\"#19d3f3\",\"#FF6692\",\"#B6E880\",\"#FF97FF\",\"#FECB52\"],\"font\":{\"color\":\"#2a3f5f\"},\"hovermode\":\"closest\",\"hoverlabel\":{\"align\":\"left\"},\"paper_bgcolor\":\"white\",\"plot_bgcolor\":\"#E5ECF6\",\"polar\":{\"bgcolor\":\"#E5ECF6\",\"angularaxis\":{\"gridcolor\":\"white\",\"linecolor\":\"white\",\"ticks\":\"\"},\"radialaxis\":{\"gridcolor\":\"white\",\"linecolor\":\"white\",\"ticks\":\"\"}},\"ternary\":{\"bgcolor\":\"#E5ECF6\",\"aaxis\":{\"gridcolor\":\"white\",\"linecolor\":\"white\",\"ticks\":\"\"},\"baxis\":{\"gridcolor\":\"white\",\"linecolor\":\"white\",\"ticks\":\"\"},\"caxis\":{\"gridcolor\":\"white\",\"linecolor\":\"white\",\"ticks\":\"\"}},\"coloraxis\":{\"colorbar\":{\"outlinewidth\":0,\"ticks\":\"\"}},\"colorscale\":{\"sequential\":[[0.0,\"#0d0887\"],[0.1111111111111111,\"#46039f\"],[0.2222222222222222,\"#7201a8\"],[0.3333333333333333,\"#9c179e\"],[0.4444444444444444,\"#bd3786\"],[0.5555555555555556,\"#d8576b\"],[0.6666666666666666,\"#ed7953\"],[0.7777777777777778,\"#fb9f3a\"],[0.8888888888888888,\"#fdca26\"],[1.0,\"#f0f921\"]],\"sequentialminus\":[[0.0,\"#0d0887\"],[0.1111111111111111,\"#46039f\"],[0.2222222222222222,\"#7201a8\"],[0.3333333333333333,\"#9c179e\"],[0.4444444444444444,\"#bd3786\"],[0.5555555555555556,\"#d8576b\"],[0.6666666666666666,\"#ed7953\"],[0.7777777777777778,\"#fb9f3a\"],[0.8888888888888888,\"#fdca26\"],[1.0,\"#f0f921\"]],\"diverging\":[[0,\"#8e0152\"],[0.1,\"#c51b7d\"],[0.2,\"#de77ae\"],[0.3,\"#f1b6da\"],[0.4,\"#fde0ef\"],[0.5,\"#f7f7f7\"],[0.6,\"#e6f5d0\"],[0.7,\"#b8e186\"],[0.8,\"#7fbc41\"],[0.9,\"#4d9221\"],[1,\"#276419\"]]},\"xaxis\":{\"gridcolor\":\"white\",\"linecolor\":\"white\",\"ticks\":\"\",\"title\":{\"standoff\":15},\"zerolinecolor\":\"white\",\"automargin\":true,\"zerolinewidth\":2},\"yaxis\":{\"gridcolor\":\"white\",\"linecolor\":\"white\",\"ticks\":\"\",\"title\":{\"standoff\":15},\"zerolinecolor\":\"white\",\"automargin\":true,\"zerolinewidth\":2},\"scene\":{\"xaxis\":{\"backgroundcolor\":\"#E5ECF6\",\"gridcolor\":\"white\",\"linecolor\":\"white\",\"showbackground\":true,\"ticks\":\"\",\"zerolinecolor\":\"white\",\"gridwidth\":2},\"yaxis\":{\"backgroundcolor\":\"#E5ECF6\",\"gridcolor\":\"white\",\"linecolor\":\"white\",\"showbackground\":true,\"ticks\":\"\",\"zerolinecolor\":\"white\",\"gridwidth\":2},\"zaxis\":{\"backgroundcolor\":\"#E5ECF6\",\"gridcolor\":\"white\",\"linecolor\":\"white\",\"showbackground\":true,\"ticks\":\"\",\"zerolinecolor\":\"white\",\"gridwidth\":2}},\"shapedefaults\":{\"line\":{\"color\":\"#2a3f5f\"}},\"annotationdefaults\":{\"arrowcolor\":\"#2a3f5f\",\"arrowhead\":0,\"arrowwidth\":1},\"geo\":{\"bgcolor\":\"white\",\"landcolor\":\"#E5ECF6\",\"subunitcolor\":\"white\",\"showland\":true,\"showlakes\":true,\"lakecolor\":\"white\"},\"title\":{\"x\":0.05},\"mapbox\":{\"style\":\"light\"}}},\"xaxis\":{\"anchor\":\"y\",\"domain\":[0.0,1.0],\"title\":{\"text\":\"Year\"}},\"yaxis\":{\"anchor\":\"x\",\"domain\":[0.0,1.0],\"title\":{\"text\":\"Number of content added\"}},\"legend\":{\"title\":{\"text\":\"type\"},\"tracegroupgap\":0},\"margin\":{\"t\":60},\"title\":{\"text\":\"Line chart for content added among the years\"},\"hovermode\":\"x unified\"},                        {\"responsive\": true}                    ).then(function(){\n",
       "                            \n",
       "var gd = document.getElementById('69eec4ea-8083-4713-970e-1a6c7e73bfbb');\n",
       "var x = new MutationObserver(function (mutations, observer) {{\n",
       "        var display = window.getComputedStyle(gd).display;\n",
       "        if (!display || display === 'none') {{\n",
       "            console.log([gd, 'removed!']);\n",
       "            Plotly.purge(gd);\n",
       "            observer.disconnect();\n",
       "        }}\n",
       "}});\n",
       "\n",
       "// Listen for the removal of the full notebook cells\n",
       "var notebookContainer = gd.closest('#notebook-container');\n",
       "if (notebookContainer) {{\n",
       "    x.observe(notebookContainer, {childList: true});\n",
       "}}\n",
       "\n",
       "// Listen for the clearing of the current output cell\n",
       "var outputEl = gd.closest('.output');\n",
       "if (outputEl) {{\n",
       "    x.observe(outputEl, {childList: true});\n",
       "}}\n",
       "\n",
       "                        })                };                });            </script>        </div>"
      ]
     },
     "metadata": {},
     "output_type": "display_data"
    }
   ],
   "source": [
    "# Filtering our data by creating a new dataframe that holds the value count for each type for each year\n",
    "# Creating the new data frame\n",
    "s = df.groupby('year_added')['type'].value_counts()\n",
    "newdf = pd.DataFrame(data=s.values, index=s.index)\n",
    "newdf = newdf.reset_index()\n",
    "newdf.rename(columns={0:'Count'}, inplace=True)\n",
    "# Visualizing the data\n",
    "plot = px.line(newdf, x='year_added', y='Count', color='type', markers=True, \n",
    "               color_discrete_map = {\"Movie\" : \"#db0000\", \"TV Show\" : \"#000000\"})\n",
    "plot.update_layout(title='Line chart for content added among the years',\n",
    "    xaxis_title='Year',\n",
    "    yaxis_title='Number of content added', hovermode='x unified')\n",
    "plot.show()"
   ]
  },
  {
   "cell_type": "markdown",
   "id": "3a6789bb",
   "metadata": {},
   "source": [
    "# Most actors that appeared on Netflix platform"
   ]
  },
  {
   "cell_type": "code",
   "execution_count": 348,
   "id": "960daa92",
   "metadata": {},
   "outputs": [],
   "source": [
    "# Creating new dataframe without the unknown cast rows\n",
    "castdf = df[df['cast'] != 'unknown']"
   ]
  },
  {
   "cell_type": "code",
   "execution_count": 292,
   "id": "2250fb38",
   "metadata": {},
   "outputs": [],
   "source": [
    "# Fucntion to each row and split the cast string into a list, and then creating a dictionary with the names\n",
    "# Everytime the name appears the value is incremented by 1 \n",
    "# This function returns a dictionary for the name of the actor as key and the value is the number of appearance\n",
    "def get_actor_appearance(x, cdic):\n",
    "    templist = x.split(', ')\n",
    "    for name in templist:\n",
    "        if name in cdic:\n",
    "            cdic[name] = cdic[name] + 1\n",
    "        else:\n",
    "            cdic[name] = 1\n",
    "    \n",
    "    return cdic\n"
   ]
  },
  {
   "cell_type": "code",
   "execution_count": 302,
   "id": "d916ff8c",
   "metadata": {
    "scrolled": false
   },
   "outputs": [
    {
     "data": {
      "text/plain": [
       "count    36403.000000\n",
       "mean         1.759580\n",
       "std          1.885462\n",
       "min          1.000000\n",
       "25%          1.000000\n",
       "50%          1.000000\n",
       "75%          2.000000\n",
       "max         43.000000\n",
       "dtype: float64"
      ]
     },
     "execution_count": 302,
     "metadata": {},
     "output_type": "execute_result"
    }
   ],
   "source": [
    "# Applying the function and switching the dictionary into a pandas series\n",
    "castdict = {}\n",
    "castdf['cast'].apply(lambda x: get_actor_appearance(x, castdict))\n",
    "castdict = pd.Series(castdict)\n",
    "castdict.describe()"
   ]
  },
  {
   "cell_type": "code",
   "execution_count": 343,
   "id": "d29c0643",
   "metadata": {},
   "outputs": [
    {
     "data": {
      "application/vnd.plotly.v1+json": {
       "config": {
        "plotlyServerURL": "https://plot.ly"
       },
       "data": [
        {
         "alignmentgroup": "True",
         "hovertemplate": "index=%{x}<br>y=%{y}<extra></extra>",
         "legendgroup": "",
         "marker": {
          "color": "red",
          "pattern": {
           "shape": ""
          }
         },
         "name": "",
         "offsetgroup": "",
         "orientation": "v",
         "showlegend": false,
         "textposition": "auto",
         "type": "bar",
         "x": [
          "Anupam Kher",
          "Shah Rukh Khan",
          "Julie Tejwani",
          "Naseeruddin Shah",
          "Takahiro Sakurai",
          "Rupa Bhimani",
          "Akshay Kumar",
          "Om Puri",
          "Yuki Kaji",
          "Amitabh Bachchan",
          "Paresh Rawal",
          "Boman Irani",
          "Rajesh Kava",
          "Vincent Tong",
          "Andrea Libman",
          "Kareena Kapoor",
          "Samuel L. Jackson",
          "John Cleese",
          "Jigna Bhardwaj",
          "Fred Tatasciore",
          "Tara Strong",
          "Daisuke Ono",
          "Junichi Suwabe",
          "Ajay Devgn",
          "Ashleigh Ball"
         ],
         "xaxis": "x",
         "y": [
          43,
          35,
          33,
          32,
          32,
          31,
          30,
          30,
          29,
          28,
          28,
          27,
          26,
          26,
          25,
          25,
          24,
          24,
          23,
          23,
          23,
          22,
          21,
          21,
          21
         ],
         "yaxis": "y"
        }
       ],
       "layout": {
        "barmode": "relative",
        "legend": {
         "tracegroupgap": 0
        },
        "margin": {
         "t": 60
        },
        "template": {
         "data": {
          "bar": [
           {
            "error_x": {
             "color": "#2a3f5f"
            },
            "error_y": {
             "color": "#2a3f5f"
            },
            "marker": {
             "line": {
              "color": "#E5ECF6",
              "width": 0.5
             },
             "pattern": {
              "fillmode": "overlay",
              "size": 10,
              "solidity": 0.2
             }
            },
            "type": "bar"
           }
          ],
          "barpolar": [
           {
            "marker": {
             "line": {
              "color": "#E5ECF6",
              "width": 0.5
             },
             "pattern": {
              "fillmode": "overlay",
              "size": 10,
              "solidity": 0.2
             }
            },
            "type": "barpolar"
           }
          ],
          "carpet": [
           {
            "aaxis": {
             "endlinecolor": "#2a3f5f",
             "gridcolor": "white",
             "linecolor": "white",
             "minorgridcolor": "white",
             "startlinecolor": "#2a3f5f"
            },
            "baxis": {
             "endlinecolor": "#2a3f5f",
             "gridcolor": "white",
             "linecolor": "white",
             "minorgridcolor": "white",
             "startlinecolor": "#2a3f5f"
            },
            "type": "carpet"
           }
          ],
          "choropleth": [
           {
            "colorbar": {
             "outlinewidth": 0,
             "ticks": ""
            },
            "type": "choropleth"
           }
          ],
          "contour": [
           {
            "colorbar": {
             "outlinewidth": 0,
             "ticks": ""
            },
            "colorscale": [
             [
              0,
              "#0d0887"
             ],
             [
              0.1111111111111111,
              "#46039f"
             ],
             [
              0.2222222222222222,
              "#7201a8"
             ],
             [
              0.3333333333333333,
              "#9c179e"
             ],
             [
              0.4444444444444444,
              "#bd3786"
             ],
             [
              0.5555555555555556,
              "#d8576b"
             ],
             [
              0.6666666666666666,
              "#ed7953"
             ],
             [
              0.7777777777777778,
              "#fb9f3a"
             ],
             [
              0.8888888888888888,
              "#fdca26"
             ],
             [
              1,
              "#f0f921"
             ]
            ],
            "type": "contour"
           }
          ],
          "contourcarpet": [
           {
            "colorbar": {
             "outlinewidth": 0,
             "ticks": ""
            },
            "type": "contourcarpet"
           }
          ],
          "heatmap": [
           {
            "colorbar": {
             "outlinewidth": 0,
             "ticks": ""
            },
            "colorscale": [
             [
              0,
              "#0d0887"
             ],
             [
              0.1111111111111111,
              "#46039f"
             ],
             [
              0.2222222222222222,
              "#7201a8"
             ],
             [
              0.3333333333333333,
              "#9c179e"
             ],
             [
              0.4444444444444444,
              "#bd3786"
             ],
             [
              0.5555555555555556,
              "#d8576b"
             ],
             [
              0.6666666666666666,
              "#ed7953"
             ],
             [
              0.7777777777777778,
              "#fb9f3a"
             ],
             [
              0.8888888888888888,
              "#fdca26"
             ],
             [
              1,
              "#f0f921"
             ]
            ],
            "type": "heatmap"
           }
          ],
          "heatmapgl": [
           {
            "colorbar": {
             "outlinewidth": 0,
             "ticks": ""
            },
            "colorscale": [
             [
              0,
              "#0d0887"
             ],
             [
              0.1111111111111111,
              "#46039f"
             ],
             [
              0.2222222222222222,
              "#7201a8"
             ],
             [
              0.3333333333333333,
              "#9c179e"
             ],
             [
              0.4444444444444444,
              "#bd3786"
             ],
             [
              0.5555555555555556,
              "#d8576b"
             ],
             [
              0.6666666666666666,
              "#ed7953"
             ],
             [
              0.7777777777777778,
              "#fb9f3a"
             ],
             [
              0.8888888888888888,
              "#fdca26"
             ],
             [
              1,
              "#f0f921"
             ]
            ],
            "type": "heatmapgl"
           }
          ],
          "histogram": [
           {
            "marker": {
             "pattern": {
              "fillmode": "overlay",
              "size": 10,
              "solidity": 0.2
             }
            },
            "type": "histogram"
           }
          ],
          "histogram2d": [
           {
            "colorbar": {
             "outlinewidth": 0,
             "ticks": ""
            },
            "colorscale": [
             [
              0,
              "#0d0887"
             ],
             [
              0.1111111111111111,
              "#46039f"
             ],
             [
              0.2222222222222222,
              "#7201a8"
             ],
             [
              0.3333333333333333,
              "#9c179e"
             ],
             [
              0.4444444444444444,
              "#bd3786"
             ],
             [
              0.5555555555555556,
              "#d8576b"
             ],
             [
              0.6666666666666666,
              "#ed7953"
             ],
             [
              0.7777777777777778,
              "#fb9f3a"
             ],
             [
              0.8888888888888888,
              "#fdca26"
             ],
             [
              1,
              "#f0f921"
             ]
            ],
            "type": "histogram2d"
           }
          ],
          "histogram2dcontour": [
           {
            "colorbar": {
             "outlinewidth": 0,
             "ticks": ""
            },
            "colorscale": [
             [
              0,
              "#0d0887"
             ],
             [
              0.1111111111111111,
              "#46039f"
             ],
             [
              0.2222222222222222,
              "#7201a8"
             ],
             [
              0.3333333333333333,
              "#9c179e"
             ],
             [
              0.4444444444444444,
              "#bd3786"
             ],
             [
              0.5555555555555556,
              "#d8576b"
             ],
             [
              0.6666666666666666,
              "#ed7953"
             ],
             [
              0.7777777777777778,
              "#fb9f3a"
             ],
             [
              0.8888888888888888,
              "#fdca26"
             ],
             [
              1,
              "#f0f921"
             ]
            ],
            "type": "histogram2dcontour"
           }
          ],
          "mesh3d": [
           {
            "colorbar": {
             "outlinewidth": 0,
             "ticks": ""
            },
            "type": "mesh3d"
           }
          ],
          "parcoords": [
           {
            "line": {
             "colorbar": {
              "outlinewidth": 0,
              "ticks": ""
             }
            },
            "type": "parcoords"
           }
          ],
          "pie": [
           {
            "automargin": true,
            "type": "pie"
           }
          ],
          "scatter": [
           {
            "fillpattern": {
             "fillmode": "overlay",
             "size": 10,
             "solidity": 0.2
            },
            "type": "scatter"
           }
          ],
          "scatter3d": [
           {
            "line": {
             "colorbar": {
              "outlinewidth": 0,
              "ticks": ""
             }
            },
            "marker": {
             "colorbar": {
              "outlinewidth": 0,
              "ticks": ""
             }
            },
            "type": "scatter3d"
           }
          ],
          "scattercarpet": [
           {
            "marker": {
             "colorbar": {
              "outlinewidth": 0,
              "ticks": ""
             }
            },
            "type": "scattercarpet"
           }
          ],
          "scattergeo": [
           {
            "marker": {
             "colorbar": {
              "outlinewidth": 0,
              "ticks": ""
             }
            },
            "type": "scattergeo"
           }
          ],
          "scattergl": [
           {
            "marker": {
             "colorbar": {
              "outlinewidth": 0,
              "ticks": ""
             }
            },
            "type": "scattergl"
           }
          ],
          "scattermapbox": [
           {
            "marker": {
             "colorbar": {
              "outlinewidth": 0,
              "ticks": ""
             }
            },
            "type": "scattermapbox"
           }
          ],
          "scatterpolar": [
           {
            "marker": {
             "colorbar": {
              "outlinewidth": 0,
              "ticks": ""
             }
            },
            "type": "scatterpolar"
           }
          ],
          "scatterpolargl": [
           {
            "marker": {
             "colorbar": {
              "outlinewidth": 0,
              "ticks": ""
             }
            },
            "type": "scatterpolargl"
           }
          ],
          "scatterternary": [
           {
            "marker": {
             "colorbar": {
              "outlinewidth": 0,
              "ticks": ""
             }
            },
            "type": "scatterternary"
           }
          ],
          "surface": [
           {
            "colorbar": {
             "outlinewidth": 0,
             "ticks": ""
            },
            "colorscale": [
             [
              0,
              "#0d0887"
             ],
             [
              0.1111111111111111,
              "#46039f"
             ],
             [
              0.2222222222222222,
              "#7201a8"
             ],
             [
              0.3333333333333333,
              "#9c179e"
             ],
             [
              0.4444444444444444,
              "#bd3786"
             ],
             [
              0.5555555555555556,
              "#d8576b"
             ],
             [
              0.6666666666666666,
              "#ed7953"
             ],
             [
              0.7777777777777778,
              "#fb9f3a"
             ],
             [
              0.8888888888888888,
              "#fdca26"
             ],
             [
              1,
              "#f0f921"
             ]
            ],
            "type": "surface"
           }
          ],
          "table": [
           {
            "cells": {
             "fill": {
              "color": "#EBF0F8"
             },
             "line": {
              "color": "white"
             }
            },
            "header": {
             "fill": {
              "color": "#C8D4E3"
             },
             "line": {
              "color": "white"
             }
            },
            "type": "table"
           }
          ]
         },
         "layout": {
          "annotationdefaults": {
           "arrowcolor": "#2a3f5f",
           "arrowhead": 0,
           "arrowwidth": 1
          },
          "autotypenumbers": "strict",
          "coloraxis": {
           "colorbar": {
            "outlinewidth": 0,
            "ticks": ""
           }
          },
          "colorscale": {
           "diverging": [
            [
             0,
             "#8e0152"
            ],
            [
             0.1,
             "#c51b7d"
            ],
            [
             0.2,
             "#de77ae"
            ],
            [
             0.3,
             "#f1b6da"
            ],
            [
             0.4,
             "#fde0ef"
            ],
            [
             0.5,
             "#f7f7f7"
            ],
            [
             0.6,
             "#e6f5d0"
            ],
            [
             0.7,
             "#b8e186"
            ],
            [
             0.8,
             "#7fbc41"
            ],
            [
             0.9,
             "#4d9221"
            ],
            [
             1,
             "#276419"
            ]
           ],
           "sequential": [
            [
             0,
             "#0d0887"
            ],
            [
             0.1111111111111111,
             "#46039f"
            ],
            [
             0.2222222222222222,
             "#7201a8"
            ],
            [
             0.3333333333333333,
             "#9c179e"
            ],
            [
             0.4444444444444444,
             "#bd3786"
            ],
            [
             0.5555555555555556,
             "#d8576b"
            ],
            [
             0.6666666666666666,
             "#ed7953"
            ],
            [
             0.7777777777777778,
             "#fb9f3a"
            ],
            [
             0.8888888888888888,
             "#fdca26"
            ],
            [
             1,
             "#f0f921"
            ]
           ],
           "sequentialminus": [
            [
             0,
             "#0d0887"
            ],
            [
             0.1111111111111111,
             "#46039f"
            ],
            [
             0.2222222222222222,
             "#7201a8"
            ],
            [
             0.3333333333333333,
             "#9c179e"
            ],
            [
             0.4444444444444444,
             "#bd3786"
            ],
            [
             0.5555555555555556,
             "#d8576b"
            ],
            [
             0.6666666666666666,
             "#ed7953"
            ],
            [
             0.7777777777777778,
             "#fb9f3a"
            ],
            [
             0.8888888888888888,
             "#fdca26"
            ],
            [
             1,
             "#f0f921"
            ]
           ]
          },
          "colorway": [
           "#636efa",
           "#EF553B",
           "#00cc96",
           "#ab63fa",
           "#FFA15A",
           "#19d3f3",
           "#FF6692",
           "#B6E880",
           "#FF97FF",
           "#FECB52"
          ],
          "font": {
           "color": "#2a3f5f"
          },
          "geo": {
           "bgcolor": "white",
           "lakecolor": "white",
           "landcolor": "#E5ECF6",
           "showlakes": true,
           "showland": true,
           "subunitcolor": "white"
          },
          "hoverlabel": {
           "align": "left"
          },
          "hovermode": "closest",
          "mapbox": {
           "style": "light"
          },
          "paper_bgcolor": "white",
          "plot_bgcolor": "#E5ECF6",
          "polar": {
           "angularaxis": {
            "gridcolor": "white",
            "linecolor": "white",
            "ticks": ""
           },
           "bgcolor": "#E5ECF6",
           "radialaxis": {
            "gridcolor": "white",
            "linecolor": "white",
            "ticks": ""
           }
          },
          "scene": {
           "xaxis": {
            "backgroundcolor": "#E5ECF6",
            "gridcolor": "white",
            "gridwidth": 2,
            "linecolor": "white",
            "showbackground": true,
            "ticks": "",
            "zerolinecolor": "white"
           },
           "yaxis": {
            "backgroundcolor": "#E5ECF6",
            "gridcolor": "white",
            "gridwidth": 2,
            "linecolor": "white",
            "showbackground": true,
            "ticks": "",
            "zerolinecolor": "white"
           },
           "zaxis": {
            "backgroundcolor": "#E5ECF6",
            "gridcolor": "white",
            "gridwidth": 2,
            "linecolor": "white",
            "showbackground": true,
            "ticks": "",
            "zerolinecolor": "white"
           }
          },
          "shapedefaults": {
           "line": {
            "color": "#2a3f5f"
           }
          },
          "ternary": {
           "aaxis": {
            "gridcolor": "white",
            "linecolor": "white",
            "ticks": ""
           },
           "baxis": {
            "gridcolor": "white",
            "linecolor": "white",
            "ticks": ""
           },
           "bgcolor": "#E5ECF6",
           "caxis": {
            "gridcolor": "white",
            "linecolor": "white",
            "ticks": ""
           }
          },
          "title": {
           "x": 0.05
          },
          "xaxis": {
           "automargin": true,
           "gridcolor": "white",
           "linecolor": "white",
           "ticks": "",
           "title": {
            "standoff": 15
           },
           "zerolinecolor": "white",
           "zerolinewidth": 2
          },
          "yaxis": {
           "automargin": true,
           "gridcolor": "white",
           "linecolor": "white",
           "ticks": "",
           "title": {
            "standoff": 15
           },
           "zerolinecolor": "white",
           "zerolinewidth": 2
          }
         }
        },
        "title": {
         "text": "Top 25 actors by appearance"
        },
        "xaxis": {
         "anchor": "y",
         "domain": [
          0,
          1
         ],
         "title": {
          "text": "Actor name"
         }
        },
        "yaxis": {
         "anchor": "x",
         "domain": [
          0,
          1
         ],
         "title": {
          "text": "Number of appearances"
         }
        }
       }
      },
      "text/html": [
       "<div>                            <div id=\"f8773304-c174-4f79-9f28-3a7138cf1536\" class=\"plotly-graph-div\" style=\"height:525px; width:100%;\"></div>            <script type=\"text/javascript\">                require([\"plotly\"], function(Plotly) {                    window.PLOTLYENV=window.PLOTLYENV || {};                                    if (document.getElementById(\"f8773304-c174-4f79-9f28-3a7138cf1536\")) {                    Plotly.newPlot(                        \"f8773304-c174-4f79-9f28-3a7138cf1536\",                        [{\"alignmentgroup\":\"True\",\"hovertemplate\":\"index=%{x}<br>y=%{y}<extra></extra>\",\"legendgroup\":\"\",\"marker\":{\"color\":\"red\",\"pattern\":{\"shape\":\"\"}},\"name\":\"\",\"offsetgroup\":\"\",\"orientation\":\"v\",\"showlegend\":false,\"textposition\":\"auto\",\"x\":[\"Anupam Kher\",\"Shah Rukh Khan\",\"Julie Tejwani\",\"Naseeruddin Shah\",\"Takahiro Sakurai\",\"Rupa Bhimani\",\"Akshay Kumar\",\"Om Puri\",\"Yuki Kaji\",\"Amitabh Bachchan\",\"Paresh Rawal\",\"Boman Irani\",\"Rajesh Kava\",\"Vincent Tong\",\"Andrea Libman\",\"Kareena Kapoor\",\"Samuel L. Jackson\",\"John Cleese\",\"Jigna Bhardwaj\",\"Fred Tatasciore\",\"Tara Strong\",\"Daisuke Ono\",\"Junichi Suwabe\",\"Ajay Devgn\",\"Ashleigh Ball\"],\"xaxis\":\"x\",\"y\":[43,35,33,32,32,31,30,30,29,28,28,27,26,26,25,25,24,24,23,23,23,22,21,21,21],\"yaxis\":\"y\",\"type\":\"bar\"}],                        {\"template\":{\"data\":{\"histogram2dcontour\":[{\"type\":\"histogram2dcontour\",\"colorbar\":{\"outlinewidth\":0,\"ticks\":\"\"},\"colorscale\":[[0.0,\"#0d0887\"],[0.1111111111111111,\"#46039f\"],[0.2222222222222222,\"#7201a8\"],[0.3333333333333333,\"#9c179e\"],[0.4444444444444444,\"#bd3786\"],[0.5555555555555556,\"#d8576b\"],[0.6666666666666666,\"#ed7953\"],[0.7777777777777778,\"#fb9f3a\"],[0.8888888888888888,\"#fdca26\"],[1.0,\"#f0f921\"]]}],\"choropleth\":[{\"type\":\"choropleth\",\"colorbar\":{\"outlinewidth\":0,\"ticks\":\"\"}}],\"histogram2d\":[{\"type\":\"histogram2d\",\"colorbar\":{\"outlinewidth\":0,\"ticks\":\"\"},\"colorscale\":[[0.0,\"#0d0887\"],[0.1111111111111111,\"#46039f\"],[0.2222222222222222,\"#7201a8\"],[0.3333333333333333,\"#9c179e\"],[0.4444444444444444,\"#bd3786\"],[0.5555555555555556,\"#d8576b\"],[0.6666666666666666,\"#ed7953\"],[0.7777777777777778,\"#fb9f3a\"],[0.8888888888888888,\"#fdca26\"],[1.0,\"#f0f921\"]]}],\"heatmap\":[{\"type\":\"heatmap\",\"colorbar\":{\"outlinewidth\":0,\"ticks\":\"\"},\"colorscale\":[[0.0,\"#0d0887\"],[0.1111111111111111,\"#46039f\"],[0.2222222222222222,\"#7201a8\"],[0.3333333333333333,\"#9c179e\"],[0.4444444444444444,\"#bd3786\"],[0.5555555555555556,\"#d8576b\"],[0.6666666666666666,\"#ed7953\"],[0.7777777777777778,\"#fb9f3a\"],[0.8888888888888888,\"#fdca26\"],[1.0,\"#f0f921\"]]}],\"heatmapgl\":[{\"type\":\"heatmapgl\",\"colorbar\":{\"outlinewidth\":0,\"ticks\":\"\"},\"colorscale\":[[0.0,\"#0d0887\"],[0.1111111111111111,\"#46039f\"],[0.2222222222222222,\"#7201a8\"],[0.3333333333333333,\"#9c179e\"],[0.4444444444444444,\"#bd3786\"],[0.5555555555555556,\"#d8576b\"],[0.6666666666666666,\"#ed7953\"],[0.7777777777777778,\"#fb9f3a\"],[0.8888888888888888,\"#fdca26\"],[1.0,\"#f0f921\"]]}],\"contourcarpet\":[{\"type\":\"contourcarpet\",\"colorbar\":{\"outlinewidth\":0,\"ticks\":\"\"}}],\"contour\":[{\"type\":\"contour\",\"colorbar\":{\"outlinewidth\":0,\"ticks\":\"\"},\"colorscale\":[[0.0,\"#0d0887\"],[0.1111111111111111,\"#46039f\"],[0.2222222222222222,\"#7201a8\"],[0.3333333333333333,\"#9c179e\"],[0.4444444444444444,\"#bd3786\"],[0.5555555555555556,\"#d8576b\"],[0.6666666666666666,\"#ed7953\"],[0.7777777777777778,\"#fb9f3a\"],[0.8888888888888888,\"#fdca26\"],[1.0,\"#f0f921\"]]}],\"surface\":[{\"type\":\"surface\",\"colorbar\":{\"outlinewidth\":0,\"ticks\":\"\"},\"colorscale\":[[0.0,\"#0d0887\"],[0.1111111111111111,\"#46039f\"],[0.2222222222222222,\"#7201a8\"],[0.3333333333333333,\"#9c179e\"],[0.4444444444444444,\"#bd3786\"],[0.5555555555555556,\"#d8576b\"],[0.6666666666666666,\"#ed7953\"],[0.7777777777777778,\"#fb9f3a\"],[0.8888888888888888,\"#fdca26\"],[1.0,\"#f0f921\"]]}],\"mesh3d\":[{\"type\":\"mesh3d\",\"colorbar\":{\"outlinewidth\":0,\"ticks\":\"\"}}],\"scatter\":[{\"fillpattern\":{\"fillmode\":\"overlay\",\"size\":10,\"solidity\":0.2},\"type\":\"scatter\"}],\"parcoords\":[{\"type\":\"parcoords\",\"line\":{\"colorbar\":{\"outlinewidth\":0,\"ticks\":\"\"}}}],\"scatterpolargl\":[{\"type\":\"scatterpolargl\",\"marker\":{\"colorbar\":{\"outlinewidth\":0,\"ticks\":\"\"}}}],\"bar\":[{\"error_x\":{\"color\":\"#2a3f5f\"},\"error_y\":{\"color\":\"#2a3f5f\"},\"marker\":{\"line\":{\"color\":\"#E5ECF6\",\"width\":0.5},\"pattern\":{\"fillmode\":\"overlay\",\"size\":10,\"solidity\":0.2}},\"type\":\"bar\"}],\"scattergeo\":[{\"type\":\"scattergeo\",\"marker\":{\"colorbar\":{\"outlinewidth\":0,\"ticks\":\"\"}}}],\"scatterpolar\":[{\"type\":\"scatterpolar\",\"marker\":{\"colorbar\":{\"outlinewidth\":0,\"ticks\":\"\"}}}],\"histogram\":[{\"marker\":{\"pattern\":{\"fillmode\":\"overlay\",\"size\":10,\"solidity\":0.2}},\"type\":\"histogram\"}],\"scattergl\":[{\"type\":\"scattergl\",\"marker\":{\"colorbar\":{\"outlinewidth\":0,\"ticks\":\"\"}}}],\"scatter3d\":[{\"type\":\"scatter3d\",\"line\":{\"colorbar\":{\"outlinewidth\":0,\"ticks\":\"\"}},\"marker\":{\"colorbar\":{\"outlinewidth\":0,\"ticks\":\"\"}}}],\"scattermapbox\":[{\"type\":\"scattermapbox\",\"marker\":{\"colorbar\":{\"outlinewidth\":0,\"ticks\":\"\"}}}],\"scatterternary\":[{\"type\":\"scatterternary\",\"marker\":{\"colorbar\":{\"outlinewidth\":0,\"ticks\":\"\"}}}],\"scattercarpet\":[{\"type\":\"scattercarpet\",\"marker\":{\"colorbar\":{\"outlinewidth\":0,\"ticks\":\"\"}}}],\"carpet\":[{\"aaxis\":{\"endlinecolor\":\"#2a3f5f\",\"gridcolor\":\"white\",\"linecolor\":\"white\",\"minorgridcolor\":\"white\",\"startlinecolor\":\"#2a3f5f\"},\"baxis\":{\"endlinecolor\":\"#2a3f5f\",\"gridcolor\":\"white\",\"linecolor\":\"white\",\"minorgridcolor\":\"white\",\"startlinecolor\":\"#2a3f5f\"},\"type\":\"carpet\"}],\"table\":[{\"cells\":{\"fill\":{\"color\":\"#EBF0F8\"},\"line\":{\"color\":\"white\"}},\"header\":{\"fill\":{\"color\":\"#C8D4E3\"},\"line\":{\"color\":\"white\"}},\"type\":\"table\"}],\"barpolar\":[{\"marker\":{\"line\":{\"color\":\"#E5ECF6\",\"width\":0.5},\"pattern\":{\"fillmode\":\"overlay\",\"size\":10,\"solidity\":0.2}},\"type\":\"barpolar\"}],\"pie\":[{\"automargin\":true,\"type\":\"pie\"}]},\"layout\":{\"autotypenumbers\":\"strict\",\"colorway\":[\"#636efa\",\"#EF553B\",\"#00cc96\",\"#ab63fa\",\"#FFA15A\",\"#19d3f3\",\"#FF6692\",\"#B6E880\",\"#FF97FF\",\"#FECB52\"],\"font\":{\"color\":\"#2a3f5f\"},\"hovermode\":\"closest\",\"hoverlabel\":{\"align\":\"left\"},\"paper_bgcolor\":\"white\",\"plot_bgcolor\":\"#E5ECF6\",\"polar\":{\"bgcolor\":\"#E5ECF6\",\"angularaxis\":{\"gridcolor\":\"white\",\"linecolor\":\"white\",\"ticks\":\"\"},\"radialaxis\":{\"gridcolor\":\"white\",\"linecolor\":\"white\",\"ticks\":\"\"}},\"ternary\":{\"bgcolor\":\"#E5ECF6\",\"aaxis\":{\"gridcolor\":\"white\",\"linecolor\":\"white\",\"ticks\":\"\"},\"baxis\":{\"gridcolor\":\"white\",\"linecolor\":\"white\",\"ticks\":\"\"},\"caxis\":{\"gridcolor\":\"white\",\"linecolor\":\"white\",\"ticks\":\"\"}},\"coloraxis\":{\"colorbar\":{\"outlinewidth\":0,\"ticks\":\"\"}},\"colorscale\":{\"sequential\":[[0.0,\"#0d0887\"],[0.1111111111111111,\"#46039f\"],[0.2222222222222222,\"#7201a8\"],[0.3333333333333333,\"#9c179e\"],[0.4444444444444444,\"#bd3786\"],[0.5555555555555556,\"#d8576b\"],[0.6666666666666666,\"#ed7953\"],[0.7777777777777778,\"#fb9f3a\"],[0.8888888888888888,\"#fdca26\"],[1.0,\"#f0f921\"]],\"sequentialminus\":[[0.0,\"#0d0887\"],[0.1111111111111111,\"#46039f\"],[0.2222222222222222,\"#7201a8\"],[0.3333333333333333,\"#9c179e\"],[0.4444444444444444,\"#bd3786\"],[0.5555555555555556,\"#d8576b\"],[0.6666666666666666,\"#ed7953\"],[0.7777777777777778,\"#fb9f3a\"],[0.8888888888888888,\"#fdca26\"],[1.0,\"#f0f921\"]],\"diverging\":[[0,\"#8e0152\"],[0.1,\"#c51b7d\"],[0.2,\"#de77ae\"],[0.3,\"#f1b6da\"],[0.4,\"#fde0ef\"],[0.5,\"#f7f7f7\"],[0.6,\"#e6f5d0\"],[0.7,\"#b8e186\"],[0.8,\"#7fbc41\"],[0.9,\"#4d9221\"],[1,\"#276419\"]]},\"xaxis\":{\"gridcolor\":\"white\",\"linecolor\":\"white\",\"ticks\":\"\",\"title\":{\"standoff\":15},\"zerolinecolor\":\"white\",\"automargin\":true,\"zerolinewidth\":2},\"yaxis\":{\"gridcolor\":\"white\",\"linecolor\":\"white\",\"ticks\":\"\",\"title\":{\"standoff\":15},\"zerolinecolor\":\"white\",\"automargin\":true,\"zerolinewidth\":2},\"scene\":{\"xaxis\":{\"backgroundcolor\":\"#E5ECF6\",\"gridcolor\":\"white\",\"linecolor\":\"white\",\"showbackground\":true,\"ticks\":\"\",\"zerolinecolor\":\"white\",\"gridwidth\":2},\"yaxis\":{\"backgroundcolor\":\"#E5ECF6\",\"gridcolor\":\"white\",\"linecolor\":\"white\",\"showbackground\":true,\"ticks\":\"\",\"zerolinecolor\":\"white\",\"gridwidth\":2},\"zaxis\":{\"backgroundcolor\":\"#E5ECF6\",\"gridcolor\":\"white\",\"linecolor\":\"white\",\"showbackground\":true,\"ticks\":\"\",\"zerolinecolor\":\"white\",\"gridwidth\":2}},\"shapedefaults\":{\"line\":{\"color\":\"#2a3f5f\"}},\"annotationdefaults\":{\"arrowcolor\":\"#2a3f5f\",\"arrowhead\":0,\"arrowwidth\":1},\"geo\":{\"bgcolor\":\"white\",\"landcolor\":\"#E5ECF6\",\"subunitcolor\":\"white\",\"showland\":true,\"showlakes\":true,\"lakecolor\":\"white\"},\"title\":{\"x\":0.05},\"mapbox\":{\"style\":\"light\"}}},\"xaxis\":{\"anchor\":\"y\",\"domain\":[0.0,1.0],\"title\":{\"text\":\"Actor name\"}},\"yaxis\":{\"anchor\":\"x\",\"domain\":[0.0,1.0],\"title\":{\"text\":\"Number of appearances\"}},\"legend\":{\"tracegroupgap\":0},\"margin\":{\"t\":60},\"barmode\":\"relative\",\"title\":{\"text\":\"Top 25 actors by appearance\"}},                        {\"responsive\": true}                    ).then(function(){\n",
       "                            \n",
       "var gd = document.getElementById('f8773304-c174-4f79-9f28-3a7138cf1536');\n",
       "var x = new MutationObserver(function (mutations, observer) {{\n",
       "        var display = window.getComputedStyle(gd).display;\n",
       "        if (!display || display === 'none') {{\n",
       "            console.log([gd, 'removed!']);\n",
       "            Plotly.purge(gd);\n",
       "            observer.disconnect();\n",
       "        }}\n",
       "}});\n",
       "\n",
       "// Listen for the removal of the full notebook cells\n",
       "var notebookContainer = gd.closest('#notebook-container');\n",
       "if (notebookContainer) {{\n",
       "    x.observe(notebookContainer, {childList: true});\n",
       "}}\n",
       "\n",
       "// Listen for the clearing of the current output cell\n",
       "var outputEl = gd.closest('.output');\n",
       "if (outputEl) {{\n",
       "    x.observe(outputEl, {childList: true});\n",
       "}}\n",
       "\n",
       "                        })                };                });            </script>        </div>"
      ]
     },
     "metadata": {},
     "output_type": "display_data"
    }
   ],
   "source": [
    "# Taking the top 25 actor appearances and plotting the graph\n",
    "castdictsample = castdict.nlargest(25)\n",
    "plot = px.bar(castdictsample, x=castdictsample.index, y=castdictsample.values)\n",
    "plot.update_layout(title = 'Top 25 actors by appearance', xaxis_title= 'Actor name', yaxis=dict(title='Number of appearances'))\n",
    "plot.update_traces(marker_color='red')\n",
    "plot.show()"
   ]
  },
  {
   "cell_type": "markdown",
   "id": "df32ffe3",
   "metadata": {},
   "source": [
    "# Pie chart for the movie & TV shows rating"
   ]
  },
  {
   "cell_type": "code",
   "execution_count": 359,
   "id": "6b406720",
   "metadata": {},
   "outputs": [
    {
     "data": {
      "application/vnd.plotly.v1+json": {
       "config": {
        "plotlyServerURL": "https://plot.ly"
       },
       "data": [
        {
         "domain": {
          "x": [
           0,
           1
          ],
          "y": [
           0,
           1
          ]
         },
         "hovertemplate": "label=%{label}<br>value=%{value}<extra></extra>",
         "labels": [
          "TV-MA",
          "TV-14",
          "TV-PG",
          "R",
          "PG-13",
          "TV-Y7",
          "TV-Y",
          "PG",
          "TV-G",
          "NR",
          "G",
          "TV-Y7-FV",
          "NC-17",
          "UR"
         ],
         "legendgroup": "",
         "name": "",
         "showlegend": true,
         "text": [
          "TV-MA",
          "TV-14",
          "TV-PG",
          "R",
          "PG-13",
          "TV-Y7",
          "TV-Y",
          "PG",
          "TV-G",
          "NR",
          "G",
          "TV-Y7-FV",
          "NC-17",
          "UR"
         ],
         "type": "pie",
         "values": [
          3209,
          2157,
          861,
          799,
          490,
          333,
          306,
          287,
          220,
          79,
          41,
          6,
          3,
          3
         ]
        }
       ],
       "layout": {
        "legend": {
         "tracegroupgap": 0
        },
        "margin": {
         "t": 60
        },
        "template": {
         "data": {
          "bar": [
           {
            "error_x": {
             "color": "#2a3f5f"
            },
            "error_y": {
             "color": "#2a3f5f"
            },
            "marker": {
             "line": {
              "color": "#E5ECF6",
              "width": 0.5
             },
             "pattern": {
              "fillmode": "overlay",
              "size": 10,
              "solidity": 0.2
             }
            },
            "type": "bar"
           }
          ],
          "barpolar": [
           {
            "marker": {
             "line": {
              "color": "#E5ECF6",
              "width": 0.5
             },
             "pattern": {
              "fillmode": "overlay",
              "size": 10,
              "solidity": 0.2
             }
            },
            "type": "barpolar"
           }
          ],
          "carpet": [
           {
            "aaxis": {
             "endlinecolor": "#2a3f5f",
             "gridcolor": "white",
             "linecolor": "white",
             "minorgridcolor": "white",
             "startlinecolor": "#2a3f5f"
            },
            "baxis": {
             "endlinecolor": "#2a3f5f",
             "gridcolor": "white",
             "linecolor": "white",
             "minorgridcolor": "white",
             "startlinecolor": "#2a3f5f"
            },
            "type": "carpet"
           }
          ],
          "choropleth": [
           {
            "colorbar": {
             "outlinewidth": 0,
             "ticks": ""
            },
            "type": "choropleth"
           }
          ],
          "contour": [
           {
            "colorbar": {
             "outlinewidth": 0,
             "ticks": ""
            },
            "colorscale": [
             [
              0,
              "#0d0887"
             ],
             [
              0.1111111111111111,
              "#46039f"
             ],
             [
              0.2222222222222222,
              "#7201a8"
             ],
             [
              0.3333333333333333,
              "#9c179e"
             ],
             [
              0.4444444444444444,
              "#bd3786"
             ],
             [
              0.5555555555555556,
              "#d8576b"
             ],
             [
              0.6666666666666666,
              "#ed7953"
             ],
             [
              0.7777777777777778,
              "#fb9f3a"
             ],
             [
              0.8888888888888888,
              "#fdca26"
             ],
             [
              1,
              "#f0f921"
             ]
            ],
            "type": "contour"
           }
          ],
          "contourcarpet": [
           {
            "colorbar": {
             "outlinewidth": 0,
             "ticks": ""
            },
            "type": "contourcarpet"
           }
          ],
          "heatmap": [
           {
            "colorbar": {
             "outlinewidth": 0,
             "ticks": ""
            },
            "colorscale": [
             [
              0,
              "#0d0887"
             ],
             [
              0.1111111111111111,
              "#46039f"
             ],
             [
              0.2222222222222222,
              "#7201a8"
             ],
             [
              0.3333333333333333,
              "#9c179e"
             ],
             [
              0.4444444444444444,
              "#bd3786"
             ],
             [
              0.5555555555555556,
              "#d8576b"
             ],
             [
              0.6666666666666666,
              "#ed7953"
             ],
             [
              0.7777777777777778,
              "#fb9f3a"
             ],
             [
              0.8888888888888888,
              "#fdca26"
             ],
             [
              1,
              "#f0f921"
             ]
            ],
            "type": "heatmap"
           }
          ],
          "heatmapgl": [
           {
            "colorbar": {
             "outlinewidth": 0,
             "ticks": ""
            },
            "colorscale": [
             [
              0,
              "#0d0887"
             ],
             [
              0.1111111111111111,
              "#46039f"
             ],
             [
              0.2222222222222222,
              "#7201a8"
             ],
             [
              0.3333333333333333,
              "#9c179e"
             ],
             [
              0.4444444444444444,
              "#bd3786"
             ],
             [
              0.5555555555555556,
              "#d8576b"
             ],
             [
              0.6666666666666666,
              "#ed7953"
             ],
             [
              0.7777777777777778,
              "#fb9f3a"
             ],
             [
              0.8888888888888888,
              "#fdca26"
             ],
             [
              1,
              "#f0f921"
             ]
            ],
            "type": "heatmapgl"
           }
          ],
          "histogram": [
           {
            "marker": {
             "pattern": {
              "fillmode": "overlay",
              "size": 10,
              "solidity": 0.2
             }
            },
            "type": "histogram"
           }
          ],
          "histogram2d": [
           {
            "colorbar": {
             "outlinewidth": 0,
             "ticks": ""
            },
            "colorscale": [
             [
              0,
              "#0d0887"
             ],
             [
              0.1111111111111111,
              "#46039f"
             ],
             [
              0.2222222222222222,
              "#7201a8"
             ],
             [
              0.3333333333333333,
              "#9c179e"
             ],
             [
              0.4444444444444444,
              "#bd3786"
             ],
             [
              0.5555555555555556,
              "#d8576b"
             ],
             [
              0.6666666666666666,
              "#ed7953"
             ],
             [
              0.7777777777777778,
              "#fb9f3a"
             ],
             [
              0.8888888888888888,
              "#fdca26"
             ],
             [
              1,
              "#f0f921"
             ]
            ],
            "type": "histogram2d"
           }
          ],
          "histogram2dcontour": [
           {
            "colorbar": {
             "outlinewidth": 0,
             "ticks": ""
            },
            "colorscale": [
             [
              0,
              "#0d0887"
             ],
             [
              0.1111111111111111,
              "#46039f"
             ],
             [
              0.2222222222222222,
              "#7201a8"
             ],
             [
              0.3333333333333333,
              "#9c179e"
             ],
             [
              0.4444444444444444,
              "#bd3786"
             ],
             [
              0.5555555555555556,
              "#d8576b"
             ],
             [
              0.6666666666666666,
              "#ed7953"
             ],
             [
              0.7777777777777778,
              "#fb9f3a"
             ],
             [
              0.8888888888888888,
              "#fdca26"
             ],
             [
              1,
              "#f0f921"
             ]
            ],
            "type": "histogram2dcontour"
           }
          ],
          "mesh3d": [
           {
            "colorbar": {
             "outlinewidth": 0,
             "ticks": ""
            },
            "type": "mesh3d"
           }
          ],
          "parcoords": [
           {
            "line": {
             "colorbar": {
              "outlinewidth": 0,
              "ticks": ""
             }
            },
            "type": "parcoords"
           }
          ],
          "pie": [
           {
            "automargin": true,
            "type": "pie"
           }
          ],
          "scatter": [
           {
            "fillpattern": {
             "fillmode": "overlay",
             "size": 10,
             "solidity": 0.2
            },
            "type": "scatter"
           }
          ],
          "scatter3d": [
           {
            "line": {
             "colorbar": {
              "outlinewidth": 0,
              "ticks": ""
             }
            },
            "marker": {
             "colorbar": {
              "outlinewidth": 0,
              "ticks": ""
             }
            },
            "type": "scatter3d"
           }
          ],
          "scattercarpet": [
           {
            "marker": {
             "colorbar": {
              "outlinewidth": 0,
              "ticks": ""
             }
            },
            "type": "scattercarpet"
           }
          ],
          "scattergeo": [
           {
            "marker": {
             "colorbar": {
              "outlinewidth": 0,
              "ticks": ""
             }
            },
            "type": "scattergeo"
           }
          ],
          "scattergl": [
           {
            "marker": {
             "colorbar": {
              "outlinewidth": 0,
              "ticks": ""
             }
            },
            "type": "scattergl"
           }
          ],
          "scattermapbox": [
           {
            "marker": {
             "colorbar": {
              "outlinewidth": 0,
              "ticks": ""
             }
            },
            "type": "scattermapbox"
           }
          ],
          "scatterpolar": [
           {
            "marker": {
             "colorbar": {
              "outlinewidth": 0,
              "ticks": ""
             }
            },
            "type": "scatterpolar"
           }
          ],
          "scatterpolargl": [
           {
            "marker": {
             "colorbar": {
              "outlinewidth": 0,
              "ticks": ""
             }
            },
            "type": "scatterpolargl"
           }
          ],
          "scatterternary": [
           {
            "marker": {
             "colorbar": {
              "outlinewidth": 0,
              "ticks": ""
             }
            },
            "type": "scatterternary"
           }
          ],
          "surface": [
           {
            "colorbar": {
             "outlinewidth": 0,
             "ticks": ""
            },
            "colorscale": [
             [
              0,
              "#0d0887"
             ],
             [
              0.1111111111111111,
              "#46039f"
             ],
             [
              0.2222222222222222,
              "#7201a8"
             ],
             [
              0.3333333333333333,
              "#9c179e"
             ],
             [
              0.4444444444444444,
              "#bd3786"
             ],
             [
              0.5555555555555556,
              "#d8576b"
             ],
             [
              0.6666666666666666,
              "#ed7953"
             ],
             [
              0.7777777777777778,
              "#fb9f3a"
             ],
             [
              0.8888888888888888,
              "#fdca26"
             ],
             [
              1,
              "#f0f921"
             ]
            ],
            "type": "surface"
           }
          ],
          "table": [
           {
            "cells": {
             "fill": {
              "color": "#EBF0F8"
             },
             "line": {
              "color": "white"
             }
            },
            "header": {
             "fill": {
              "color": "#C8D4E3"
             },
             "line": {
              "color": "white"
             }
            },
            "type": "table"
           }
          ]
         },
         "layout": {
          "annotationdefaults": {
           "arrowcolor": "#2a3f5f",
           "arrowhead": 0,
           "arrowwidth": 1
          },
          "autotypenumbers": "strict",
          "coloraxis": {
           "colorbar": {
            "outlinewidth": 0,
            "ticks": ""
           }
          },
          "colorscale": {
           "diverging": [
            [
             0,
             "#8e0152"
            ],
            [
             0.1,
             "#c51b7d"
            ],
            [
             0.2,
             "#de77ae"
            ],
            [
             0.3,
             "#f1b6da"
            ],
            [
             0.4,
             "#fde0ef"
            ],
            [
             0.5,
             "#f7f7f7"
            ],
            [
             0.6,
             "#e6f5d0"
            ],
            [
             0.7,
             "#b8e186"
            ],
            [
             0.8,
             "#7fbc41"
            ],
            [
             0.9,
             "#4d9221"
            ],
            [
             1,
             "#276419"
            ]
           ],
           "sequential": [
            [
             0,
             "#0d0887"
            ],
            [
             0.1111111111111111,
             "#46039f"
            ],
            [
             0.2222222222222222,
             "#7201a8"
            ],
            [
             0.3333333333333333,
             "#9c179e"
            ],
            [
             0.4444444444444444,
             "#bd3786"
            ],
            [
             0.5555555555555556,
             "#d8576b"
            ],
            [
             0.6666666666666666,
             "#ed7953"
            ],
            [
             0.7777777777777778,
             "#fb9f3a"
            ],
            [
             0.8888888888888888,
             "#fdca26"
            ],
            [
             1,
             "#f0f921"
            ]
           ],
           "sequentialminus": [
            [
             0,
             "#0d0887"
            ],
            [
             0.1111111111111111,
             "#46039f"
            ],
            [
             0.2222222222222222,
             "#7201a8"
            ],
            [
             0.3333333333333333,
             "#9c179e"
            ],
            [
             0.4444444444444444,
             "#bd3786"
            ],
            [
             0.5555555555555556,
             "#d8576b"
            ],
            [
             0.6666666666666666,
             "#ed7953"
            ],
            [
             0.7777777777777778,
             "#fb9f3a"
            ],
            [
             0.8888888888888888,
             "#fdca26"
            ],
            [
             1,
             "#f0f921"
            ]
           ]
          },
          "colorway": [
           "#636efa",
           "#EF553B",
           "#00cc96",
           "#ab63fa",
           "#FFA15A",
           "#19d3f3",
           "#FF6692",
           "#B6E880",
           "#FF97FF",
           "#FECB52"
          ],
          "font": {
           "color": "#2a3f5f"
          },
          "geo": {
           "bgcolor": "white",
           "lakecolor": "white",
           "landcolor": "#E5ECF6",
           "showlakes": true,
           "showland": true,
           "subunitcolor": "white"
          },
          "hoverlabel": {
           "align": "left"
          },
          "hovermode": "closest",
          "mapbox": {
           "style": "light"
          },
          "paper_bgcolor": "white",
          "plot_bgcolor": "#E5ECF6",
          "polar": {
           "angularaxis": {
            "gridcolor": "white",
            "linecolor": "white",
            "ticks": ""
           },
           "bgcolor": "#E5ECF6",
           "radialaxis": {
            "gridcolor": "white",
            "linecolor": "white",
            "ticks": ""
           }
          },
          "scene": {
           "xaxis": {
            "backgroundcolor": "#E5ECF6",
            "gridcolor": "white",
            "gridwidth": 2,
            "linecolor": "white",
            "showbackground": true,
            "ticks": "",
            "zerolinecolor": "white"
           },
           "yaxis": {
            "backgroundcolor": "#E5ECF6",
            "gridcolor": "white",
            "gridwidth": 2,
            "linecolor": "white",
            "showbackground": true,
            "ticks": "",
            "zerolinecolor": "white"
           },
           "zaxis": {
            "backgroundcolor": "#E5ECF6",
            "gridcolor": "white",
            "gridwidth": 2,
            "linecolor": "white",
            "showbackground": true,
            "ticks": "",
            "zerolinecolor": "white"
           }
          },
          "shapedefaults": {
           "line": {
            "color": "#2a3f5f"
           }
          },
          "ternary": {
           "aaxis": {
            "gridcolor": "white",
            "linecolor": "white",
            "ticks": ""
           },
           "baxis": {
            "gridcolor": "white",
            "linecolor": "white",
            "ticks": ""
           },
           "bgcolor": "#E5ECF6",
           "caxis": {
            "gridcolor": "white",
            "linecolor": "white",
            "ticks": ""
           }
          },
          "title": {
           "x": 0.05
          },
          "xaxis": {
           "automargin": true,
           "gridcolor": "white",
           "linecolor": "white",
           "ticks": "",
           "title": {
            "standoff": 15
           },
           "zerolinecolor": "white",
           "zerolinewidth": 2
          },
          "yaxis": {
           "automargin": true,
           "gridcolor": "white",
           "linecolor": "white",
           "ticks": "",
           "title": {
            "standoff": 15
           },
           "zerolinecolor": "white",
           "zerolinewidth": 2
          }
         }
        }
       }
      },
      "text/html": [
       "<div>                            <div id=\"11d068b3-76ec-4d9e-ad16-9176909ee6fd\" class=\"plotly-graph-div\" style=\"height:525px; width:100%;\"></div>            <script type=\"text/javascript\">                require([\"plotly\"], function(Plotly) {                    window.PLOTLYENV=window.PLOTLYENV || {};                                    if (document.getElementById(\"11d068b3-76ec-4d9e-ad16-9176909ee6fd\")) {                    Plotly.newPlot(                        \"11d068b3-76ec-4d9e-ad16-9176909ee6fd\",                        [{\"domain\":{\"x\":[0.0,1.0],\"y\":[0.0,1.0]},\"hovertemplate\":\"label=%{label}<br>value=%{value}<extra></extra>\",\"labels\":[\"TV-MA\",\"TV-14\",\"TV-PG\",\"R\",\"PG-13\",\"TV-Y7\",\"TV-Y\",\"PG\",\"TV-G\",\"NR\",\"G\",\"TV-Y7-FV\",\"NC-17\",\"UR\"],\"legendgroup\":\"\",\"name\":\"\",\"showlegend\":true,\"values\":[3209,2157,861,799,490,333,306,287,220,79,41,6,3,3],\"type\":\"pie\",\"text\":[\"TV-MA\",\"TV-14\",\"TV-PG\",\"R\",\"PG-13\",\"TV-Y7\",\"TV-Y\",\"PG\",\"TV-G\",\"NR\",\"G\",\"TV-Y7-FV\",\"NC-17\",\"UR\"]}],                        {\"template\":{\"data\":{\"histogram2dcontour\":[{\"type\":\"histogram2dcontour\",\"colorbar\":{\"outlinewidth\":0,\"ticks\":\"\"},\"colorscale\":[[0.0,\"#0d0887\"],[0.1111111111111111,\"#46039f\"],[0.2222222222222222,\"#7201a8\"],[0.3333333333333333,\"#9c179e\"],[0.4444444444444444,\"#bd3786\"],[0.5555555555555556,\"#d8576b\"],[0.6666666666666666,\"#ed7953\"],[0.7777777777777778,\"#fb9f3a\"],[0.8888888888888888,\"#fdca26\"],[1.0,\"#f0f921\"]]}],\"choropleth\":[{\"type\":\"choropleth\",\"colorbar\":{\"outlinewidth\":0,\"ticks\":\"\"}}],\"histogram2d\":[{\"type\":\"histogram2d\",\"colorbar\":{\"outlinewidth\":0,\"ticks\":\"\"},\"colorscale\":[[0.0,\"#0d0887\"],[0.1111111111111111,\"#46039f\"],[0.2222222222222222,\"#7201a8\"],[0.3333333333333333,\"#9c179e\"],[0.4444444444444444,\"#bd3786\"],[0.5555555555555556,\"#d8576b\"],[0.6666666666666666,\"#ed7953\"],[0.7777777777777778,\"#fb9f3a\"],[0.8888888888888888,\"#fdca26\"],[1.0,\"#f0f921\"]]}],\"heatmap\":[{\"type\":\"heatmap\",\"colorbar\":{\"outlinewidth\":0,\"ticks\":\"\"},\"colorscale\":[[0.0,\"#0d0887\"],[0.1111111111111111,\"#46039f\"],[0.2222222222222222,\"#7201a8\"],[0.3333333333333333,\"#9c179e\"],[0.4444444444444444,\"#bd3786\"],[0.5555555555555556,\"#d8576b\"],[0.6666666666666666,\"#ed7953\"],[0.7777777777777778,\"#fb9f3a\"],[0.8888888888888888,\"#fdca26\"],[1.0,\"#f0f921\"]]}],\"heatmapgl\":[{\"type\":\"heatmapgl\",\"colorbar\":{\"outlinewidth\":0,\"ticks\":\"\"},\"colorscale\":[[0.0,\"#0d0887\"],[0.1111111111111111,\"#46039f\"],[0.2222222222222222,\"#7201a8\"],[0.3333333333333333,\"#9c179e\"],[0.4444444444444444,\"#bd3786\"],[0.5555555555555556,\"#d8576b\"],[0.6666666666666666,\"#ed7953\"],[0.7777777777777778,\"#fb9f3a\"],[0.8888888888888888,\"#fdca26\"],[1.0,\"#f0f921\"]]}],\"contourcarpet\":[{\"type\":\"contourcarpet\",\"colorbar\":{\"outlinewidth\":0,\"ticks\":\"\"}}],\"contour\":[{\"type\":\"contour\",\"colorbar\":{\"outlinewidth\":0,\"ticks\":\"\"},\"colorscale\":[[0.0,\"#0d0887\"],[0.1111111111111111,\"#46039f\"],[0.2222222222222222,\"#7201a8\"],[0.3333333333333333,\"#9c179e\"],[0.4444444444444444,\"#bd3786\"],[0.5555555555555556,\"#d8576b\"],[0.6666666666666666,\"#ed7953\"],[0.7777777777777778,\"#fb9f3a\"],[0.8888888888888888,\"#fdca26\"],[1.0,\"#f0f921\"]]}],\"surface\":[{\"type\":\"surface\",\"colorbar\":{\"outlinewidth\":0,\"ticks\":\"\"},\"colorscale\":[[0.0,\"#0d0887\"],[0.1111111111111111,\"#46039f\"],[0.2222222222222222,\"#7201a8\"],[0.3333333333333333,\"#9c179e\"],[0.4444444444444444,\"#bd3786\"],[0.5555555555555556,\"#d8576b\"],[0.6666666666666666,\"#ed7953\"],[0.7777777777777778,\"#fb9f3a\"],[0.8888888888888888,\"#fdca26\"],[1.0,\"#f0f921\"]]}],\"mesh3d\":[{\"type\":\"mesh3d\",\"colorbar\":{\"outlinewidth\":0,\"ticks\":\"\"}}],\"scatter\":[{\"fillpattern\":{\"fillmode\":\"overlay\",\"size\":10,\"solidity\":0.2},\"type\":\"scatter\"}],\"parcoords\":[{\"type\":\"parcoords\",\"line\":{\"colorbar\":{\"outlinewidth\":0,\"ticks\":\"\"}}}],\"scatterpolargl\":[{\"type\":\"scatterpolargl\",\"marker\":{\"colorbar\":{\"outlinewidth\":0,\"ticks\":\"\"}}}],\"bar\":[{\"error_x\":{\"color\":\"#2a3f5f\"},\"error_y\":{\"color\":\"#2a3f5f\"},\"marker\":{\"line\":{\"color\":\"#E5ECF6\",\"width\":0.5},\"pattern\":{\"fillmode\":\"overlay\",\"size\":10,\"solidity\":0.2}},\"type\":\"bar\"}],\"scattergeo\":[{\"type\":\"scattergeo\",\"marker\":{\"colorbar\":{\"outlinewidth\":0,\"ticks\":\"\"}}}],\"scatterpolar\":[{\"type\":\"scatterpolar\",\"marker\":{\"colorbar\":{\"outlinewidth\":0,\"ticks\":\"\"}}}],\"histogram\":[{\"marker\":{\"pattern\":{\"fillmode\":\"overlay\",\"size\":10,\"solidity\":0.2}},\"type\":\"histogram\"}],\"scattergl\":[{\"type\":\"scattergl\",\"marker\":{\"colorbar\":{\"outlinewidth\":0,\"ticks\":\"\"}}}],\"scatter3d\":[{\"type\":\"scatter3d\",\"line\":{\"colorbar\":{\"outlinewidth\":0,\"ticks\":\"\"}},\"marker\":{\"colorbar\":{\"outlinewidth\":0,\"ticks\":\"\"}}}],\"scattermapbox\":[{\"type\":\"scattermapbox\",\"marker\":{\"colorbar\":{\"outlinewidth\":0,\"ticks\":\"\"}}}],\"scatterternary\":[{\"type\":\"scatterternary\",\"marker\":{\"colorbar\":{\"outlinewidth\":0,\"ticks\":\"\"}}}],\"scattercarpet\":[{\"type\":\"scattercarpet\",\"marker\":{\"colorbar\":{\"outlinewidth\":0,\"ticks\":\"\"}}}],\"carpet\":[{\"aaxis\":{\"endlinecolor\":\"#2a3f5f\",\"gridcolor\":\"white\",\"linecolor\":\"white\",\"minorgridcolor\":\"white\",\"startlinecolor\":\"#2a3f5f\"},\"baxis\":{\"endlinecolor\":\"#2a3f5f\",\"gridcolor\":\"white\",\"linecolor\":\"white\",\"minorgridcolor\":\"white\",\"startlinecolor\":\"#2a3f5f\"},\"type\":\"carpet\"}],\"table\":[{\"cells\":{\"fill\":{\"color\":\"#EBF0F8\"},\"line\":{\"color\":\"white\"}},\"header\":{\"fill\":{\"color\":\"#C8D4E3\"},\"line\":{\"color\":\"white\"}},\"type\":\"table\"}],\"barpolar\":[{\"marker\":{\"line\":{\"color\":\"#E5ECF6\",\"width\":0.5},\"pattern\":{\"fillmode\":\"overlay\",\"size\":10,\"solidity\":0.2}},\"type\":\"barpolar\"}],\"pie\":[{\"automargin\":true,\"type\":\"pie\"}]},\"layout\":{\"autotypenumbers\":\"strict\",\"colorway\":[\"#636efa\",\"#EF553B\",\"#00cc96\",\"#ab63fa\",\"#FFA15A\",\"#19d3f3\",\"#FF6692\",\"#B6E880\",\"#FF97FF\",\"#FECB52\"],\"font\":{\"color\":\"#2a3f5f\"},\"hovermode\":\"closest\",\"hoverlabel\":{\"align\":\"left\"},\"paper_bgcolor\":\"white\",\"plot_bgcolor\":\"#E5ECF6\",\"polar\":{\"bgcolor\":\"#E5ECF6\",\"angularaxis\":{\"gridcolor\":\"white\",\"linecolor\":\"white\",\"ticks\":\"\"},\"radialaxis\":{\"gridcolor\":\"white\",\"linecolor\":\"white\",\"ticks\":\"\"}},\"ternary\":{\"bgcolor\":\"#E5ECF6\",\"aaxis\":{\"gridcolor\":\"white\",\"linecolor\":\"white\",\"ticks\":\"\"},\"baxis\":{\"gridcolor\":\"white\",\"linecolor\":\"white\",\"ticks\":\"\"},\"caxis\":{\"gridcolor\":\"white\",\"linecolor\":\"white\",\"ticks\":\"\"}},\"coloraxis\":{\"colorbar\":{\"outlinewidth\":0,\"ticks\":\"\"}},\"colorscale\":{\"sequential\":[[0.0,\"#0d0887\"],[0.1111111111111111,\"#46039f\"],[0.2222222222222222,\"#7201a8\"],[0.3333333333333333,\"#9c179e\"],[0.4444444444444444,\"#bd3786\"],[0.5555555555555556,\"#d8576b\"],[0.6666666666666666,\"#ed7953\"],[0.7777777777777778,\"#fb9f3a\"],[0.8888888888888888,\"#fdca26\"],[1.0,\"#f0f921\"]],\"sequentialminus\":[[0.0,\"#0d0887\"],[0.1111111111111111,\"#46039f\"],[0.2222222222222222,\"#7201a8\"],[0.3333333333333333,\"#9c179e\"],[0.4444444444444444,\"#bd3786\"],[0.5555555555555556,\"#d8576b\"],[0.6666666666666666,\"#ed7953\"],[0.7777777777777778,\"#fb9f3a\"],[0.8888888888888888,\"#fdca26\"],[1.0,\"#f0f921\"]],\"diverging\":[[0,\"#8e0152\"],[0.1,\"#c51b7d\"],[0.2,\"#de77ae\"],[0.3,\"#f1b6da\"],[0.4,\"#fde0ef\"],[0.5,\"#f7f7f7\"],[0.6,\"#e6f5d0\"],[0.7,\"#b8e186\"],[0.8,\"#7fbc41\"],[0.9,\"#4d9221\"],[1,\"#276419\"]]},\"xaxis\":{\"gridcolor\":\"white\",\"linecolor\":\"white\",\"ticks\":\"\",\"title\":{\"standoff\":15},\"zerolinecolor\":\"white\",\"automargin\":true,\"zerolinewidth\":2},\"yaxis\":{\"gridcolor\":\"white\",\"linecolor\":\"white\",\"ticks\":\"\",\"title\":{\"standoff\":15},\"zerolinecolor\":\"white\",\"automargin\":true,\"zerolinewidth\":2},\"scene\":{\"xaxis\":{\"backgroundcolor\":\"#E5ECF6\",\"gridcolor\":\"white\",\"linecolor\":\"white\",\"showbackground\":true,\"ticks\":\"\",\"zerolinecolor\":\"white\",\"gridwidth\":2},\"yaxis\":{\"backgroundcolor\":\"#E5ECF6\",\"gridcolor\":\"white\",\"linecolor\":\"white\",\"showbackground\":true,\"ticks\":\"\",\"zerolinecolor\":\"white\",\"gridwidth\":2},\"zaxis\":{\"backgroundcolor\":\"#E5ECF6\",\"gridcolor\":\"white\",\"linecolor\":\"white\",\"showbackground\":true,\"ticks\":\"\",\"zerolinecolor\":\"white\",\"gridwidth\":2}},\"shapedefaults\":{\"line\":{\"color\":\"#2a3f5f\"}},\"annotationdefaults\":{\"arrowcolor\":\"#2a3f5f\",\"arrowhead\":0,\"arrowwidth\":1},\"geo\":{\"bgcolor\":\"white\",\"landcolor\":\"#E5ECF6\",\"subunitcolor\":\"white\",\"showland\":true,\"showlakes\":true,\"lakecolor\":\"white\"},\"title\":{\"x\":0.05},\"mapbox\":{\"style\":\"light\"}}},\"legend\":{\"tracegroupgap\":0},\"margin\":{\"t\":60}},                        {\"responsive\": true}                    ).then(function(){\n",
       "                            \n",
       "var gd = document.getElementById('11d068b3-76ec-4d9e-ad16-9176909ee6fd');\n",
       "var x = new MutationObserver(function (mutations, observer) {{\n",
       "        var display = window.getComputedStyle(gd).display;\n",
       "        if (!display || display === 'none') {{\n",
       "            console.log([gd, 'removed!']);\n",
       "            Plotly.purge(gd);\n",
       "            observer.disconnect();\n",
       "        }}\n",
       "}});\n",
       "\n",
       "// Listen for the removal of the full notebook cells\n",
       "var notebookContainer = gd.closest('#notebook-container');\n",
       "if (notebookContainer) {{\n",
       "    x.observe(notebookContainer, {childList: true});\n",
       "}}\n",
       "\n",
       "// Listen for the clearing of the current output cell\n",
       "var outputEl = gd.closest('.output');\n",
       "if (outputEl) {{\n",
       "    x.observe(outputEl, {childList: true});\n",
       "}}\n",
       "\n",
       "                        })                };                });            </script>        </div>"
      ]
     },
     "metadata": {},
     "output_type": "display_data"
    }
   ],
   "source": [
    "plot = px.pie(df, values=df['rating'].value_counts().values, names=df['rating'].value_counts().index)\n",
    "plot.update_traces(text=df['rating'].value_counts().index)\n",
    "plot.show()"
   ]
  },
  {
   "cell_type": "code",
   "execution_count": null,
   "id": "7d06930e",
   "metadata": {},
   "outputs": [],
   "source": []
  }
 ],
 "metadata": {
  "kernelspec": {
   "display_name": "Python 3 (ipykernel)",
   "language": "python",
   "name": "python3"
  },
  "language_info": {
   "codemirror_mode": {
    "name": "ipython",
    "version": 3
   },
   "file_extension": ".py",
   "mimetype": "text/x-python",
   "name": "python",
   "nbconvert_exporter": "python",
   "pygments_lexer": "ipython3",
   "version": "3.9.13"
  }
 },
 "nbformat": 4,
 "nbformat_minor": 5
}
