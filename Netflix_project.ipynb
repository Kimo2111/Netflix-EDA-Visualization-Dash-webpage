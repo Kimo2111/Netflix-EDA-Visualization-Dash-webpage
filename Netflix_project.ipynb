{
 "cells": [
  {
   "cell_type": "markdown",
   "id": "44265144",
   "metadata": {},
   "source": [
    "# Comprehensive Analysis of Netflix Movies, Series, and Actors"
   ]
  },
  {
   "cell_type": "markdown",
   "id": "5b84cc0d",
   "metadata": {},
   "source": [
    "This project provides an in-depth analysis of Netflix's extensive catalog of movies and series, including detailed insights into actors, genres, and content attributes. By examining a wide array of data, including release years, genres, descriptions, and other key metrics, the project aims to uncover patterns and trends within Netflix’s offerings."
   ]
  },
  {
   "cell_type": "markdown",
   "id": "05b14eb4",
   "metadata": {},
   "source": [
    "###### Key Objectives"
   ]
  },
  {
   "cell_type": "markdown",
   "id": "f627035d",
   "metadata": {},
   "source": [
    "- Content Analysis: Explore relationships between movies, series, actors, genres, and countries of origin.\n",
    "- Trend Visualization: Utilize various visualizations to identify trends in release years, genres, and content popularity over time.\n",
    "- Word Cloud Generation: Create word clouds to visualize the most frequently used words in content descriptions, providing insights into common themes and topics.\n",
    "- Time-to-Add Analysis: Analyze the time taken for Netflix to add content from its release date to the platform, using histograms and other visualizations to highlight trends and intervals."
   ]
  },
  {
   "cell_type": "markdown",
   "id": "27b098f9",
   "metadata": {},
   "source": [
    "# Imports"
   ]
  },
  {
   "cell_type": "code",
   "execution_count": null,
   "id": "f2447c4d",
   "metadata": {},
   "outputs": [],
   "source": [
    "#imports\n",
    "import pandas as pd\n",
    "import numpy as np\n",
    "import plotly.express as px\n",
    "import re\n",
    "from wordcloud import WordCloud, STOPWORDS\n",
    "import plotly.graph_objects as go\n"
   ]
  },
  {
   "cell_type": "code",
   "execution_count": null,
   "id": "9bcb97fb",
   "metadata": {},
   "outputs": [],
   "source": [
    "from dash import Dash, html, dcc\n",
    "from dash.dependencies import Input, Output"
   ]
  },
  {
   "cell_type": "markdown",
   "id": "12159446",
   "metadata": {},
   "source": [
    "# Data Loading"
   ]
  },
  {
   "cell_type": "code",
   "execution_count": null,
   "id": "01e6b41f",
   "metadata": {},
   "outputs": [],
   "source": [
    "df = pd.read_csv(r\"netflix_titles.csv\")\n",
    "df.head()"
   ]
  },
  {
   "cell_type": "code",
   "execution_count": null,
   "id": "5bf4359c",
   "metadata": {},
   "outputs": [],
   "source": [
    "df.info()"
   ]
  },
  {
   "cell_type": "markdown",
   "id": "9a050c25",
   "metadata": {},
   "source": [
    "# Data cleaning"
   ]
  },
  {
   "cell_type": "markdown",
   "id": "01cb42e1",
   "metadata": {},
   "source": [
    "##### Documentation"
   ]
  },
  {
   "cell_type": "markdown",
   "id": "e4292bb8",
   "metadata": {},
   "source": [
    "* A total of 2634 null values for director column - Filled with unknown\n",
    "* 825 Null values for cast column - Filled with unknown\n",
    "* 831 Null values for country - Filled with International\n",
    "* 4 Null values for Rating - Replaced with mode rating value\n",
    "* Split duration column into -> DurationMins(Movies) and NoOfSeasons(TV Shows)\n",
    "* 3 Null values for Duration - If movie fill with mean number of minutes, else fill with mean number of seasons\n",
    "* 10 Null values for Date added - Can be subbed by the release year"
   ]
  },
  {
   "cell_type": "code",
   "execution_count": null,
   "id": "edd2dcd6",
   "metadata": {},
   "outputs": [],
   "source": [
    "df.info()"
   ]
  },
  {
   "cell_type": "code",
   "execution_count": null,
   "id": "109127cc",
   "metadata": {
    "scrolled": true
   },
   "outputs": [],
   "source": [
    "# Checking for null vals\n",
    "df.isnull().sum()"
   ]
  },
  {
   "cell_type": "code",
   "execution_count": null,
   "id": "d5cb0a34",
   "metadata": {},
   "outputs": [],
   "source": [
    "# show_id should be unique ID for every show\n",
    "# Checking if duplicate IDs exist\n",
    "df.duplicated().sum()"
   ]
  },
  {
   "cell_type": "markdown",
   "id": "2fd9a2c1",
   "metadata": {},
   "source": [
    "Let's start by cleaning the null values for director column.\n",
    "\n",
    "First let's check if director column has any relation with cast column by using a data without any null values"
   ]
  },
  {
   "cell_type": "code",
   "execution_count": null,
   "id": "4fd64fc0",
   "metadata": {},
   "outputs": [],
   "source": [
    "\n",
    "cleanedDf = df.dropna()"
   ]
  },
  {
   "cell_type": "code",
   "execution_count": null,
   "id": "beb98be6",
   "metadata": {},
   "outputs": [],
   "source": [
    "cleanedDf['director'].isin(cleanedDf['cast']).value_counts()"
   ]
  },
  {
   "cell_type": "markdown",
   "id": "a57f3543",
   "metadata": {},
   "source": [
    "* Very weak relation between director and cast thus can't assume a value"
   ]
  },
  {
   "cell_type": "code",
   "execution_count": null,
   "id": "e2756b6c",
   "metadata": {},
   "outputs": [],
   "source": [
    "# Fill null vals with unknown in director&cast\n",
    "df['cast'].replace(np.nan, 'unknown', inplace = True)\n",
    "df['director'].replace(np.nan, 'unknown', inplace = True)"
   ]
  },
  {
   "cell_type": "code",
   "execution_count": null,
   "id": "d7693b86",
   "metadata": {},
   "outputs": [],
   "source": [
    "#Fixing country col by replacing all nan values with International\n",
    "df['country'] = df['country'].fillna('International')"
   ]
  },
  {
   "cell_type": "code",
   "execution_count": null,
   "id": "e7f755b6",
   "metadata": {
    "scrolled": true
   },
   "outputs": [],
   "source": [
    "df['rating'].value_counts()"
   ]
  },
  {
   "cell_type": "code",
   "execution_count": null,
   "id": "fdeb56cb",
   "metadata": {},
   "outputs": [],
   "source": [
    "# Replacing rating with most occurent rating\n",
    "df['rating'] = df['rating'].fillna(df['rating'].mode()[0])"
   ]
  },
  {
   "cell_type": "code",
   "execution_count": null,
   "id": "2398e8b3",
   "metadata": {},
   "outputs": [],
   "source": [
    "#Dropping NaN vals in the rest of the data\n",
    "df.dropna(inplace=True)"
   ]
  },
  {
   "cell_type": "code",
   "execution_count": null,
   "id": "4afaa91a",
   "metadata": {},
   "outputs": [],
   "source": [
    "df['duration'].unique()"
   ]
  },
  {
   "cell_type": "code",
   "execution_count": null,
   "id": "c10d6202",
   "metadata": {},
   "outputs": [],
   "source": [
    "# Parse the duration information from a string and separate it into minutes or seasons.\n",
    "#Returns -> tuple: (duration in minutes, number of seasons)\n",
    "\n",
    "def parse_duration(x):\n",
    "    \n",
    "    if isinstance(x, str):\n",
    "        \n",
    "        # Extract minutes\n",
    "        mins_match = re.search(r'(\\d+)\\s*mins?', x, re.IGNORECASE)\n",
    "        if mins_match:\n",
    "            return (int(mins_match.group(1)), 0)\n",
    "        \n",
    "        # Extract seasons\n",
    "        seasons_match = re.search(r'(\\d+)\\s*seasons?', x, re.IGNORECASE)\n",
    "        if seasons_match:\n",
    "            return (0, int(seasons_match.group(1)))\n",
    "    \n",
    "    return (None, None)"
   ]
  },
  {
   "cell_type": "code",
   "execution_count": null,
   "id": "97c47cf0",
   "metadata": {},
   "outputs": [],
   "source": [
    "# Apply the function to create two new columns\n",
    "df[['DurationMins', 'NoOfSeasons']] = df['duration'].apply(lambda x: pd.Series(parse_duration(x)))"
   ]
  },
  {
   "cell_type": "code",
   "execution_count": null,
   "id": "26e8429c",
   "metadata": {},
   "outputs": [],
   "source": [
    "# Final look at our data after cleaning\n",
    "df.info()"
   ]
  },
  {
   "cell_type": "markdown",
   "id": "223dc588",
   "metadata": {},
   "source": [
    "# EDA and Data Visualization"
   ]
  },
  {
   "cell_type": "markdown",
   "id": "a1265357",
   "metadata": {
    "heading_collapsed": true
   },
   "source": [
    "### Ratio between Movies and TV Shows in data set\n",
    "* We'll use Pie chart to visualize the percentage of Shows and Movies in data"
   ]
  },
  {
   "cell_type": "code",
   "execution_count": null,
   "id": "f0f11b01",
   "metadata": {
    "hidden": true
   },
   "outputs": [],
   "source": [
    "# Ratio between TV Shows and Movies on netflix\n",
    "plot = px.pie(df, values=df['type'].value_counts().values, names=df['type'].value_counts().index, \n",
    "color_discrete_sequence=['#db0000', '#000000'], title='Number of TV Shows vs Movies on Netflix'\n",
    "             )\n",
    "plot.update_layout(title_font_color='#000000')\n",
    "plot.show()"
   ]
  },
  {
   "cell_type": "markdown",
   "id": "c3d8c138",
   "metadata": {
    "heading_collapsed": true
   },
   "source": [
    "### Top 10 contributing countries\n",
    "* For this we'll use a bar chart to summarise the content by each country"
   ]
  },
  {
   "cell_type": "code",
   "execution_count": null,
   "id": "dad2561b",
   "metadata": {
    "hidden": true
   },
   "outputs": [],
   "source": [
    "# Filtering our data by getting the top 10 contributing countries and putting it in a separte df\n",
    "top10 = df['country'].value_counts().nlargest(11).index\n",
    "top10df = df[df['country'].isin(top10)]\n",
    "plot = px.histogram(top10df, y='country', color='type', orientation='h', \n",
    "color_discrete_map= {\"Movie\" : 'red', \"TV Show\" : \"black\"},\n",
    "title=\"Top 10 contributing Countries ranked\", barmode='group')\n",
    "plot.update_layout(title_font_color='#000000', xaxis_title='Number of content')\n",
    "plot.update_yaxes(categoryorder=\"total ascending\", title='Country')\n",
    "plot.show()"
   ]
  },
  {
   "cell_type": "markdown",
   "id": "9eba76ad",
   "metadata": {
    "heading_collapsed": true
   },
   "source": [
    "### When did netflix add most of it's content?\n",
    "* We can use a line chart to summarise the distribution of content added through the years.\n",
    "* We'll use a stacked bar chart to display the month where most content get added"
   ]
  },
  {
   "cell_type": "code",
   "execution_count": null,
   "id": "66861aae",
   "metadata": {
    "hidden": true
   },
   "outputs": [],
   "source": [
    "# Filtering our data by creating a new dataframe that holds the value count for each type for each year\n",
    "# Creating the new data frame\n",
    "s = df.groupby('year_added')['type'].value_counts()\n",
    "newdf = pd.DataFrame(data=s.values, index=s.index)\n",
    "newdf = newdf.reset_index()\n",
    "newdf.rename(columns={0:'Count'}, inplace=True)\n",
    "# Visualizing the data\n",
    "plot = px.line(newdf, x='year_added', y='Count', color='type', markers=True, \n",
    "               color_discrete_map = {\"Movie\" : \"#db0000\", \"TV Show\" : \"#000000\"})\n",
    "plot.update_layout(title='Line chart for content added among the years',\n",
    "    xaxis_title='Year',\n",
    "    yaxis_title='Number of content added', hovermode='x unified')\n",
    "plot.show()"
   ]
  },
  {
   "cell_type": "markdown",
   "id": "0f4780d4",
   "metadata": {
    "heading_collapsed": true
   },
   "source": [
    "### How many content was added in each month of the year?"
   ]
  },
  {
   "cell_type": "code",
   "execution_count": null,
   "id": "e7871e51",
   "metadata": {
    "hidden": true
   },
   "outputs": [],
   "source": [
    "# Filtering our data by creating a new dataframe that holds the value count for each type for each month\n",
    "# Creating the new data frame\n",
    "s = df.groupby('month_added')['type'].value_counts()\n",
    "newdf = pd.DataFrame(data=s.values, index=s.index)\n",
    "newdf = newdf.reset_index()\n",
    "newdf.rename(columns={0:'Count'}, inplace=True)\n",
    "# Visualizing the data\n",
    "plot = px.bar(newdf, x='month_added', y='Count', color='type', \n",
    "               color_discrete_map = {\"Movie\" : \"#db0000\", \"TV Show\" : \"#000000\"})\n",
    "plot.update_layout(title='Stacked Bar chart for content added in each month',\n",
    "    xaxis_title='Month',\n",
    "    yaxis_title='Number of content added', hovermode='x unified')\n",
    "plot.show()"
   ]
  },
  {
   "cell_type": "markdown",
   "id": "a0f43b28",
   "metadata": {
    "heading_collapsed": true
   },
   "source": [
    "### Top 25 most actors that appeared on Netflix.\n",
    "* For this we can use a bar chart. It will summarise the distribution of actors based on number of appearances."
   ]
  },
  {
   "cell_type": "code",
   "execution_count": null,
   "id": "b82093de",
   "metadata": {
    "hidden": true
   },
   "outputs": [],
   "source": [
    "# Creating new dataframe without the unknown cast rows\n",
    "castdf = df[df['cast'] != 'unknown']"
   ]
  },
  {
   "cell_type": "code",
   "execution_count": null,
   "id": "49e162dc",
   "metadata": {
    "hidden": true
   },
   "outputs": [],
   "source": [
    "# Fucntion to each row and split the cast string into a list, and then creating a dictionary with the names\n",
    "# Everytime the name appears the value is incremented by 1 \n",
    "# This function returns a dictionary for the name of the actor as key and the value is the number of appearance\n",
    "def get_actor_appearance(x, cdic):\n",
    "    templist = x.split(', ')\n",
    "    for name in templist:\n",
    "        if name in cdic:\n",
    "            cdic[name] = cdic[name] + 1\n",
    "        else:\n",
    "            cdic[name] = 1\n",
    "    \n",
    "    return cdic\n"
   ]
  },
  {
   "cell_type": "code",
   "execution_count": null,
   "id": "ff7d825e",
   "metadata": {
    "hidden": true,
    "scrolled": false
   },
   "outputs": [],
   "source": [
    "# Applying the function and switching the dictionary into a pandas series\n",
    "castdict = {}\n",
    "castdf['cast'].apply(lambda x: get_actor_appearance(x, castdict))\n",
    "castdict = pd.Series(castdict)\n",
    "castdict.describe()"
   ]
  },
  {
   "cell_type": "code",
   "execution_count": null,
   "id": "b07028d4",
   "metadata": {
    "hidden": true
   },
   "outputs": [],
   "source": [
    "# Taking the top 25 actor appearances and plotting the graph\n",
    "castdictsample = castdict.nlargest(25)\n",
    "plot = px.bar(castdictsample, x=castdictsample.index, y=castdictsample.values)\n",
    "plot.update_layout(title = 'Top 25 actors by appearance', xaxis_title= 'Actor name', yaxis=dict(title='Number of appearances'))\n",
    "plot.update_traces(marker_color='red')\n",
    "plot.show()"
   ]
  },
  {
   "cell_type": "markdown",
   "id": "a494ef76",
   "metadata": {
    "heading_collapsed": true
   },
   "source": [
    "### Pie chart for the Ratings on Netflix Content\n",
    "\n",
    "* For this we can use a pie chart. It will summarise the distribution of content based on ratings."
   ]
  },
  {
   "cell_type": "code",
   "execution_count": null,
   "id": "1ef71d6d",
   "metadata": {
    "hidden": true
   },
   "outputs": [],
   "source": [
    "# Drawing the pie chart\n",
    "plot = px.pie(df, values=df['rating'].value_counts().values, names=df['rating'].value_counts().index)\n",
    "plot.update_traces(text=df['rating'].value_counts().index)\n",
    "plot.update_layout(title='Pie chart showing ratings')\n",
    "plot.show()"
   ]
  },
  {
   "cell_type": "markdown",
   "id": "1cf561b1",
   "metadata": {
    "heading_collapsed": true
   },
   "source": [
    "### Most watched Genre on Netflix\n",
    "* We'll use a bar chart to visualize all genres available"
   ]
  },
  {
   "cell_type": "code",
   "execution_count": null,
   "id": "639e0fe2",
   "metadata": {
    "hidden": true
   },
   "outputs": [],
   "source": [
    "# Fucntion to get each row and split the listed_in string into a list, and then creating a dictionary with the genres\n",
    "# Everytime the genre appears the value is incremented by 1 \n",
    "# This function returns a dictionary for the genre as key and the value is the number of occurances\n",
    "# Just like the get_actor_appearance function\n",
    "\n",
    "def get_genres(x, cdic):\n",
    "    templist = x.split(', ')\n",
    "    for name in templist:\n",
    "        if name in cdic:\n",
    "            cdic[name] = cdic[name] + 1\n",
    "        else:\n",
    "            cdic[name] = 1\n",
    "    \n",
    "    return cdic\n"
   ]
  },
  {
   "cell_type": "code",
   "execution_count": null,
   "id": "4f0e937e",
   "metadata": {
    "hidden": true,
    "scrolled": false
   },
   "outputs": [],
   "source": [
    "# Applying the function\n",
    "gdict = {}\n",
    "df['listed_in'].apply(lambda x: get_genres(x, gdict))\n",
    "# Switching the dictionary to a series\n",
    "gdict = pd.Series(gdict)\n",
    "# Plotting the graph\n",
    "plot = px.bar(gdict, y=gdict.index, x=gdict.values, orientation='h', title = 'Most Watched Genres')\n",
    "plot.update_traces(marker_color='#db0000')\n",
    "plot.update_layout(width=1000, height=1000, yaxis_title='Genre', xaxis_title='Count')\n",
    "plot.update_yaxes(categoryorder=\"total ascending\")\n",
    "plot.show()"
   ]
  },
  {
   "cell_type": "code",
   "execution_count": null,
   "id": "01b05cd1",
   "metadata": {
    "hidden": true
   },
   "outputs": [],
   "source": [
    "df.head()"
   ]
  },
  {
   "cell_type": "markdown",
   "id": "66fc044e",
   "metadata": {
    "heading_collapsed": true
   },
   "source": [
    "### The Distribution of number of minutes for movies\n",
    "* We'll use a violin plot to see the distribution of minutes "
   ]
  },
  {
   "cell_type": "code",
   "execution_count": null,
   "id": "afaee81b",
   "metadata": {
    "hidden": true
   },
   "outputs": [],
   "source": [
    "movies = df[df['type'] == 'Movie']\n",
    "plot = px.violin(movies, x='DurationMins', title='Distribution of Minutes for Movies')\n",
    "# Customize layout\n",
    "plot.update_layout(\n",
    "    xaxis_title='Duration (Minutes)',\n",
    "    yaxis_title='Density',\n",
    "    bargap=0.2,  # Gap between bars\n",
    "    title_font_size=20,\n",
    ")\n",
    "plot.update_traces(marker_color='#000000')\n",
    "plot.show()"
   ]
  },
  {
   "cell_type": "markdown",
   "id": "88367bb4",
   "metadata": {
    "heading_collapsed": true
   },
   "source": [
    "### The Distribution of number of seasons for TV shows\n",
    "* We'll also use a violin plot to see the distribution of seasons "
   ]
  },
  {
   "cell_type": "code",
   "execution_count": null,
   "id": "469b71aa",
   "metadata": {
    "hidden": true
   },
   "outputs": [],
   "source": [
    "seasons = df[df['type'] == 'TV Show']\n",
    "plot = px.violin(seasons, x='NoOfSeasons', title='Distribution of Seasons for TV shows')\n",
    "# Customize layout\n",
    "plot.update_layout(\n",
    "    xaxis_title='Duration (Minutes)',\n",
    "    yaxis_title='Density',\n",
    "    bargap=0.2,  # Gap between bars\n",
    "    title_font_size=20,\n",
    ")\n",
    "plot.update_traces(marker_color='#db0000')\n",
    "plot.show()"
   ]
  },
  {
   "cell_type": "markdown",
   "id": "34813af4",
   "metadata": {
    "heading_collapsed": true
   },
   "source": [
    "### How fast does netflix add the content to it's platform?\n",
    "* We'll use a histogram to visualize the time intervals between content release and its addition to Netflix."
   ]
  },
  {
   "cell_type": "code",
   "execution_count": null,
   "id": "95e681ab",
   "metadata": {
    "hidden": true
   },
   "outputs": [],
   "source": [
    "df['YearsToBeAdded'] = df['year_added'] - df['release_year'] "
   ]
  },
  {
   "cell_type": "code",
   "execution_count": null,
   "id": "c397136a",
   "metadata": {
    "hidden": true
   },
   "outputs": [],
   "source": [
    "# Create a scatter plot\n",
    "plot = px.histogram(df, x='YearsToBeAdded', title='Time to add content to Netflix')\n",
    "# Customize layout\n",
    "plot.update_layout(\n",
    "    xaxis_title='Release Year',\n",
    "    yaxis_title='Year Added',\n",
    "    title_font_size=20\n",
    ")\n",
    "plot.update_traces(marker_color='#000000')\n",
    "\n",
    "plot.show()"
   ]
  },
  {
   "cell_type": "markdown",
   "id": "925a3517",
   "metadata": {
    "heading_collapsed": true
   },
   "source": [
    "### Most Frequent Words in Netflix Content Descriptions\n",
    "* The word cloud displays the most frequently occurring words in the content descriptions. This visualization helps us understand the common themes and characteristics of content on Netflix."
   ]
  },
  {
   "cell_type": "code",
   "execution_count": null,
   "id": "ec7d2597",
   "metadata": {
    "hidden": true
   },
   "outputs": [],
   "source": [
    "# Combine all descriptions into a single string\n",
    "text = ' '.join(df['description'].dropna())"
   ]
  },
  {
   "cell_type": "code",
   "execution_count": null,
   "id": "bc7a2633",
   "metadata": {
    "hidden": true
   },
   "outputs": [],
   "source": [
    "# Generate the word cloud\n",
    "wordcloud = WordCloud(width=800, height=400, background_color='white', stopwords=STOPWORDS).generate(text)\n",
    "\n",
    "# Convert word cloud to image array\n",
    "wordcloud_image = np.array(wordcloud.to_image())"
   ]
  },
  {
   "cell_type": "code",
   "execution_count": null,
   "id": "262671bf",
   "metadata": {
    "hidden": true
   },
   "outputs": [],
   "source": [
    "# Create a plotly figure with the word cloud image\n",
    "fig = go.Figure()\n",
    "\n",
    "fig.add_trace(go.Image(z=wordcloud_image))\n",
    "\n",
    "# Customize layout\n",
    "fig.update_layout(\n",
    "    title='Word Cloud of Descriptions',\n",
    "    height=500,\n",
    "    width=800\n",
    ")\n",
    "\n",
    "fig.show()"
   ]
  },
  {
   "cell_type": "markdown",
   "id": "398def6e",
   "metadata": {
    "heading_collapsed": true
   },
   "source": [
    "# Creating Dash Application for more interactive charts!"
   ]
  },
  {
   "cell_type": "code",
   "execution_count": null,
   "id": "1f8b6f04",
   "metadata": {
    "hidden": true
   },
   "outputs": [],
   "source": [
    "countries = []\n",
    "def get_all_countries(x, countriesList):\n",
    "    clist = x.split(', ')\n",
    "    for country in clist:\n",
    "        if country not in countriesList:\n",
    "            if country != '':\n",
    "                countriesList.append(country)\n",
    "        else:\n",
    "            pass\n",
    "    return countriesList\n",
    "df['country'].apply(lambda x: get_all_countries(x, countries))\n",
    "\n",
    "\n",
    "    "
   ]
  },
  {
   "cell_type": "code",
   "execution_count": null,
   "id": "a2b370b1",
   "metadata": {
    "hidden": true
   },
   "outputs": [],
   "source": [
    "app = Dash(__name__)\n",
    "app.layout = html.Div(children=[\n",
    "    \n",
    "    \n",
    "    ############################################### First Graph #################################################\n",
    "    html.Div(style={'backgroundColor' : '#000000'}, \n",
    "        children=[\n",
    "    \n",
    "    html.H1(children='Hello Kimo!', style={'color': '#db0000'}),\n",
    "    \n",
    "    html.Div(children='This is your first Dash webapp!', style={'textAlign' : 'center','color': '#db0000'}),\n",
    "# Dropdown for first graph\n",
    "    dcc.Dropdown(\n",
    "                id='slct_country', \n",
    "                options=countries,\n",
    "                value='All', placeholder='All', maxHeight=100, \n",
    "                 style={'width':'65%'}\n",
    "                  ),\n",
    "    ### DCC 1st graph\n",
    "    dcc.Graph(id='actor-graph', figure={}),\n",
    "                  ]),\n",
    "    \n",
    "    ############################################### Second Graph #################################################\n",
    "    \n",
    "    html.Div(style={'backgroundColor' : '#000000'},\n",
    "            children=[\n",
    "                    # Multi mode Dropdown for second graph\n",
    "          dcc.Dropdown(id='slct_genre', options=gdict.index, maxHeight=100, \n",
    "                       style={'width' : '50%'}, value=['All'], placeholder='All'),\n",
    "          dcc.Graph(id='genre-graph', figure={}), \n",
    "           ]) \n",
    "\n",
    "])\n",
    "################################################# Top 25 actors #######################################################\n",
    "@app.callback(\n",
    "Output(component_id='actor-graph', component_property='figure'),\n",
    "Input(component_id='slct_country', component_property='value')\n",
    ")\n",
    "def update_graph(slcted_value):\n",
    "    # Create a copy dataframe not to mess with the original dataframe\n",
    "    dff = df.copy()\n",
    "    \n",
    "        \n",
    "   \n",
    "    \n",
    "    # Graph for top 25 actor appearance per origin of movie's country\n",
    "    castdff = dff[dff['cast'] != 'unknown']\n",
    "    \n",
    "    # Check if a condition is selected if not show top 25 among all countries\n",
    "    if slcted_value != 'All':\n",
    "        castdff = castdff[castdff['country'].str.contains(slcted_value)]\n",
    "    else:\n",
    "        pass\n",
    "    # Getting the dictionary for actors and then casting it to a series\n",
    "    actorAppear = {}\n",
    "    castdff['cast'].apply(lambda x: get_actor_appearance(x, actorAppear))\n",
    "    actorAppear = pd.Series(actorAppear)\n",
    "    actorAppear = actorAppear.nlargest(25)\n",
    "    #Drawing the graph\n",
    "    actorAppearanceBar = px.bar(x=actorAppear.index, y=actorAppear.values,\n",
    "    title=\"Top 25 Actors Appearance\", template='plotly_dark', height=500)\n",
    "    actorAppearanceBar.update_traces(marker_color=\"#db0000\")\n",
    "    actorAppearanceBar.update_layout(xaxis_title='Actor Name', yaxis_title='Number of Appearance')\n",
    "    # End of Actor graph code\n",
    "    \n",
    "    \n",
    "    \n",
    "    return actorAppearanceBar    \n",
    "################################################# Genre Graph #######################################################\n",
    "@app.callback(\n",
    "    Output(component_id='genre-graph', component_property='figure'),\n",
    "    Input(component_id='slct_genre', component_property='value')\n",
    "\n",
    ")\n",
    "\n",
    "def update_graph2(slcted_genre):\n",
    "    gdff = df.copy()\n",
    "    # Filtering our DataFrame using the selected genres from the dropdown\n",
    "    if slcted_genre != ['All']:\n",
    "        gdff = df[df['listed_in'].isin([slcted_genre])]\n",
    "        \n",
    "    \n",
    "    graphData = gdff.groupby('country')['listed_in'].value_counts().nlargest(20)\n",
    "    graphData = pd.DataFrame(data=graphData.values, index=graphData.index).reset_index()\n",
    "    graphData.rename(columns={0:'Count'}, inplace=True)\n",
    "    \n",
    "    # Plottin the graph\n",
    "    genreGraph = px.bar(graphData, y='country', x='Count', template='plotly_dark', height=500,\n",
    "                       orientation='h')\n",
    "    genreGraph.update_yaxes(categoryorder=\"total ascending\")\n",
    "    genreGraph.update_traces(marker_color='#db0000')\n",
    "    genreGraph.update_layout(yaxis_title='Country', xaxis_title='Number of Content in the choosen Genres')\n",
    "    \n",
    "    \n",
    "    return genreGraph"
   ]
  },
  {
   "cell_type": "code",
   "execution_count": null,
   "id": "8b53e541",
   "metadata": {
    "hidden": true
   },
   "outputs": [],
   "source": [
    "if __name__ == '__main__':\n",
    "    app.run_server(debug=False)"
   ]
  },
  {
   "cell_type": "code",
   "execution_count": null,
   "id": "47016ebc",
   "metadata": {
    "hidden": true
   },
   "outputs": [],
   "source": []
  },
  {
   "cell_type": "code",
   "execution_count": null,
   "id": "25b87610",
   "metadata": {
    "hidden": true
   },
   "outputs": [],
   "source": []
  },
  {
   "cell_type": "code",
   "execution_count": null,
   "id": "e24b2222",
   "metadata": {
    "hidden": true
   },
   "outputs": [],
   "source": []
  }
 ],
 "metadata": {
  "kernelspec": {
   "display_name": "Python 3",
   "language": "python",
   "name": "python3"
  },
  "language_info": {
   "codemirror_mode": {
    "name": "ipython",
    "version": 3
   },
   "file_extension": ".py",
   "mimetype": "text/x-python",
   "name": "python",
   "nbconvert_exporter": "python",
   "pygments_lexer": "ipython3",
   "version": "3.7.6"
  }
 },
 "nbformat": 4,
 "nbformat_minor": 5
}
